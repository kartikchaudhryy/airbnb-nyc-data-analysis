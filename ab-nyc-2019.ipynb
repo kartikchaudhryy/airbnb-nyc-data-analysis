{
 "cells": [
  {
   "cell_type": "markdown",
   "metadata": {
    "papermill": {
     "duration": 0.056405,
     "end_time": "2021-10-24T18:47:14.676592",
     "exception": false,
     "start_time": "2021-10-24T18:47:14.620187",
     "status": "completed"
    },
    "tags": []
   },
   "source": [
    "Input the libraries we need in this project:"
   ]
  },
  {
   "cell_type": "code",
   "execution_count": 2,
   "metadata": {
    "_cell_guid": "b1076dfc-b9ad-4769-8c92-a6c4dae69d19",
    "_uuid": "8f2839f25d086af736a60e9eeb907d3b93b6e0e5",
    "execution": {
     "iopub.execute_input": "2021-10-24T18:47:14.787948Z",
     "iopub.status.busy": "2021-10-24T18:47:14.786936Z",
     "iopub.status.idle": "2021-10-24T18:47:14.806249Z",
     "shell.execute_reply": "2021-10-24T18:47:14.806809Z",
     "shell.execute_reply.started": "2021-10-23T07:23:26.765799Z"
    },
    "papermill": {
     "duration": 0.076296,
     "end_time": "2021-10-24T18:47:14.806969",
     "exception": false,
     "start_time": "2021-10-24T18:47:14.730673",
     "status": "completed"
    },
    "tags": []
   },
   "outputs": [],
   "source": [
    "import numpy as np # linear algebra\n",
    "import pandas as pd # data processing, CSV file I/O (e.g. pd.read_csv)\n",
    "\n",
    "# Input data files are available in the read-only \"../input/\" directory\n",
    "import os\n",
    "for dirname, _, filenames in os.walk('/kaggle/input'):\n",
    "    for filename in filenames:\n",
    "        print(os.path.join(dirname, filename))"
   ]
  },
  {
   "cell_type": "markdown",
   "metadata": {
    "papermill": {
     "duration": 0.053051,
     "end_time": "2021-10-24T18:47:14.914266",
     "exception": false,
     "start_time": "2021-10-24T18:47:14.861215",
     "status": "completed"
    },
    "tags": []
   },
   "source": [
    "Read file:"
   ]
  },
  {
   "cell_type": "code",
   "execution_count": 4,
   "metadata": {
    "execution": {
     "iopub.execute_input": "2021-10-24T18:47:15.024732Z",
     "iopub.status.busy": "2021-10-24T18:47:15.024147Z",
     "iopub.status.idle": "2021-10-24T18:47:15.317953Z",
     "shell.execute_reply": "2021-10-24T18:47:15.317369Z",
     "shell.execute_reply.started": "2021-10-23T07:23:26.78538Z"
    },
    "papermill": {
     "duration": 0.350652,
     "end_time": "2021-10-24T18:47:15.318070",
     "exception": false,
     "start_time": "2021-10-24T18:47:14.967418",
     "status": "completed"
    },
    "tags": []
   },
   "outputs": [],
   "source": [
    "# csv file read/load\n",
    "data = pd.read_csv('AB_NYC_2019.csv')"
   ]
  },
  {
   "cell_type": "markdown",
   "metadata": {
    "papermill": {
     "duration": 0.053517,
     "end_time": "2021-10-24T18:47:15.425809",
     "exception": false,
     "start_time": "2021-10-24T18:47:15.372292",
     "status": "completed"
    },
    "tags": []
   },
   "source": [
    "To understanding what kind of and how much data we have:"
   ]
  },
  {
   "cell_type": "code",
   "execution_count": 5,
   "metadata": {
    "execution": {
     "iopub.execute_input": "2021-10-24T18:47:15.539787Z",
     "iopub.status.busy": "2021-10-24T18:47:15.539072Z",
     "iopub.status.idle": "2021-10-24T18:47:15.543288Z",
     "shell.execute_reply": "2021-10-24T18:47:15.543771Z",
     "shell.execute_reply.started": "2021-10-23T07:23:27.070172Z"
    },
    "papermill": {
     "duration": 0.063884,
     "end_time": "2021-10-24T18:47:15.543924",
     "exception": false,
     "start_time": "2021-10-24T18:47:15.480040",
     "status": "completed"
    },
    "tags": []
   },
   "outputs": [
    {
     "name": "stdout",
     "output_type": "stream",
     "text": [
      "The field name of data:  Index(['id', 'name', 'host_id', 'host_name', 'neighbourhood_group',\n",
      "       'neighbourhood', 'latitude', 'longitude', 'room_type', 'price',\n",
      "       'minimum_nights', 'number_of_reviews', 'last_review',\n",
      "       'reviews_per_month', 'calculated_host_listings_count',\n",
      "       'availability_365'],\n",
      "      dtype='object')\n",
      "Number of fields in data:  16\n",
      "Number of data in data:  48895\n"
     ]
    }
   ],
   "source": [
    "# The field name of data\n",
    "print(\"The field name of data: \", data.columns)\n",
    "\n",
    "# Number of fields in data\n",
    "print(\"Number of fields in data: \", len(data.columns))\n",
    "\n",
    "# Number of data in data\n",
    "print(\"Number of data in data: \", len(data))"
   ]
  },
  {
   "cell_type": "code",
   "execution_count": 6,
   "metadata": {
    "execution": {
     "iopub.execute_input": "2021-10-24T18:47:15.655332Z",
     "iopub.status.busy": "2021-10-24T18:47:15.654620Z",
     "iopub.status.idle": "2021-10-24T18:47:15.698565Z",
     "shell.execute_reply": "2021-10-24T18:47:15.697999Z",
     "shell.execute_reply.started": "2021-10-23T07:23:27.079618Z"
    },
    "papermill": {
     "duration": 0.101131,
     "end_time": "2021-10-24T18:47:15.698682",
     "exception": false,
     "start_time": "2021-10-24T18:47:15.597551",
     "status": "completed"
    },
    "tags": []
   },
   "outputs": [
    {
     "data": {
      "text/html": [
       "<div>\n",
       "<style scoped>\n",
       "    .dataframe tbody tr th:only-of-type {\n",
       "        vertical-align: middle;\n",
       "    }\n",
       "\n",
       "    .dataframe tbody tr th {\n",
       "        vertical-align: top;\n",
       "    }\n",
       "\n",
       "    .dataframe thead th {\n",
       "        text-align: right;\n",
       "    }\n",
       "</style>\n",
       "<table border=\"1\" class=\"dataframe\">\n",
       "  <thead>\n",
       "    <tr style=\"text-align: right;\">\n",
       "      <th></th>\n",
       "      <th>id</th>\n",
       "      <th>name</th>\n",
       "      <th>host_id</th>\n",
       "      <th>host_name</th>\n",
       "      <th>neighbourhood_group</th>\n",
       "      <th>neighbourhood</th>\n",
       "      <th>latitude</th>\n",
       "      <th>longitude</th>\n",
       "      <th>room_type</th>\n",
       "      <th>price</th>\n",
       "      <th>minimum_nights</th>\n",
       "      <th>number_of_reviews</th>\n",
       "      <th>last_review</th>\n",
       "      <th>reviews_per_month</th>\n",
       "      <th>calculated_host_listings_count</th>\n",
       "      <th>availability_365</th>\n",
       "    </tr>\n",
       "  </thead>\n",
       "  <tbody>\n",
       "    <tr>\n",
       "      <th>0</th>\n",
       "      <td>2539</td>\n",
       "      <td>Clean &amp; quiet apt home by the park</td>\n",
       "      <td>2787</td>\n",
       "      <td>John</td>\n",
       "      <td>Brooklyn</td>\n",
       "      <td>Kensington</td>\n",
       "      <td>40.64749</td>\n",
       "      <td>-73.97237</td>\n",
       "      <td>Private room</td>\n",
       "      <td>149</td>\n",
       "      <td>1</td>\n",
       "      <td>9</td>\n",
       "      <td>2018-10-19</td>\n",
       "      <td>0.21</td>\n",
       "      <td>6</td>\n",
       "      <td>365</td>\n",
       "    </tr>\n",
       "    <tr>\n",
       "      <th>1</th>\n",
       "      <td>2595</td>\n",
       "      <td>Skylit Midtown Castle</td>\n",
       "      <td>2845</td>\n",
       "      <td>Jennifer</td>\n",
       "      <td>Manhattan</td>\n",
       "      <td>Midtown</td>\n",
       "      <td>40.75362</td>\n",
       "      <td>-73.98377</td>\n",
       "      <td>Entire home/apt</td>\n",
       "      <td>225</td>\n",
       "      <td>1</td>\n",
       "      <td>45</td>\n",
       "      <td>2019-05-21</td>\n",
       "      <td>0.38</td>\n",
       "      <td>2</td>\n",
       "      <td>355</td>\n",
       "    </tr>\n",
       "    <tr>\n",
       "      <th>2</th>\n",
       "      <td>3647</td>\n",
       "      <td>THE VILLAGE OF HARLEM....NEW YORK !</td>\n",
       "      <td>4632</td>\n",
       "      <td>Elisabeth</td>\n",
       "      <td>Manhattan</td>\n",
       "      <td>Harlem</td>\n",
       "      <td>40.80902</td>\n",
       "      <td>-73.94190</td>\n",
       "      <td>Private room</td>\n",
       "      <td>150</td>\n",
       "      <td>3</td>\n",
       "      <td>0</td>\n",
       "      <td>NaN</td>\n",
       "      <td>NaN</td>\n",
       "      <td>1</td>\n",
       "      <td>365</td>\n",
       "    </tr>\n",
       "    <tr>\n",
       "      <th>3</th>\n",
       "      <td>3831</td>\n",
       "      <td>Cozy Entire Floor of Brownstone</td>\n",
       "      <td>4869</td>\n",
       "      <td>LisaRoxanne</td>\n",
       "      <td>Brooklyn</td>\n",
       "      <td>Clinton Hill</td>\n",
       "      <td>40.68514</td>\n",
       "      <td>-73.95976</td>\n",
       "      <td>Entire home/apt</td>\n",
       "      <td>89</td>\n",
       "      <td>1</td>\n",
       "      <td>270</td>\n",
       "      <td>2019-07-05</td>\n",
       "      <td>4.64</td>\n",
       "      <td>1</td>\n",
       "      <td>194</td>\n",
       "    </tr>\n",
       "    <tr>\n",
       "      <th>4</th>\n",
       "      <td>5022</td>\n",
       "      <td>Entire Apt: Spacious Studio/Loft by central park</td>\n",
       "      <td>7192</td>\n",
       "      <td>Laura</td>\n",
       "      <td>Manhattan</td>\n",
       "      <td>East Harlem</td>\n",
       "      <td>40.79851</td>\n",
       "      <td>-73.94399</td>\n",
       "      <td>Entire home/apt</td>\n",
       "      <td>80</td>\n",
       "      <td>10</td>\n",
       "      <td>9</td>\n",
       "      <td>2018-11-19</td>\n",
       "      <td>0.10</td>\n",
       "      <td>1</td>\n",
       "      <td>0</td>\n",
       "    </tr>\n",
       "    <tr>\n",
       "      <th>...</th>\n",
       "      <td>...</td>\n",
       "      <td>...</td>\n",
       "      <td>...</td>\n",
       "      <td>...</td>\n",
       "      <td>...</td>\n",
       "      <td>...</td>\n",
       "      <td>...</td>\n",
       "      <td>...</td>\n",
       "      <td>...</td>\n",
       "      <td>...</td>\n",
       "      <td>...</td>\n",
       "      <td>...</td>\n",
       "      <td>...</td>\n",
       "      <td>...</td>\n",
       "      <td>...</td>\n",
       "      <td>...</td>\n",
       "    </tr>\n",
       "    <tr>\n",
       "      <th>48890</th>\n",
       "      <td>36484665</td>\n",
       "      <td>Charming one bedroom - newly renovated rowhouse</td>\n",
       "      <td>8232441</td>\n",
       "      <td>Sabrina</td>\n",
       "      <td>Brooklyn</td>\n",
       "      <td>Bedford-Stuyvesant</td>\n",
       "      <td>40.67853</td>\n",
       "      <td>-73.94995</td>\n",
       "      <td>Private room</td>\n",
       "      <td>70</td>\n",
       "      <td>2</td>\n",
       "      <td>0</td>\n",
       "      <td>NaN</td>\n",
       "      <td>NaN</td>\n",
       "      <td>2</td>\n",
       "      <td>9</td>\n",
       "    </tr>\n",
       "    <tr>\n",
       "      <th>48891</th>\n",
       "      <td>36485057</td>\n",
       "      <td>Affordable room in Bushwick/East Williamsburg</td>\n",
       "      <td>6570630</td>\n",
       "      <td>Marisol</td>\n",
       "      <td>Brooklyn</td>\n",
       "      <td>Bushwick</td>\n",
       "      <td>40.70184</td>\n",
       "      <td>-73.93317</td>\n",
       "      <td>Private room</td>\n",
       "      <td>40</td>\n",
       "      <td>4</td>\n",
       "      <td>0</td>\n",
       "      <td>NaN</td>\n",
       "      <td>NaN</td>\n",
       "      <td>2</td>\n",
       "      <td>36</td>\n",
       "    </tr>\n",
       "    <tr>\n",
       "      <th>48892</th>\n",
       "      <td>36485431</td>\n",
       "      <td>Sunny Studio at Historical Neighborhood</td>\n",
       "      <td>23492952</td>\n",
       "      <td>Ilgar &amp; Aysel</td>\n",
       "      <td>Manhattan</td>\n",
       "      <td>Harlem</td>\n",
       "      <td>40.81475</td>\n",
       "      <td>-73.94867</td>\n",
       "      <td>Entire home/apt</td>\n",
       "      <td>115</td>\n",
       "      <td>10</td>\n",
       "      <td>0</td>\n",
       "      <td>NaN</td>\n",
       "      <td>NaN</td>\n",
       "      <td>1</td>\n",
       "      <td>27</td>\n",
       "    </tr>\n",
       "    <tr>\n",
       "      <th>48893</th>\n",
       "      <td>36485609</td>\n",
       "      <td>43rd St. Time Square-cozy single bed</td>\n",
       "      <td>30985759</td>\n",
       "      <td>Taz</td>\n",
       "      <td>Manhattan</td>\n",
       "      <td>Hell's Kitchen</td>\n",
       "      <td>40.75751</td>\n",
       "      <td>-73.99112</td>\n",
       "      <td>Shared room</td>\n",
       "      <td>55</td>\n",
       "      <td>1</td>\n",
       "      <td>0</td>\n",
       "      <td>NaN</td>\n",
       "      <td>NaN</td>\n",
       "      <td>6</td>\n",
       "      <td>2</td>\n",
       "    </tr>\n",
       "    <tr>\n",
       "      <th>48894</th>\n",
       "      <td>36487245</td>\n",
       "      <td>Trendy duplex in the very heart of Hell's Kitchen</td>\n",
       "      <td>68119814</td>\n",
       "      <td>Christophe</td>\n",
       "      <td>Manhattan</td>\n",
       "      <td>Hell's Kitchen</td>\n",
       "      <td>40.76404</td>\n",
       "      <td>-73.98933</td>\n",
       "      <td>Private room</td>\n",
       "      <td>90</td>\n",
       "      <td>7</td>\n",
       "      <td>0</td>\n",
       "      <td>NaN</td>\n",
       "      <td>NaN</td>\n",
       "      <td>1</td>\n",
       "      <td>23</td>\n",
       "    </tr>\n",
       "  </tbody>\n",
       "</table>\n",
       "<p>48895 rows × 16 columns</p>\n",
       "</div>"
      ],
      "text/plain": [
       "             id                                               name   host_id  \\\n",
       "0          2539                 Clean & quiet apt home by the park      2787   \n",
       "1          2595                              Skylit Midtown Castle      2845   \n",
       "2          3647                THE VILLAGE OF HARLEM....NEW YORK !      4632   \n",
       "3          3831                    Cozy Entire Floor of Brownstone      4869   \n",
       "4          5022   Entire Apt: Spacious Studio/Loft by central park      7192   \n",
       "...         ...                                                ...       ...   \n",
       "48890  36484665    Charming one bedroom - newly renovated rowhouse   8232441   \n",
       "48891  36485057      Affordable room in Bushwick/East Williamsburg   6570630   \n",
       "48892  36485431            Sunny Studio at Historical Neighborhood  23492952   \n",
       "48893  36485609               43rd St. Time Square-cozy single bed  30985759   \n",
       "48894  36487245  Trendy duplex in the very heart of Hell's Kitchen  68119814   \n",
       "\n",
       "           host_name neighbourhood_group       neighbourhood  latitude  \\\n",
       "0               John            Brooklyn          Kensington  40.64749   \n",
       "1           Jennifer           Manhattan             Midtown  40.75362   \n",
       "2          Elisabeth           Manhattan              Harlem  40.80902   \n",
       "3        LisaRoxanne            Brooklyn        Clinton Hill  40.68514   \n",
       "4              Laura           Manhattan         East Harlem  40.79851   \n",
       "...              ...                 ...                 ...       ...   \n",
       "48890        Sabrina            Brooklyn  Bedford-Stuyvesant  40.67853   \n",
       "48891        Marisol            Brooklyn            Bushwick  40.70184   \n",
       "48892  Ilgar & Aysel           Manhattan              Harlem  40.81475   \n",
       "48893            Taz           Manhattan      Hell's Kitchen  40.75751   \n",
       "48894     Christophe           Manhattan      Hell's Kitchen  40.76404   \n",
       "\n",
       "       longitude        room_type  price  minimum_nights  number_of_reviews  \\\n",
       "0      -73.97237     Private room    149               1                  9   \n",
       "1      -73.98377  Entire home/apt    225               1                 45   \n",
       "2      -73.94190     Private room    150               3                  0   \n",
       "3      -73.95976  Entire home/apt     89               1                270   \n",
       "4      -73.94399  Entire home/apt     80              10                  9   \n",
       "...          ...              ...    ...             ...                ...   \n",
       "48890  -73.94995     Private room     70               2                  0   \n",
       "48891  -73.93317     Private room     40               4                  0   \n",
       "48892  -73.94867  Entire home/apt    115              10                  0   \n",
       "48893  -73.99112      Shared room     55               1                  0   \n",
       "48894  -73.98933     Private room     90               7                  0   \n",
       "\n",
       "      last_review  reviews_per_month  calculated_host_listings_count  \\\n",
       "0      2018-10-19               0.21                               6   \n",
       "1      2019-05-21               0.38                               2   \n",
       "2             NaN                NaN                               1   \n",
       "3      2019-07-05               4.64                               1   \n",
       "4      2018-11-19               0.10                               1   \n",
       "...           ...                ...                             ...   \n",
       "48890         NaN                NaN                               2   \n",
       "48891         NaN                NaN                               2   \n",
       "48892         NaN                NaN                               1   \n",
       "48893         NaN                NaN                               6   \n",
       "48894         NaN                NaN                               1   \n",
       "\n",
       "       availability_365  \n",
       "0                   365  \n",
       "1                   355  \n",
       "2                   365  \n",
       "3                   194  \n",
       "4                     0  \n",
       "...                 ...  \n",
       "48890                 9  \n",
       "48891                36  \n",
       "48892                27  \n",
       "48893                 2  \n",
       "48894                23  \n",
       "\n",
       "[48895 rows x 16 columns]"
      ]
     },
     "execution_count": 6,
     "metadata": {},
     "output_type": "execute_result"
    }
   ],
   "source": [
    "# data output\n",
    "data"
   ]
  },
  {
   "cell_type": "code",
   "execution_count": 7,
   "metadata": {
    "execution": {
     "iopub.execute_input": "2021-10-24T18:47:15.815403Z",
     "iopub.status.busy": "2021-10-24T18:47:15.814334Z",
     "iopub.status.idle": "2021-10-24T18:47:15.858135Z",
     "shell.execute_reply": "2021-10-24T18:47:15.858659Z",
     "shell.execute_reply.started": "2021-10-23T07:23:27.137064Z"
    },
    "papermill": {
     "duration": 0.104333,
     "end_time": "2021-10-24T18:47:15.858814",
     "exception": false,
     "start_time": "2021-10-24T18:47:15.754481",
     "status": "completed"
    },
    "tags": []
   },
   "outputs": [
    {
     "name": "stdout",
     "output_type": "stream",
     "text": [
      "<class 'pandas.core.frame.DataFrame'>\n",
      "RangeIndex: 48895 entries, 0 to 48894\n",
      "Data columns (total 16 columns):\n",
      " #   Column                          Non-Null Count  Dtype  \n",
      "---  ------                          --------------  -----  \n",
      " 0   id                              48895 non-null  int64  \n",
      " 1   name                            48879 non-null  object \n",
      " 2   host_id                         48895 non-null  int64  \n",
      " 3   host_name                       48874 non-null  object \n",
      " 4   neighbourhood_group             48895 non-null  object \n",
      " 5   neighbourhood                   48895 non-null  object \n",
      " 6   latitude                        48895 non-null  float64\n",
      " 7   longitude                       48895 non-null  float64\n",
      " 8   room_type                       48895 non-null  object \n",
      " 9   price                           48895 non-null  int64  \n",
      " 10  minimum_nights                  48895 non-null  int64  \n",
      " 11  number_of_reviews               48895 non-null  int64  \n",
      " 12  last_review                     38843 non-null  object \n",
      " 13  reviews_per_month               38843 non-null  float64\n",
      " 14  calculated_host_listings_count  48895 non-null  int64  \n",
      " 15  availability_365                48895 non-null  int64  \n",
      "dtypes: float64(3), int64(7), object(6)\n",
      "memory usage: 6.0+ MB\n"
     ]
    }
   ],
   "source": [
    "# View information such as data field properties and count\n",
    "# For find out how much of datas were null\n",
    "data.info()"
   ]
  },
  {
   "cell_type": "code",
   "execution_count": 8,
   "metadata": {
    "execution": {
     "iopub.execute_input": "2021-10-24T18:47:15.973832Z",
     "iopub.status.busy": "2021-10-24T18:47:15.973061Z",
     "iopub.status.idle": "2021-10-24T18:47:16.014312Z",
     "shell.execute_reply": "2021-10-24T18:47:16.013732Z",
     "shell.execute_reply.started": "2021-10-23T07:23:27.190356Z"
    },
    "papermill": {
     "duration": 0.100487,
     "end_time": "2021-10-24T18:47:16.014429",
     "exception": false,
     "start_time": "2021-10-24T18:47:15.913942",
     "status": "completed"
    },
    "tags": []
   },
   "outputs": [
    {
     "data": {
      "text/plain": [
       "id                                    0\n",
       "name                                 16\n",
       "host_id                               0\n",
       "host_name                            21\n",
       "neighbourhood_group                   0\n",
       "neighbourhood                         0\n",
       "latitude                              0\n",
       "longitude                             0\n",
       "room_type                             0\n",
       "price                                 0\n",
       "minimum_nights                        0\n",
       "number_of_reviews                     0\n",
       "last_review                       10052\n",
       "reviews_per_month                 10052\n",
       "calculated_host_listings_count        0\n",
       "availability_365                      0\n",
       "dtype: int64"
      ]
     },
     "execution_count": 8,
     "metadata": {},
     "output_type": "execute_result"
    }
   ],
   "source": [
    "# Check the number of nulls in each field\n",
    "data.isnull().sum()"
   ]
  },
  {
   "cell_type": "markdown",
   "metadata": {
    "papermill": {
     "duration": 0.055586,
     "end_time": "2021-10-24T18:47:16.127141",
     "exception": false,
     "start_time": "2021-10-24T18:47:16.071555",
     "status": "completed"
    },
    "tags": []
   },
   "source": [
    "I check some datas which were null in last_review and reviews_per_month, and in some of them, the number_of_reviews was 0. So it's obvious that when number_of_reviews was 0 these two columns will be zero. therefore I will put zero on null column. "
   ]
  },
  {
   "cell_type": "code",
   "execution_count": 9,
   "metadata": {
    "execution": {
     "iopub.execute_input": "2021-10-24T18:47:16.243222Z",
     "iopub.status.busy": "2021-10-24T18:47:16.242285Z",
     "iopub.status.idle": "2021-10-24T18:47:16.266645Z",
     "shell.execute_reply": "2021-10-24T18:47:16.267202Z",
     "shell.execute_reply.started": "2021-10-23T07:23:27.23289Z"
    },
    "papermill": {
     "duration": 0.082971,
     "end_time": "2021-10-24T18:47:16.267358",
     "exception": false,
     "start_time": "2021-10-24T18:47:16.184387",
     "status": "completed"
    },
    "tags": []
   },
   "outputs": [],
   "source": [
    "data.loc[data.number_of_reviews==0, 'reviews_per_month'] = 0\n",
    "data.loc[data.number_of_reviews==0, 'last_review'] = 0"
   ]
  },
  {
   "cell_type": "code",
   "execution_count": 10,
   "metadata": {
    "execution": {
     "iopub.execute_input": "2021-10-24T18:47:16.382330Z",
     "iopub.status.busy": "2021-10-24T18:47:16.381376Z",
     "iopub.status.idle": "2021-10-24T18:47:16.411464Z",
     "shell.execute_reply": "2021-10-24T18:47:16.410947Z",
     "shell.execute_reply.started": "2021-10-23T07:23:27.264072Z"
    },
    "papermill": {
     "duration": 0.0887,
     "end_time": "2021-10-24T18:47:16.411599",
     "exception": false,
     "start_time": "2021-10-24T18:47:16.322899",
     "status": "completed"
    },
    "tags": []
   },
   "outputs": [
    {
     "data": {
      "text/html": [
       "<div>\n",
       "<style scoped>\n",
       "    .dataframe tbody tr th:only-of-type {\n",
       "        vertical-align: middle;\n",
       "    }\n",
       "\n",
       "    .dataframe tbody tr th {\n",
       "        vertical-align: top;\n",
       "    }\n",
       "\n",
       "    .dataframe thead th {\n",
       "        text-align: right;\n",
       "    }\n",
       "</style>\n",
       "<table border=\"1\" class=\"dataframe\">\n",
       "  <thead>\n",
       "    <tr style=\"text-align: right;\">\n",
       "      <th></th>\n",
       "      <th>id</th>\n",
       "      <th>name</th>\n",
       "      <th>host_id</th>\n",
       "      <th>host_name</th>\n",
       "      <th>neighbourhood_group</th>\n",
       "      <th>neighbourhood</th>\n",
       "      <th>latitude</th>\n",
       "      <th>longitude</th>\n",
       "      <th>room_type</th>\n",
       "      <th>price</th>\n",
       "      <th>minimum_nights</th>\n",
       "      <th>number_of_reviews</th>\n",
       "      <th>last_review</th>\n",
       "      <th>reviews_per_month</th>\n",
       "      <th>calculated_host_listings_count</th>\n",
       "      <th>availability_365</th>\n",
       "    </tr>\n",
       "  </thead>\n",
       "  <tbody>\n",
       "    <tr>\n",
       "      <th>0</th>\n",
       "      <td>2539</td>\n",
       "      <td>Clean &amp; quiet apt home by the park</td>\n",
       "      <td>2787</td>\n",
       "      <td>John</td>\n",
       "      <td>Brooklyn</td>\n",
       "      <td>Kensington</td>\n",
       "      <td>40.64749</td>\n",
       "      <td>-73.97237</td>\n",
       "      <td>Private room</td>\n",
       "      <td>149</td>\n",
       "      <td>1</td>\n",
       "      <td>9</td>\n",
       "      <td>2018-10-19</td>\n",
       "      <td>0.21</td>\n",
       "      <td>6</td>\n",
       "      <td>365</td>\n",
       "    </tr>\n",
       "    <tr>\n",
       "      <th>1</th>\n",
       "      <td>2595</td>\n",
       "      <td>Skylit Midtown Castle</td>\n",
       "      <td>2845</td>\n",
       "      <td>Jennifer</td>\n",
       "      <td>Manhattan</td>\n",
       "      <td>Midtown</td>\n",
       "      <td>40.75362</td>\n",
       "      <td>-73.98377</td>\n",
       "      <td>Entire home/apt</td>\n",
       "      <td>225</td>\n",
       "      <td>1</td>\n",
       "      <td>45</td>\n",
       "      <td>2019-05-21</td>\n",
       "      <td>0.38</td>\n",
       "      <td>2</td>\n",
       "      <td>355</td>\n",
       "    </tr>\n",
       "    <tr>\n",
       "      <th>2</th>\n",
       "      <td>3647</td>\n",
       "      <td>THE VILLAGE OF HARLEM....NEW YORK !</td>\n",
       "      <td>4632</td>\n",
       "      <td>Elisabeth</td>\n",
       "      <td>Manhattan</td>\n",
       "      <td>Harlem</td>\n",
       "      <td>40.80902</td>\n",
       "      <td>-73.94190</td>\n",
       "      <td>Private room</td>\n",
       "      <td>150</td>\n",
       "      <td>3</td>\n",
       "      <td>0</td>\n",
       "      <td>0</td>\n",
       "      <td>0.00</td>\n",
       "      <td>1</td>\n",
       "      <td>365</td>\n",
       "    </tr>\n",
       "    <tr>\n",
       "      <th>3</th>\n",
       "      <td>3831</td>\n",
       "      <td>Cozy Entire Floor of Brownstone</td>\n",
       "      <td>4869</td>\n",
       "      <td>LisaRoxanne</td>\n",
       "      <td>Brooklyn</td>\n",
       "      <td>Clinton Hill</td>\n",
       "      <td>40.68514</td>\n",
       "      <td>-73.95976</td>\n",
       "      <td>Entire home/apt</td>\n",
       "      <td>89</td>\n",
       "      <td>1</td>\n",
       "      <td>270</td>\n",
       "      <td>2019-07-05</td>\n",
       "      <td>4.64</td>\n",
       "      <td>1</td>\n",
       "      <td>194</td>\n",
       "    </tr>\n",
       "    <tr>\n",
       "      <th>4</th>\n",
       "      <td>5022</td>\n",
       "      <td>Entire Apt: Spacious Studio/Loft by central park</td>\n",
       "      <td>7192</td>\n",
       "      <td>Laura</td>\n",
       "      <td>Manhattan</td>\n",
       "      <td>East Harlem</td>\n",
       "      <td>40.79851</td>\n",
       "      <td>-73.94399</td>\n",
       "      <td>Entire home/apt</td>\n",
       "      <td>80</td>\n",
       "      <td>10</td>\n",
       "      <td>9</td>\n",
       "      <td>2018-11-19</td>\n",
       "      <td>0.10</td>\n",
       "      <td>1</td>\n",
       "      <td>0</td>\n",
       "    </tr>\n",
       "    <tr>\n",
       "      <th>...</th>\n",
       "      <td>...</td>\n",
       "      <td>...</td>\n",
       "      <td>...</td>\n",
       "      <td>...</td>\n",
       "      <td>...</td>\n",
       "      <td>...</td>\n",
       "      <td>...</td>\n",
       "      <td>...</td>\n",
       "      <td>...</td>\n",
       "      <td>...</td>\n",
       "      <td>...</td>\n",
       "      <td>...</td>\n",
       "      <td>...</td>\n",
       "      <td>...</td>\n",
       "      <td>...</td>\n",
       "      <td>...</td>\n",
       "    </tr>\n",
       "    <tr>\n",
       "      <th>48890</th>\n",
       "      <td>36484665</td>\n",
       "      <td>Charming one bedroom - newly renovated rowhouse</td>\n",
       "      <td>8232441</td>\n",
       "      <td>Sabrina</td>\n",
       "      <td>Brooklyn</td>\n",
       "      <td>Bedford-Stuyvesant</td>\n",
       "      <td>40.67853</td>\n",
       "      <td>-73.94995</td>\n",
       "      <td>Private room</td>\n",
       "      <td>70</td>\n",
       "      <td>2</td>\n",
       "      <td>0</td>\n",
       "      <td>0</td>\n",
       "      <td>0.00</td>\n",
       "      <td>2</td>\n",
       "      <td>9</td>\n",
       "    </tr>\n",
       "    <tr>\n",
       "      <th>48891</th>\n",
       "      <td>36485057</td>\n",
       "      <td>Affordable room in Bushwick/East Williamsburg</td>\n",
       "      <td>6570630</td>\n",
       "      <td>Marisol</td>\n",
       "      <td>Brooklyn</td>\n",
       "      <td>Bushwick</td>\n",
       "      <td>40.70184</td>\n",
       "      <td>-73.93317</td>\n",
       "      <td>Private room</td>\n",
       "      <td>40</td>\n",
       "      <td>4</td>\n",
       "      <td>0</td>\n",
       "      <td>0</td>\n",
       "      <td>0.00</td>\n",
       "      <td>2</td>\n",
       "      <td>36</td>\n",
       "    </tr>\n",
       "    <tr>\n",
       "      <th>48892</th>\n",
       "      <td>36485431</td>\n",
       "      <td>Sunny Studio at Historical Neighborhood</td>\n",
       "      <td>23492952</td>\n",
       "      <td>Ilgar &amp; Aysel</td>\n",
       "      <td>Manhattan</td>\n",
       "      <td>Harlem</td>\n",
       "      <td>40.81475</td>\n",
       "      <td>-73.94867</td>\n",
       "      <td>Entire home/apt</td>\n",
       "      <td>115</td>\n",
       "      <td>10</td>\n",
       "      <td>0</td>\n",
       "      <td>0</td>\n",
       "      <td>0.00</td>\n",
       "      <td>1</td>\n",
       "      <td>27</td>\n",
       "    </tr>\n",
       "    <tr>\n",
       "      <th>48893</th>\n",
       "      <td>36485609</td>\n",
       "      <td>43rd St. Time Square-cozy single bed</td>\n",
       "      <td>30985759</td>\n",
       "      <td>Taz</td>\n",
       "      <td>Manhattan</td>\n",
       "      <td>Hell's Kitchen</td>\n",
       "      <td>40.75751</td>\n",
       "      <td>-73.99112</td>\n",
       "      <td>Shared room</td>\n",
       "      <td>55</td>\n",
       "      <td>1</td>\n",
       "      <td>0</td>\n",
       "      <td>0</td>\n",
       "      <td>0.00</td>\n",
       "      <td>6</td>\n",
       "      <td>2</td>\n",
       "    </tr>\n",
       "    <tr>\n",
       "      <th>48894</th>\n",
       "      <td>36487245</td>\n",
       "      <td>Trendy duplex in the very heart of Hell's Kitchen</td>\n",
       "      <td>68119814</td>\n",
       "      <td>Christophe</td>\n",
       "      <td>Manhattan</td>\n",
       "      <td>Hell's Kitchen</td>\n",
       "      <td>40.76404</td>\n",
       "      <td>-73.98933</td>\n",
       "      <td>Private room</td>\n",
       "      <td>90</td>\n",
       "      <td>7</td>\n",
       "      <td>0</td>\n",
       "      <td>0</td>\n",
       "      <td>0.00</td>\n",
       "      <td>1</td>\n",
       "      <td>23</td>\n",
       "    </tr>\n",
       "  </tbody>\n",
       "</table>\n",
       "<p>48895 rows × 16 columns</p>\n",
       "</div>"
      ],
      "text/plain": [
       "             id                                               name   host_id  \\\n",
       "0          2539                 Clean & quiet apt home by the park      2787   \n",
       "1          2595                              Skylit Midtown Castle      2845   \n",
       "2          3647                THE VILLAGE OF HARLEM....NEW YORK !      4632   \n",
       "3          3831                    Cozy Entire Floor of Brownstone      4869   \n",
       "4          5022   Entire Apt: Spacious Studio/Loft by central park      7192   \n",
       "...         ...                                                ...       ...   \n",
       "48890  36484665    Charming one bedroom - newly renovated rowhouse   8232441   \n",
       "48891  36485057      Affordable room in Bushwick/East Williamsburg   6570630   \n",
       "48892  36485431            Sunny Studio at Historical Neighborhood  23492952   \n",
       "48893  36485609               43rd St. Time Square-cozy single bed  30985759   \n",
       "48894  36487245  Trendy duplex in the very heart of Hell's Kitchen  68119814   \n",
       "\n",
       "           host_name neighbourhood_group       neighbourhood  latitude  \\\n",
       "0               John            Brooklyn          Kensington  40.64749   \n",
       "1           Jennifer           Manhattan             Midtown  40.75362   \n",
       "2          Elisabeth           Manhattan              Harlem  40.80902   \n",
       "3        LisaRoxanne            Brooklyn        Clinton Hill  40.68514   \n",
       "4              Laura           Manhattan         East Harlem  40.79851   \n",
       "...              ...                 ...                 ...       ...   \n",
       "48890        Sabrina            Brooklyn  Bedford-Stuyvesant  40.67853   \n",
       "48891        Marisol            Brooklyn            Bushwick  40.70184   \n",
       "48892  Ilgar & Aysel           Manhattan              Harlem  40.81475   \n",
       "48893            Taz           Manhattan      Hell's Kitchen  40.75751   \n",
       "48894     Christophe           Manhattan      Hell's Kitchen  40.76404   \n",
       "\n",
       "       longitude        room_type  price  minimum_nights  number_of_reviews  \\\n",
       "0      -73.97237     Private room    149               1                  9   \n",
       "1      -73.98377  Entire home/apt    225               1                 45   \n",
       "2      -73.94190     Private room    150               3                  0   \n",
       "3      -73.95976  Entire home/apt     89               1                270   \n",
       "4      -73.94399  Entire home/apt     80              10                  9   \n",
       "...          ...              ...    ...             ...                ...   \n",
       "48890  -73.94995     Private room     70               2                  0   \n",
       "48891  -73.93317     Private room     40               4                  0   \n",
       "48892  -73.94867  Entire home/apt    115              10                  0   \n",
       "48893  -73.99112      Shared room     55               1                  0   \n",
       "48894  -73.98933     Private room     90               7                  0   \n",
       "\n",
       "      last_review  reviews_per_month  calculated_host_listings_count  \\\n",
       "0      2018-10-19               0.21                               6   \n",
       "1      2019-05-21               0.38                               2   \n",
       "2               0               0.00                               1   \n",
       "3      2019-07-05               4.64                               1   \n",
       "4      2018-11-19               0.10                               1   \n",
       "...           ...                ...                             ...   \n",
       "48890           0               0.00                               2   \n",
       "48891           0               0.00                               2   \n",
       "48892           0               0.00                               1   \n",
       "48893           0               0.00                               6   \n",
       "48894           0               0.00                               1   \n",
       "\n",
       "       availability_365  \n",
       "0                   365  \n",
       "1                   355  \n",
       "2                   365  \n",
       "3                   194  \n",
       "4                     0  \n",
       "...                 ...  \n",
       "48890                 9  \n",
       "48891                36  \n",
       "48892                27  \n",
       "48893                 2  \n",
       "48894                23  \n",
       "\n",
       "[48895 rows x 16 columns]"
      ]
     },
     "execution_count": 10,
     "metadata": {},
     "output_type": "execute_result"
    }
   ],
   "source": [
    "data"
   ]
  },
  {
   "cell_type": "markdown",
   "metadata": {
    "papermill": {
     "duration": 0.056202,
     "end_time": "2021-10-24T18:47:16.525910",
     "exception": false,
     "start_time": "2021-10-24T18:47:16.469708",
     "status": "completed"
    },
    "tags": []
   },
   "source": [
    "Without name and host_name data will be useless so remove them"
   ]
  },
  {
   "cell_type": "code",
   "execution_count": 11,
   "metadata": {
    "execution": {
     "iopub.execute_input": "2021-10-24T18:47:16.642310Z",
     "iopub.status.busy": "2021-10-24T18:47:16.641597Z",
     "iopub.status.idle": "2021-10-24T18:47:16.671025Z",
     "shell.execute_reply": "2021-10-24T18:47:16.671556Z",
     "shell.execute_reply.started": "2021-10-23T07:23:27.300913Z"
    },
    "papermill": {
     "duration": 0.089125,
     "end_time": "2021-10-24T18:47:16.671729",
     "exception": false,
     "start_time": "2021-10-24T18:47:16.582604",
     "status": "completed"
    },
    "tags": []
   },
   "outputs": [],
   "source": [
    "# Removing null values in name and host_name fields\n",
    "data = data[pd.notnull(data['name'])]\n",
    "data = data[pd.notnull(data['host_name'])]"
   ]
  },
  {
   "cell_type": "markdown",
   "metadata": {
    "papermill": {
     "duration": 0.056324,
     "end_time": "2021-10-24T18:47:16.785365",
     "exception": false,
     "start_time": "2021-10-24T18:47:16.729041",
     "status": "completed"
    },
    "tags": []
   },
   "source": [
    "So now we check how much datas were null"
   ]
  },
  {
   "cell_type": "code",
   "execution_count": 12,
   "metadata": {
    "execution": {
     "iopub.execute_input": "2021-10-24T18:47:16.901244Z",
     "iopub.status.busy": "2021-10-24T18:47:16.900606Z",
     "iopub.status.idle": "2021-10-24T18:47:16.939911Z",
     "shell.execute_reply": "2021-10-24T18:47:16.940468Z",
     "shell.execute_reply.started": "2021-10-23T07:23:27.336221Z"
    },
    "papermill": {
     "duration": 0.09852,
     "end_time": "2021-10-24T18:47:16.940614",
     "exception": false,
     "start_time": "2021-10-24T18:47:16.842094",
     "status": "completed"
    },
    "tags": []
   },
   "outputs": [
    {
     "data": {
      "text/plain": [
       "id                                0\n",
       "name                              0\n",
       "host_id                           0\n",
       "host_name                         0\n",
       "neighbourhood_group               0\n",
       "neighbourhood                     0\n",
       "latitude                          0\n",
       "longitude                         0\n",
       "room_type                         0\n",
       "price                             0\n",
       "minimum_nights                    0\n",
       "number_of_reviews                 0\n",
       "last_review                       0\n",
       "reviews_per_month                 0\n",
       "calculated_host_listings_count    0\n",
       "availability_365                  0\n",
       "dtype: int64"
      ]
     },
     "execution_count": 12,
     "metadata": {},
     "output_type": "execute_result"
    }
   ],
   "source": [
    "# Recheck the number of nulls in each field\n",
    "data.isnull().sum()"
   ]
  },
  {
   "cell_type": "markdown",
   "metadata": {
    "papermill": {
     "duration": 0.056385,
     "end_time": "2021-10-24T18:47:17.055646",
     "exception": false,
     "start_time": "2021-10-24T18:47:16.999261",
     "status": "completed"
    },
    "tags": []
   },
   "source": [
    "As you see we don't have anyn null data.\n",
    "For next step I gonna findout we have any outliers or not. So we're gonna sort data."
   ]
  },
  {
   "cell_type": "code",
   "execution_count": 18,
   "metadata": {
    "execution": {
     "iopub.execute_input": "2021-10-24T18:47:17.172704Z",
     "iopub.status.busy": "2021-10-24T18:47:17.172102Z",
     "iopub.status.idle": "2021-10-24T18:47:17.217511Z",
     "shell.execute_reply": "2021-10-24T18:47:17.216841Z",
     "shell.execute_reply.started": "2021-10-23T07:23:27.381864Z"
    },
    "papermill": {
     "duration": 0.105138,
     "end_time": "2021-10-24T18:47:17.217638",
     "exception": false,
     "start_time": "2021-10-24T18:47:17.112500",
     "status": "completed"
    },
    "tags": []
   },
   "outputs": [
    {
     "data": {
      "text/html": [
       "<div>\n",
       "<style scoped>\n",
       "    .dataframe tbody tr th:only-of-type {\n",
       "        vertical-align: middle;\n",
       "    }\n",
       "\n",
       "    .dataframe tbody tr th {\n",
       "        vertical-align: top;\n",
       "    }\n",
       "\n",
       "    .dataframe thead th {\n",
       "        text-align: right;\n",
       "    }\n",
       "</style>\n",
       "<table border=\"1\" class=\"dataframe\">\n",
       "  <thead>\n",
       "    <tr style=\"text-align: right;\">\n",
       "      <th></th>\n",
       "      <th>id</th>\n",
       "      <th>name</th>\n",
       "      <th>host_id</th>\n",
       "      <th>host_name</th>\n",
       "      <th>neighbourhood_group</th>\n",
       "      <th>neighbourhood</th>\n",
       "      <th>latitude</th>\n",
       "      <th>longitude</th>\n",
       "      <th>room_type</th>\n",
       "      <th>price</th>\n",
       "      <th>minimum_nights</th>\n",
       "      <th>number_of_reviews</th>\n",
       "      <th>last_review</th>\n",
       "      <th>reviews_per_month</th>\n",
       "      <th>calculated_host_listings_count</th>\n",
       "      <th>availability_365</th>\n",
       "    </tr>\n",
       "  </thead>\n",
       "  <tbody>\n",
       "    <tr>\n",
       "      <th>14119</th>\n",
       "      <td>10830083</td>\n",
       "      <td>Beautiful well kept private home!</td>\n",
       "      <td>56078939</td>\n",
       "      <td>Tony</td>\n",
       "      <td>Staten Island</td>\n",
       "      <td>Tottenville</td>\n",
       "      <td>40.49979</td>\n",
       "      <td>-74.24084</td>\n",
       "      <td>Private room</td>\n",
       "      <td>110</td>\n",
       "      <td>2</td>\n",
       "      <td>0</td>\n",
       "      <td>0</td>\n",
       "      <td>0.00</td>\n",
       "      <td>1</td>\n",
       "      <td>364</td>\n",
       "    </tr>\n",
       "    <tr>\n",
       "      <th>46919</th>\n",
       "      <td>35489384</td>\n",
       "      <td>Cozy Apartment</td>\n",
       "      <td>236186921</td>\n",
       "      <td>Iveth</td>\n",
       "      <td>Staten Island</td>\n",
       "      <td>Tottenville</td>\n",
       "      <td>40.50641</td>\n",
       "      <td>-74.23059</td>\n",
       "      <td>Entire home/apt</td>\n",
       "      <td>75</td>\n",
       "      <td>1</td>\n",
       "      <td>1</td>\n",
       "      <td>2019-06-28</td>\n",
       "      <td>1.00</td>\n",
       "      <td>1</td>\n",
       "      <td>299</td>\n",
       "    </tr>\n",
       "    <tr>\n",
       "      <th>15278</th>\n",
       "      <td>12230928</td>\n",
       "      <td>Villa DiGioia visit NYC via SI</td>\n",
       "      <td>65806798</td>\n",
       "      <td>Michael J</td>\n",
       "      <td>Staten Island</td>\n",
       "      <td>Tottenville</td>\n",
       "      <td>40.50708</td>\n",
       "      <td>-74.24285</td>\n",
       "      <td>Private room</td>\n",
       "      <td>100</td>\n",
       "      <td>2</td>\n",
       "      <td>0</td>\n",
       "      <td>0</td>\n",
       "      <td>0.00</td>\n",
       "      <td>1</td>\n",
       "      <td>365</td>\n",
       "    </tr>\n",
       "    <tr>\n",
       "      <th>1424</th>\n",
       "      <td>639199</td>\n",
       "      <td>Beautiful 4BR/4BA Home, Staten Island, NY City.</td>\n",
       "      <td>1483081</td>\n",
       "      <td>Marina</td>\n",
       "      <td>Staten Island</td>\n",
       "      <td>Tottenville</td>\n",
       "      <td>40.50868</td>\n",
       "      <td>-74.23986</td>\n",
       "      <td>Entire home/apt</td>\n",
       "      <td>299</td>\n",
       "      <td>3</td>\n",
       "      <td>59</td>\n",
       "      <td>2019-07-08</td>\n",
       "      <td>0.82</td>\n",
       "      <td>1</td>\n",
       "      <td>245</td>\n",
       "    </tr>\n",
       "    <tr>\n",
       "      <th>23460</th>\n",
       "      <td>18997371</td>\n",
       "      <td>Cozy Getaway</td>\n",
       "      <td>90104417</td>\n",
       "      <td>Sueann</td>\n",
       "      <td>Staten Island</td>\n",
       "      <td>Tottenville</td>\n",
       "      <td>40.50873</td>\n",
       "      <td>-74.23914</td>\n",
       "      <td>Entire home/apt</td>\n",
       "      <td>85</td>\n",
       "      <td>2</td>\n",
       "      <td>49</td>\n",
       "      <td>2019-07-01</td>\n",
       "      <td>2.08</td>\n",
       "      <td>2</td>\n",
       "      <td>159</td>\n",
       "    </tr>\n",
       "    <tr>\n",
       "      <th>...</th>\n",
       "      <td>...</td>\n",
       "      <td>...</td>\n",
       "      <td>...</td>\n",
       "      <td>...</td>\n",
       "      <td>...</td>\n",
       "      <td>...</td>\n",
       "      <td>...</td>\n",
       "      <td>...</td>\n",
       "      <td>...</td>\n",
       "      <td>...</td>\n",
       "      <td>...</td>\n",
       "      <td>...</td>\n",
       "      <td>...</td>\n",
       "      <td>...</td>\n",
       "      <td>...</td>\n",
       "      <td>...</td>\n",
       "    </tr>\n",
       "    <tr>\n",
       "      <th>3349</th>\n",
       "      <td>2008227</td>\n",
       "      <td>Private Studio in Private Home</td>\n",
       "      <td>9539641</td>\n",
       "      <td>Dianne</td>\n",
       "      <td>Bronx</td>\n",
       "      <td>North Riverdale</td>\n",
       "      <td>40.90804</td>\n",
       "      <td>-73.90005</td>\n",
       "      <td>Private room</td>\n",
       "      <td>53</td>\n",
       "      <td>2</td>\n",
       "      <td>143</td>\n",
       "      <td>2019-06-30</td>\n",
       "      <td>2.13</td>\n",
       "      <td>1</td>\n",
       "      <td>263</td>\n",
       "    </tr>\n",
       "    <tr>\n",
       "      <th>48033</th>\n",
       "      <td>36041232</td>\n",
       "      <td>Nice house room 2 near van cortlandt park</td>\n",
       "      <td>230720704</td>\n",
       "      <td>Pp</td>\n",
       "      <td>Bronx</td>\n",
       "      <td>North Riverdale</td>\n",
       "      <td>40.91167</td>\n",
       "      <td>-73.89566</td>\n",
       "      <td>Private room</td>\n",
       "      <td>40</td>\n",
       "      <td>1</td>\n",
       "      <td>1</td>\n",
       "      <td>2019-07-06</td>\n",
       "      <td>1.00</td>\n",
       "      <td>3</td>\n",
       "      <td>174</td>\n",
       "    </tr>\n",
       "    <tr>\n",
       "      <th>23011</th>\n",
       "      <td>18635370</td>\n",
       "      <td>Fantastic Sunny peaceful room in Riverdale</td>\n",
       "      <td>91385196</td>\n",
       "      <td>Vicdania</td>\n",
       "      <td>Bronx</td>\n",
       "      <td>North Riverdale</td>\n",
       "      <td>40.91169</td>\n",
       "      <td>-73.90564</td>\n",
       "      <td>Private room</td>\n",
       "      <td>50</td>\n",
       "      <td>365</td>\n",
       "      <td>0</td>\n",
       "      <td>0</td>\n",
       "      <td>0.00</td>\n",
       "      <td>1</td>\n",
       "      <td>363</td>\n",
       "    </tr>\n",
       "    <tr>\n",
       "      <th>47790</th>\n",
       "      <td>35916310</td>\n",
       "      <td>Nice house private room</td>\n",
       "      <td>230720704</td>\n",
       "      <td>Pp</td>\n",
       "      <td>Bronx</td>\n",
       "      <td>North Riverdale</td>\n",
       "      <td>40.91234</td>\n",
       "      <td>-73.89417</td>\n",
       "      <td>Private room</td>\n",
       "      <td>40</td>\n",
       "      <td>1</td>\n",
       "      <td>1</td>\n",
       "      <td>2019-06-30</td>\n",
       "      <td>1.00</td>\n",
       "      <td>3</td>\n",
       "      <td>179</td>\n",
       "    </tr>\n",
       "    <tr>\n",
       "      <th>48029</th>\n",
       "      <td>36040561</td>\n",
       "      <td>Nice room to rent 1</td>\n",
       "      <td>230720704</td>\n",
       "      <td>Pp</td>\n",
       "      <td>Bronx</td>\n",
       "      <td>North Riverdale</td>\n",
       "      <td>40.91306</td>\n",
       "      <td>-73.89389</td>\n",
       "      <td>Private room</td>\n",
       "      <td>40</td>\n",
       "      <td>1</td>\n",
       "      <td>1</td>\n",
       "      <td>2019-07-06</td>\n",
       "      <td>1.00</td>\n",
       "      <td>3</td>\n",
       "      <td>175</td>\n",
       "    </tr>\n",
       "  </tbody>\n",
       "</table>\n",
       "<p>48858 rows × 16 columns</p>\n",
       "</div>"
      ],
      "text/plain": [
       "             id                                             name    host_id  \\\n",
       "14119  10830083                Beautiful well kept private home!   56078939   \n",
       "46919  35489384                                   Cozy Apartment  236186921   \n",
       "15278  12230928                   Villa DiGioia visit NYC via SI   65806798   \n",
       "1424     639199  Beautiful 4BR/4BA Home, Staten Island, NY City.    1483081   \n",
       "23460  18997371                                     Cozy Getaway   90104417   \n",
       "...         ...                                              ...        ...   \n",
       "3349    2008227                   Private Studio in Private Home    9539641   \n",
       "48033  36041232        Nice house room 2 near van cortlandt park  230720704   \n",
       "23011  18635370       Fantastic Sunny peaceful room in Riverdale   91385196   \n",
       "47790  35916310                          Nice house private room  230720704   \n",
       "48029  36040561                              Nice room to rent 1  230720704   \n",
       "\n",
       "       host_name neighbourhood_group    neighbourhood  latitude  longitude  \\\n",
       "14119       Tony       Staten Island      Tottenville  40.49979  -74.24084   \n",
       "46919      Iveth       Staten Island      Tottenville  40.50641  -74.23059   \n",
       "15278  Michael J       Staten Island      Tottenville  40.50708  -74.24285   \n",
       "1424      Marina       Staten Island      Tottenville  40.50868  -74.23986   \n",
       "23460     Sueann       Staten Island      Tottenville  40.50873  -74.23914   \n",
       "...          ...                 ...              ...       ...        ...   \n",
       "3349      Dianne               Bronx  North Riverdale  40.90804  -73.90005   \n",
       "48033         Pp               Bronx  North Riverdale  40.91167  -73.89566   \n",
       "23011   Vicdania               Bronx  North Riverdale  40.91169  -73.90564   \n",
       "47790         Pp               Bronx  North Riverdale  40.91234  -73.89417   \n",
       "48029         Pp               Bronx  North Riverdale  40.91306  -73.89389   \n",
       "\n",
       "             room_type  price  minimum_nights  number_of_reviews last_review  \\\n",
       "14119     Private room    110               2                  0           0   \n",
       "46919  Entire home/apt     75               1                  1  2019-06-28   \n",
       "15278     Private room    100               2                  0           0   \n",
       "1424   Entire home/apt    299               3                 59  2019-07-08   \n",
       "23460  Entire home/apt     85               2                 49  2019-07-01   \n",
       "...                ...    ...             ...                ...         ...   \n",
       "3349      Private room     53               2                143  2019-06-30   \n",
       "48033     Private room     40               1                  1  2019-07-06   \n",
       "23011     Private room     50             365                  0           0   \n",
       "47790     Private room     40               1                  1  2019-06-30   \n",
       "48029     Private room     40               1                  1  2019-07-06   \n",
       "\n",
       "       reviews_per_month  calculated_host_listings_count  availability_365  \n",
       "14119               0.00                               1               364  \n",
       "46919               1.00                               1               299  \n",
       "15278               0.00                               1               365  \n",
       "1424                0.82                               1               245  \n",
       "23460               2.08                               2               159  \n",
       "...                  ...                             ...               ...  \n",
       "3349                2.13                               1               263  \n",
       "48033               1.00                               3               174  \n",
       "23011               0.00                               1               363  \n",
       "47790               1.00                               3               179  \n",
       "48029               1.00                               3               175  \n",
       "\n",
       "[48858 rows x 16 columns]"
      ]
     },
     "execution_count": 18,
     "metadata": {},
     "output_type": "execute_result"
    }
   ],
   "source": [
    "data.sort_values(by=['latitude'])"
   ]
  },
  {
   "cell_type": "markdown",
   "metadata": {
    "papermill": {
     "duration": 0.057593,
     "end_time": "2021-10-24T18:47:17.332907",
     "exception": false,
     "start_time": "2021-10-24T18:47:17.275314",
     "status": "completed"
    },
    "tags": []
   },
   "source": [
    "so as you see latitude datas very close so we don't have any outliers on it. "
   ]
  },
  {
   "cell_type": "code",
   "execution_count": 19,
   "metadata": {
    "execution": {
     "iopub.execute_input": "2021-10-24T18:47:17.461735Z",
     "iopub.status.busy": "2021-10-24T18:47:17.460779Z",
     "iopub.status.idle": "2021-10-24T18:47:17.513867Z",
     "shell.execute_reply": "2021-10-24T18:47:17.514364Z",
     "shell.execute_reply.started": "2021-10-23T07:23:27.433651Z"
    },
    "papermill": {
     "duration": 0.123736,
     "end_time": "2021-10-24T18:47:17.514510",
     "exception": false,
     "start_time": "2021-10-24T18:47:17.390774",
     "status": "completed"
    },
    "tags": []
   },
   "outputs": [
    {
     "data": {
      "text/html": [
       "<div>\n",
       "<style scoped>\n",
       "    .dataframe tbody tr th:only-of-type {\n",
       "        vertical-align: middle;\n",
       "    }\n",
       "\n",
       "    .dataframe tbody tr th {\n",
       "        vertical-align: top;\n",
       "    }\n",
       "\n",
       "    .dataframe thead th {\n",
       "        text-align: right;\n",
       "    }\n",
       "</style>\n",
       "<table border=\"1\" class=\"dataframe\">\n",
       "  <thead>\n",
       "    <tr style=\"text-align: right;\">\n",
       "      <th></th>\n",
       "      <th>id</th>\n",
       "      <th>name</th>\n",
       "      <th>host_id</th>\n",
       "      <th>host_name</th>\n",
       "      <th>neighbourhood_group</th>\n",
       "      <th>neighbourhood</th>\n",
       "      <th>latitude</th>\n",
       "      <th>longitude</th>\n",
       "      <th>room_type</th>\n",
       "      <th>price</th>\n",
       "      <th>minimum_nights</th>\n",
       "      <th>number_of_reviews</th>\n",
       "      <th>last_review</th>\n",
       "      <th>reviews_per_month</th>\n",
       "      <th>calculated_host_listings_count</th>\n",
       "      <th>availability_365</th>\n",
       "    </tr>\n",
       "  </thead>\n",
       "  <tbody>\n",
       "    <tr>\n",
       "      <th>45652</th>\n",
       "      <td>34888503</td>\n",
       "      <td>Charming town of Tottenville right outside NYC</td>\n",
       "      <td>962249</td>\n",
       "      <td>Dora</td>\n",
       "      <td>Staten Island</td>\n",
       "      <td>Tottenville</td>\n",
       "      <td>40.50943</td>\n",
       "      <td>-74.24442</td>\n",
       "      <td>Entire home/apt</td>\n",
       "      <td>70</td>\n",
       "      <td>3</td>\n",
       "      <td>1</td>\n",
       "      <td>2019-07-01</td>\n",
       "      <td>1.00</td>\n",
       "      <td>1</td>\n",
       "      <td>128</td>\n",
       "    </tr>\n",
       "    <tr>\n",
       "      <th>15278</th>\n",
       "      <td>12230928</td>\n",
       "      <td>Villa DiGioia visit NYC via SI</td>\n",
       "      <td>65806798</td>\n",
       "      <td>Michael J</td>\n",
       "      <td>Staten Island</td>\n",
       "      <td>Tottenville</td>\n",
       "      <td>40.50708</td>\n",
       "      <td>-74.24285</td>\n",
       "      <td>Private room</td>\n",
       "      <td>100</td>\n",
       "      <td>2</td>\n",
       "      <td>0</td>\n",
       "      <td>0</td>\n",
       "      <td>0.00</td>\n",
       "      <td>1</td>\n",
       "      <td>365</td>\n",
       "    </tr>\n",
       "    <tr>\n",
       "      <th>14119</th>\n",
       "      <td>10830083</td>\n",
       "      <td>Beautiful well kept private home!</td>\n",
       "      <td>56078939</td>\n",
       "      <td>Tony</td>\n",
       "      <td>Staten Island</td>\n",
       "      <td>Tottenville</td>\n",
       "      <td>40.49979</td>\n",
       "      <td>-74.24084</td>\n",
       "      <td>Private room</td>\n",
       "      <td>110</td>\n",
       "      <td>2</td>\n",
       "      <td>0</td>\n",
       "      <td>0</td>\n",
       "      <td>0.00</td>\n",
       "      <td>1</td>\n",
       "      <td>364</td>\n",
       "    </tr>\n",
       "    <tr>\n",
       "      <th>1424</th>\n",
       "      <td>639199</td>\n",
       "      <td>Beautiful 4BR/4BA Home, Staten Island, NY City.</td>\n",
       "      <td>1483081</td>\n",
       "      <td>Marina</td>\n",
       "      <td>Staten Island</td>\n",
       "      <td>Tottenville</td>\n",
       "      <td>40.50868</td>\n",
       "      <td>-74.23986</td>\n",
       "      <td>Entire home/apt</td>\n",
       "      <td>299</td>\n",
       "      <td>3</td>\n",
       "      <td>59</td>\n",
       "      <td>2019-07-08</td>\n",
       "      <td>0.82</td>\n",
       "      <td>1</td>\n",
       "      <td>245</td>\n",
       "    </tr>\n",
       "    <tr>\n",
       "      <th>23460</th>\n",
       "      <td>18997371</td>\n",
       "      <td>Cozy Getaway</td>\n",
       "      <td>90104417</td>\n",
       "      <td>Sueann</td>\n",
       "      <td>Staten Island</td>\n",
       "      <td>Tottenville</td>\n",
       "      <td>40.50873</td>\n",
       "      <td>-74.23914</td>\n",
       "      <td>Entire home/apt</td>\n",
       "      <td>85</td>\n",
       "      <td>2</td>\n",
       "      <td>49</td>\n",
       "      <td>2019-07-01</td>\n",
       "      <td>2.08</td>\n",
       "      <td>2</td>\n",
       "      <td>159</td>\n",
       "    </tr>\n",
       "    <tr>\n",
       "      <th>...</th>\n",
       "      <td>...</td>\n",
       "      <td>...</td>\n",
       "      <td>...</td>\n",
       "      <td>...</td>\n",
       "      <td>...</td>\n",
       "      <td>...</td>\n",
       "      <td>...</td>\n",
       "      <td>...</td>\n",
       "      <td>...</td>\n",
       "      <td>...</td>\n",
       "      <td>...</td>\n",
       "      <td>...</td>\n",
       "      <td>...</td>\n",
       "      <td>...</td>\n",
       "      <td>...</td>\n",
       "      <td>...</td>\n",
       "    </tr>\n",
       "    <tr>\n",
       "      <th>38562</th>\n",
       "      <td>30325639</td>\n",
       "      <td>Cozy shared studio in a safe neighborhood</td>\n",
       "      <td>21495656</td>\n",
       "      <td>Ramy</td>\n",
       "      <td>Queens</td>\n",
       "      <td>Little Neck</td>\n",
       "      <td>40.76212</td>\n",
       "      <td>-73.71928</td>\n",
       "      <td>Shared room</td>\n",
       "      <td>32</td>\n",
       "      <td>3</td>\n",
       "      <td>1</td>\n",
       "      <td>2018-12-04</td>\n",
       "      <td>0.14</td>\n",
       "      <td>1</td>\n",
       "      <td>88</td>\n",
       "    </tr>\n",
       "    <tr>\n",
       "      <th>45592</th>\n",
       "      <td>34844239</td>\n",
       "      <td>❀ Bright and cozy townhouse | Ideal for famili...</td>\n",
       "      <td>154268909</td>\n",
       "      <td>Malik</td>\n",
       "      <td>Queens</td>\n",
       "      <td>Bellerose</td>\n",
       "      <td>40.74027</td>\n",
       "      <td>-73.71829</td>\n",
       "      <td>Entire home/apt</td>\n",
       "      <td>180</td>\n",
       "      <td>2</td>\n",
       "      <td>0</td>\n",
       "      <td>0</td>\n",
       "      <td>0.00</td>\n",
       "      <td>2</td>\n",
       "      <td>281</td>\n",
       "    </tr>\n",
       "    <tr>\n",
       "      <th>11610</th>\n",
       "      <td>9031216</td>\n",
       "      <td>upstairs apartment  private, spacious</td>\n",
       "      <td>47140247</td>\n",
       "      <td>Hilary</td>\n",
       "      <td>Queens</td>\n",
       "      <td>Bellerose</td>\n",
       "      <td>40.72756</td>\n",
       "      <td>-73.71795</td>\n",
       "      <td>Entire home/apt</td>\n",
       "      <td>42</td>\n",
       "      <td>3</td>\n",
       "      <td>0</td>\n",
       "      <td>0</td>\n",
       "      <td>0.00</td>\n",
       "      <td>1</td>\n",
       "      <td>0</td>\n",
       "    </tr>\n",
       "    <tr>\n",
       "      <th>47208</th>\n",
       "      <td>35638944</td>\n",
       "      <td>☀Bright &amp; sunny townhouse | Perfect for famili...</td>\n",
       "      <td>154268909</td>\n",
       "      <td>Malik</td>\n",
       "      <td>Queens</td>\n",
       "      <td>Bellerose</td>\n",
       "      <td>40.74006</td>\n",
       "      <td>-73.71690</td>\n",
       "      <td>Entire home/apt</td>\n",
       "      <td>240</td>\n",
       "      <td>2</td>\n",
       "      <td>0</td>\n",
       "      <td>0</td>\n",
       "      <td>0.00</td>\n",
       "      <td>2</td>\n",
       "      <td>159</td>\n",
       "    </tr>\n",
       "    <tr>\n",
       "      <th>10920</th>\n",
       "      <td>8423666</td>\n",
       "      <td>\"Bloom of Floral Park\" 1 BR Basement Suite</td>\n",
       "      <td>44361695</td>\n",
       "      <td>Mordeana</td>\n",
       "      <td>Queens</td>\n",
       "      <td>Bellerose</td>\n",
       "      <td>40.73351</td>\n",
       "      <td>-73.71299</td>\n",
       "      <td>Private room</td>\n",
       "      <td>65</td>\n",
       "      <td>2</td>\n",
       "      <td>39</td>\n",
       "      <td>2019-05-29</td>\n",
       "      <td>0.85</td>\n",
       "      <td>1</td>\n",
       "      <td>222</td>\n",
       "    </tr>\n",
       "  </tbody>\n",
       "</table>\n",
       "<p>48858 rows × 16 columns</p>\n",
       "</div>"
      ],
      "text/plain": [
       "             id                                               name    host_id  \\\n",
       "45652  34888503     Charming town of Tottenville right outside NYC     962249   \n",
       "15278  12230928                     Villa DiGioia visit NYC via SI   65806798   \n",
       "14119  10830083                  Beautiful well kept private home!   56078939   \n",
       "1424     639199    Beautiful 4BR/4BA Home, Staten Island, NY City.    1483081   \n",
       "23460  18997371                                       Cozy Getaway   90104417   \n",
       "...         ...                                                ...        ...   \n",
       "38562  30325639          Cozy shared studio in a safe neighborhood   21495656   \n",
       "45592  34844239  ❀ Bright and cozy townhouse | Ideal for famili...  154268909   \n",
       "11610   9031216              upstairs apartment  private, spacious   47140247   \n",
       "47208  35638944  ☀Bright & sunny townhouse | Perfect for famili...  154268909   \n",
       "10920   8423666         \"Bloom of Floral Park\" 1 BR Basement Suite   44361695   \n",
       "\n",
       "       host_name neighbourhood_group neighbourhood  latitude  longitude  \\\n",
       "45652       Dora       Staten Island   Tottenville  40.50943  -74.24442   \n",
       "15278  Michael J       Staten Island   Tottenville  40.50708  -74.24285   \n",
       "14119       Tony       Staten Island   Tottenville  40.49979  -74.24084   \n",
       "1424      Marina       Staten Island   Tottenville  40.50868  -74.23986   \n",
       "23460     Sueann       Staten Island   Tottenville  40.50873  -74.23914   \n",
       "...          ...                 ...           ...       ...        ...   \n",
       "38562       Ramy              Queens   Little Neck  40.76212  -73.71928   \n",
       "45592      Malik              Queens     Bellerose  40.74027  -73.71829   \n",
       "11610     Hilary              Queens     Bellerose  40.72756  -73.71795   \n",
       "47208      Malik              Queens     Bellerose  40.74006  -73.71690   \n",
       "10920   Mordeana              Queens     Bellerose  40.73351  -73.71299   \n",
       "\n",
       "             room_type  price  minimum_nights  number_of_reviews last_review  \\\n",
       "45652  Entire home/apt     70               3                  1  2019-07-01   \n",
       "15278     Private room    100               2                  0           0   \n",
       "14119     Private room    110               2                  0           0   \n",
       "1424   Entire home/apt    299               3                 59  2019-07-08   \n",
       "23460  Entire home/apt     85               2                 49  2019-07-01   \n",
       "...                ...    ...             ...                ...         ...   \n",
       "38562      Shared room     32               3                  1  2018-12-04   \n",
       "45592  Entire home/apt    180               2                  0           0   \n",
       "11610  Entire home/apt     42               3                  0           0   \n",
       "47208  Entire home/apt    240               2                  0           0   \n",
       "10920     Private room     65               2                 39  2019-05-29   \n",
       "\n",
       "       reviews_per_month  calculated_host_listings_count  availability_365  \n",
       "45652               1.00                               1               128  \n",
       "15278               0.00                               1               365  \n",
       "14119               0.00                               1               364  \n",
       "1424                0.82                               1               245  \n",
       "23460               2.08                               2               159  \n",
       "...                  ...                             ...               ...  \n",
       "38562               0.14                               1                88  \n",
       "45592               0.00                               2               281  \n",
       "11610               0.00                               1                 0  \n",
       "47208               0.00                               2               159  \n",
       "10920               0.85                               1               222  \n",
       "\n",
       "[48858 rows x 16 columns]"
      ]
     },
     "execution_count": 19,
     "metadata": {},
     "output_type": "execute_result"
    }
   ],
   "source": [
    "data.sort_values(by=['longitude'])"
   ]
  },
  {
   "cell_type": "markdown",
   "metadata": {
    "papermill": {
     "duration": 0.058104,
     "end_time": "2021-10-24T18:47:17.631932",
     "exception": false,
     "start_time": "2021-10-24T18:47:17.573828",
     "status": "completed"
    },
    "tags": []
   },
   "source": [
    "longitude osn't have any outliers too."
   ]
  },
  {
   "cell_type": "code",
   "execution_count": 20,
   "metadata": {
    "execution": {
     "iopub.execute_input": "2021-10-24T18:47:17.775095Z",
     "iopub.status.busy": "2021-10-24T18:47:17.774475Z",
     "iopub.status.idle": "2021-10-24T18:47:17.817203Z",
     "shell.execute_reply": "2021-10-24T18:47:17.816660Z",
     "shell.execute_reply.started": "2021-10-23T07:23:27.487722Z"
    },
    "papermill": {
     "duration": 0.106946,
     "end_time": "2021-10-24T18:47:17.817331",
     "exception": false,
     "start_time": "2021-10-24T18:47:17.710385",
     "status": "completed"
    },
    "tags": []
   },
   "outputs": [
    {
     "data": {
      "text/html": [
       "<div>\n",
       "<style scoped>\n",
       "    .dataframe tbody tr th:only-of-type {\n",
       "        vertical-align: middle;\n",
       "    }\n",
       "\n",
       "    .dataframe tbody tr th {\n",
       "        vertical-align: top;\n",
       "    }\n",
       "\n",
       "    .dataframe thead th {\n",
       "        text-align: right;\n",
       "    }\n",
       "</style>\n",
       "<table border=\"1\" class=\"dataframe\">\n",
       "  <thead>\n",
       "    <tr style=\"text-align: right;\">\n",
       "      <th></th>\n",
       "      <th>id</th>\n",
       "      <th>name</th>\n",
       "      <th>host_id</th>\n",
       "      <th>host_name</th>\n",
       "      <th>neighbourhood_group</th>\n",
       "      <th>neighbourhood</th>\n",
       "      <th>latitude</th>\n",
       "      <th>longitude</th>\n",
       "      <th>room_type</th>\n",
       "      <th>price</th>\n",
       "      <th>minimum_nights</th>\n",
       "      <th>number_of_reviews</th>\n",
       "      <th>last_review</th>\n",
       "      <th>reviews_per_month</th>\n",
       "      <th>calculated_host_listings_count</th>\n",
       "      <th>availability_365</th>\n",
       "    </tr>\n",
       "  </thead>\n",
       "  <tbody>\n",
       "    <tr>\n",
       "      <th>25634</th>\n",
       "      <td>20523843</td>\n",
       "      <td>MARTIAL LOFT 3: REDEMPTION (upstairs, 2nd room)</td>\n",
       "      <td>15787004</td>\n",
       "      <td>Martial Loft</td>\n",
       "      <td>Brooklyn</td>\n",
       "      <td>Bushwick</td>\n",
       "      <td>40.69467</td>\n",
       "      <td>-73.92433</td>\n",
       "      <td>Private room</td>\n",
       "      <td>0</td>\n",
       "      <td>2</td>\n",
       "      <td>16</td>\n",
       "      <td>2019-05-18</td>\n",
       "      <td>0.71</td>\n",
       "      <td>5</td>\n",
       "      <td>0</td>\n",
       "    </tr>\n",
       "    <tr>\n",
       "      <th>26866</th>\n",
       "      <td>21304320</td>\n",
       "      <td>Best Coliving space ever! Shared room.</td>\n",
       "      <td>101970559</td>\n",
       "      <td>Sergii</td>\n",
       "      <td>Brooklyn</td>\n",
       "      <td>Bushwick</td>\n",
       "      <td>40.69166</td>\n",
       "      <td>-73.90928</td>\n",
       "      <td>Shared room</td>\n",
       "      <td>0</td>\n",
       "      <td>30</td>\n",
       "      <td>5</td>\n",
       "      <td>2019-05-24</td>\n",
       "      <td>0.26</td>\n",
       "      <td>6</td>\n",
       "      <td>139</td>\n",
       "    </tr>\n",
       "    <tr>\n",
       "      <th>25778</th>\n",
       "      <td>20624541</td>\n",
       "      <td>Modern apartment in the heart of Williamsburg</td>\n",
       "      <td>10132166</td>\n",
       "      <td>Aymeric</td>\n",
       "      <td>Brooklyn</td>\n",
       "      <td>Williamsburg</td>\n",
       "      <td>40.70838</td>\n",
       "      <td>-73.94645</td>\n",
       "      <td>Entire home/apt</td>\n",
       "      <td>0</td>\n",
       "      <td>5</td>\n",
       "      <td>3</td>\n",
       "      <td>2018-01-02</td>\n",
       "      <td>0.15</td>\n",
       "      <td>1</td>\n",
       "      <td>73</td>\n",
       "    </tr>\n",
       "    <tr>\n",
       "      <th>25433</th>\n",
       "      <td>20333471</td>\n",
       "      <td>★Hostel Style Room | Ideal Traveling Buddies★</td>\n",
       "      <td>131697576</td>\n",
       "      <td>Anisha</td>\n",
       "      <td>Bronx</td>\n",
       "      <td>East Morrisania</td>\n",
       "      <td>40.83296</td>\n",
       "      <td>-73.88668</td>\n",
       "      <td>Private room</td>\n",
       "      <td>0</td>\n",
       "      <td>2</td>\n",
       "      <td>55</td>\n",
       "      <td>2019-06-24</td>\n",
       "      <td>2.56</td>\n",
       "      <td>4</td>\n",
       "      <td>127</td>\n",
       "    </tr>\n",
       "    <tr>\n",
       "      <th>25795</th>\n",
       "      <td>20639792</td>\n",
       "      <td>Contemporary bedroom in brownstone with nice view</td>\n",
       "      <td>86327101</td>\n",
       "      <td>Adeyemi</td>\n",
       "      <td>Brooklyn</td>\n",
       "      <td>Bedford-Stuyvesant</td>\n",
       "      <td>40.68279</td>\n",
       "      <td>-73.91170</td>\n",
       "      <td>Private room</td>\n",
       "      <td>0</td>\n",
       "      <td>1</td>\n",
       "      <td>95</td>\n",
       "      <td>2019-06-21</td>\n",
       "      <td>4.37</td>\n",
       "      <td>6</td>\n",
       "      <td>232</td>\n",
       "    </tr>\n",
       "    <tr>\n",
       "      <th>...</th>\n",
       "      <td>...</td>\n",
       "      <td>...</td>\n",
       "      <td>...</td>\n",
       "      <td>...</td>\n",
       "      <td>...</td>\n",
       "      <td>...</td>\n",
       "      <td>...</td>\n",
       "      <td>...</td>\n",
       "      <td>...</td>\n",
       "      <td>...</td>\n",
       "      <td>...</td>\n",
       "      <td>...</td>\n",
       "      <td>...</td>\n",
       "      <td>...</td>\n",
       "      <td>...</td>\n",
       "      <td>...</td>\n",
       "    </tr>\n",
       "    <tr>\n",
       "      <th>6530</th>\n",
       "      <td>4737930</td>\n",
       "      <td>Spanish Harlem Apt</td>\n",
       "      <td>1235070</td>\n",
       "      <td>Olson</td>\n",
       "      <td>Manhattan</td>\n",
       "      <td>East Harlem</td>\n",
       "      <td>40.79264</td>\n",
       "      <td>-73.93898</td>\n",
       "      <td>Entire home/apt</td>\n",
       "      <td>9999</td>\n",
       "      <td>5</td>\n",
       "      <td>1</td>\n",
       "      <td>2015-01-02</td>\n",
       "      <td>0.02</td>\n",
       "      <td>1</td>\n",
       "      <td>0</td>\n",
       "    </tr>\n",
       "    <tr>\n",
       "      <th>12342</th>\n",
       "      <td>9528920</td>\n",
       "      <td>Quiet, Clean, Lit @ LES &amp; Chinatown</td>\n",
       "      <td>3906464</td>\n",
       "      <td>Amy</td>\n",
       "      <td>Manhattan</td>\n",
       "      <td>Lower East Side</td>\n",
       "      <td>40.71355</td>\n",
       "      <td>-73.98507</td>\n",
       "      <td>Private room</td>\n",
       "      <td>9999</td>\n",
       "      <td>99</td>\n",
       "      <td>6</td>\n",
       "      <td>2016-01-01</td>\n",
       "      <td>0.14</td>\n",
       "      <td>1</td>\n",
       "      <td>83</td>\n",
       "    </tr>\n",
       "    <tr>\n",
       "      <th>17692</th>\n",
       "      <td>13894339</td>\n",
       "      <td>Luxury 1 bedroom apt. -stunning Manhattan views</td>\n",
       "      <td>5143901</td>\n",
       "      <td>Erin</td>\n",
       "      <td>Brooklyn</td>\n",
       "      <td>Greenpoint</td>\n",
       "      <td>40.73260</td>\n",
       "      <td>-73.95739</td>\n",
       "      <td>Entire home/apt</td>\n",
       "      <td>10000</td>\n",
       "      <td>5</td>\n",
       "      <td>5</td>\n",
       "      <td>2017-07-27</td>\n",
       "      <td>0.16</td>\n",
       "      <td>1</td>\n",
       "      <td>0</td>\n",
       "    </tr>\n",
       "    <tr>\n",
       "      <th>9151</th>\n",
       "      <td>7003697</td>\n",
       "      <td>Furnished room in Astoria apartment</td>\n",
       "      <td>20582832</td>\n",
       "      <td>Kathrine</td>\n",
       "      <td>Queens</td>\n",
       "      <td>Astoria</td>\n",
       "      <td>40.76810</td>\n",
       "      <td>-73.91651</td>\n",
       "      <td>Private room</td>\n",
       "      <td>10000</td>\n",
       "      <td>100</td>\n",
       "      <td>2</td>\n",
       "      <td>2016-02-13</td>\n",
       "      <td>0.04</td>\n",
       "      <td>1</td>\n",
       "      <td>0</td>\n",
       "    </tr>\n",
       "    <tr>\n",
       "      <th>29238</th>\n",
       "      <td>22436899</td>\n",
       "      <td>1-BR Lincoln Center</td>\n",
       "      <td>72390391</td>\n",
       "      <td>Jelena</td>\n",
       "      <td>Manhattan</td>\n",
       "      <td>Upper West Side</td>\n",
       "      <td>40.77213</td>\n",
       "      <td>-73.98665</td>\n",
       "      <td>Entire home/apt</td>\n",
       "      <td>10000</td>\n",
       "      <td>30</td>\n",
       "      <td>0</td>\n",
       "      <td>0</td>\n",
       "      <td>0.00</td>\n",
       "      <td>1</td>\n",
       "      <td>83</td>\n",
       "    </tr>\n",
       "  </tbody>\n",
       "</table>\n",
       "<p>48858 rows × 16 columns</p>\n",
       "</div>"
      ],
      "text/plain": [
       "             id                                               name    host_id  \\\n",
       "25634  20523843    MARTIAL LOFT 3: REDEMPTION (upstairs, 2nd room)   15787004   \n",
       "26866  21304320             Best Coliving space ever! Shared room.  101970559   \n",
       "25778  20624541      Modern apartment in the heart of Williamsburg   10132166   \n",
       "25433  20333471      ★Hostel Style Room | Ideal Traveling Buddies★  131697576   \n",
       "25795  20639792  Contemporary bedroom in brownstone with nice view   86327101   \n",
       "...         ...                                                ...        ...   \n",
       "6530    4737930                                 Spanish Harlem Apt    1235070   \n",
       "12342   9528920                Quiet, Clean, Lit @ LES & Chinatown    3906464   \n",
       "17692  13894339    Luxury 1 bedroom apt. -stunning Manhattan views    5143901   \n",
       "9151    7003697                Furnished room in Astoria apartment   20582832   \n",
       "29238  22436899                                1-BR Lincoln Center   72390391   \n",
       "\n",
       "          host_name neighbourhood_group       neighbourhood  latitude  \\\n",
       "25634  Martial Loft            Brooklyn            Bushwick  40.69467   \n",
       "26866        Sergii            Brooklyn            Bushwick  40.69166   \n",
       "25778       Aymeric            Brooklyn        Williamsburg  40.70838   \n",
       "25433        Anisha               Bronx     East Morrisania  40.83296   \n",
       "25795       Adeyemi            Brooklyn  Bedford-Stuyvesant  40.68279   \n",
       "...             ...                 ...                 ...       ...   \n",
       "6530          Olson           Manhattan         East Harlem  40.79264   \n",
       "12342           Amy           Manhattan     Lower East Side  40.71355   \n",
       "17692          Erin            Brooklyn          Greenpoint  40.73260   \n",
       "9151       Kathrine              Queens             Astoria  40.76810   \n",
       "29238        Jelena           Manhattan     Upper West Side  40.77213   \n",
       "\n",
       "       longitude        room_type  price  minimum_nights  number_of_reviews  \\\n",
       "25634  -73.92433     Private room      0               2                 16   \n",
       "26866  -73.90928      Shared room      0              30                  5   \n",
       "25778  -73.94645  Entire home/apt      0               5                  3   \n",
       "25433  -73.88668     Private room      0               2                 55   \n",
       "25795  -73.91170     Private room      0               1                 95   \n",
       "...          ...              ...    ...             ...                ...   \n",
       "6530   -73.93898  Entire home/apt   9999               5                  1   \n",
       "12342  -73.98507     Private room   9999              99                  6   \n",
       "17692  -73.95739  Entire home/apt  10000               5                  5   \n",
       "9151   -73.91651     Private room  10000             100                  2   \n",
       "29238  -73.98665  Entire home/apt  10000              30                  0   \n",
       "\n",
       "      last_review  reviews_per_month  calculated_host_listings_count  \\\n",
       "25634  2019-05-18               0.71                               5   \n",
       "26866  2019-05-24               0.26                               6   \n",
       "25778  2018-01-02               0.15                               1   \n",
       "25433  2019-06-24               2.56                               4   \n",
       "25795  2019-06-21               4.37                               6   \n",
       "...           ...                ...                             ...   \n",
       "6530   2015-01-02               0.02                               1   \n",
       "12342  2016-01-01               0.14                               1   \n",
       "17692  2017-07-27               0.16                               1   \n",
       "9151   2016-02-13               0.04                               1   \n",
       "29238           0               0.00                               1   \n",
       "\n",
       "       availability_365  \n",
       "25634                 0  \n",
       "26866               139  \n",
       "25778                73  \n",
       "25433               127  \n",
       "25795               232  \n",
       "...                 ...  \n",
       "6530                  0  \n",
       "12342                83  \n",
       "17692                 0  \n",
       "9151                  0  \n",
       "29238                83  \n",
       "\n",
       "[48858 rows x 16 columns]"
      ]
     },
     "execution_count": 20,
     "metadata": {},
     "output_type": "execute_result"
    }
   ],
   "source": [
    "data.sort_values(by=['price'])"
   ]
  },
  {
   "cell_type": "markdown",
   "metadata": {
    "papermill": {
     "duration": 0.065539,
     "end_time": "2021-10-24T18:47:17.952249",
     "exception": false,
     "start_time": "2021-10-24T18:47:17.886710",
     "status": "completed"
    },
    "tags": []
   },
   "source": [
    "but we have big interval. So I'm curios to see what is the mean of these datas."
   ]
  },
  {
   "cell_type": "code",
   "execution_count": 21,
   "metadata": {
    "execution": {
     "iopub.execute_input": "2021-10-24T18:47:18.074610Z",
     "iopub.status.busy": "2021-10-24T18:47:18.073828Z",
     "iopub.status.idle": "2021-10-24T18:47:18.080295Z",
     "shell.execute_reply": "2021-10-24T18:47:18.079760Z",
     "shell.execute_reply.started": "2021-10-23T07:23:27.537454Z"
    },
    "papermill": {
     "duration": 0.068552,
     "end_time": "2021-10-24T18:47:18.080420",
     "exception": false,
     "start_time": "2021-10-24T18:47:18.011868",
     "status": "completed"
    },
    "tags": []
   },
   "outputs": [
    {
     "data": {
      "text/plain": [
       "np.float64(152.74030864955586)"
      ]
     },
     "execution_count": 21,
     "metadata": {},
     "output_type": "execute_result"
    }
   ],
   "source": [
    "np.mean(data.price)"
   ]
  },
  {
   "cell_type": "markdown",
   "metadata": {
    "papermill": {
     "duration": 0.060992,
     "end_time": "2021-10-24T18:47:18.202317",
     "exception": false,
     "start_time": "2021-10-24T18:47:18.141325",
     "status": "completed"
    },
    "tags": []
   },
   "source": [
    "So the price is not too big and maybe the datas that have big price is outliers. I'm gonna findout is really big price is outliers or not so I draw a chart only for price. "
   ]
  },
  {
   "cell_type": "code",
   "execution_count": 13,
   "metadata": {
    "execution": {
     "iopub.execute_input": "2021-10-24T18:47:18.327946Z",
     "iopub.status.busy": "2021-10-24T18:47:18.327308Z",
     "iopub.status.idle": "2021-10-24T18:47:18.668062Z",
     "shell.execute_reply": "2021-10-24T18:47:18.667545Z",
     "shell.execute_reply.started": "2021-10-23T07:23:27.544438Z"
    },
    "papermill": {
     "duration": 0.405542,
     "end_time": "2021-10-24T18:47:18.668209",
     "exception": false,
     "start_time": "2021-10-24T18:47:18.262667",
     "status": "completed"
    },
    "tags": []
   },
   "outputs": [
    {
     "data": {
      "text/plain": [
       "(array([3.908e+04, 7.791e+03, 1.128e+03, 3.850e+02, 1.760e+02, 9.100e+01,\n",
       "        3.400e+01, 3.700e+01, 1.700e+01, 9.000e+00, 2.700e+01, 5.000e+00,\n",
       "        1.400e+01, 4.000e+00, 7.000e+00, 8.000e+00, 2.000e+00, 2.000e+00,\n",
       "        4.000e+00, 2.000e+00, 5.000e+00, 2.000e+00, 2.000e+00, 0.000e+00,\n",
       "        0.000e+00, 7.000e+00, 1.000e+00, 0.000e+00, 0.000e+00, 0.000e+00,\n",
       "        2.000e+00, 0.000e+00, 4.000e+00, 0.000e+00, 1.000e+00, 0.000e+00,\n",
       "        0.000e+00, 2.000e+00, 1.000e+00, 0.000e+00, 1.000e+00, 0.000e+00,\n",
       "        1.000e+00, 0.000e+00, 0.000e+00, 0.000e+00, 0.000e+00, 0.000e+00,\n",
       "        0.000e+00, 6.000e+00]),\n",
       " array([    0.,   200.,   400.,   600.,   800.,  1000.,  1200.,  1400.,\n",
       "         1600.,  1800.,  2000.,  2200.,  2400.,  2600.,  2800.,  3000.,\n",
       "         3200.,  3400.,  3600.,  3800.,  4000.,  4200.,  4400.,  4600.,\n",
       "         4800.,  5000.,  5200.,  5400.,  5600.,  5800.,  6000.,  6200.,\n",
       "         6400.,  6600.,  6800.,  7000.,  7200.,  7400.,  7600.,  7800.,\n",
       "         8000.,  8200.,  8400.,  8600.,  8800.,  9000.,  9200.,  9400.,\n",
       "         9600.,  9800., 10000.]),\n",
       " <BarContainer object of 50 artists>)"
      ]
     },
     "execution_count": 13,
     "metadata": {},
     "output_type": "execute_result"
    },
    {
     "data": {
      "image/png": "[encoded data removed]",
      "text/plain": [
       "<Figure size 640x480 with 1 Axes>"
      ]
     },
     "metadata": {},
     "output_type": "display_data"
    }
   ],
   "source": [
    "import matplotlib.pyplot as plt\n",
    "\n",
    "plt.hist(data.price, bins=50)"
   ]
  },
  {
   "cell_type": "markdown",
   "metadata": {
    "papermill": {
     "duration": 0.05987,
     "end_time": "2021-10-24T18:47:18.789105",
     "exception": false,
     "start_time": "2021-10-24T18:47:18.729235",
     "status": "completed"
    },
    "tags": []
   },
   "source": [
    "So as you see more than 2000. maybe will be outliers. therefore I'm gonna check how musch datas more than 2000."
   ]
  },
  {
   "cell_type": "code",
   "execution_count": 14,
   "metadata": {
    "execution": {
     "iopub.execute_input": "2021-10-24T18:47:18.916684Z",
     "iopub.status.busy": "2021-10-24T18:47:18.916026Z",
     "iopub.status.idle": "2021-10-24T18:47:18.922680Z",
     "shell.execute_reply": "2021-10-24T18:47:18.923263Z",
     "shell.execute_reply.started": "2021-10-23T07:23:27.945436Z"
    },
    "papermill": {
     "duration": 0.070665,
     "end_time": "2021-10-24T18:47:18.923398",
     "exception": false,
     "start_time": "2021-10-24T18:47:18.852733",
     "status": "completed"
    },
    "tags": []
   },
   "outputs": [
    {
     "data": {
      "text/plain": [
       "86"
      ]
     },
     "execution_count": 14,
     "metadata": {},
     "output_type": "execute_result"
    }
   ],
   "source": [
    "len(data[data.price > 2000])"
   ]
  },
  {
   "cell_type": "markdown",
   "metadata": {
    "papermill": {
     "duration": 0.061116,
     "end_time": "2021-10-24T18:47:19.047006",
     "exception": false,
     "start_time": "2021-10-24T18:47:18.985890",
     "status": "completed"
    },
    "tags": []
   },
   "source": [
    "In 48858 datas we have only 86 datas more than 2000. So I think, it's obvious that these data were outliers. So I remove them and after that I will plot again to findout the exact price were begining outliers datas."
   ]
  },
  {
   "cell_type": "code",
   "execution_count": 24,
   "metadata": {
    "execution": {
     "iopub.execute_input": "2021-10-24T18:47:19.174063Z",
     "iopub.status.busy": "2021-10-24T18:47:19.173480Z",
     "iopub.status.idle": "2021-10-24T18:47:19.186258Z",
     "shell.execute_reply": "2021-10-24T18:47:19.186759Z",
     "shell.execute_reply.started": "2021-10-23T07:23:27.955379Z"
    },
    "papermill": {
     "duration": 0.078104,
     "end_time": "2021-10-24T18:47:19.186896",
     "exception": false,
     "start_time": "2021-10-24T18:47:19.108792",
     "status": "completed"
    },
    "tags": []
   },
   "outputs": [],
   "source": [
    "data = data[data.price < 2000]"
   ]
  },
  {
   "cell_type": "code",
   "execution_count": 25,
   "metadata": {
    "execution": {
     "iopub.execute_input": "2021-10-24T18:47:19.313066Z",
     "iopub.status.busy": "2021-10-24T18:47:19.312434Z",
     "iopub.status.idle": "2021-10-24T18:47:19.571762Z",
     "shell.execute_reply": "2021-10-24T18:47:19.572305Z",
     "shell.execute_reply.started": "2021-10-23T07:23:27.977004Z"
    },
    "papermill": {
     "duration": 0.324647,
     "end_time": "2021-10-24T18:47:19.572544",
     "exception": false,
     "start_time": "2021-10-24T18:47:19.247897",
     "status": "completed"
    },
    "tags": []
   },
   "outputs": [
    {
     "data": {
      "text/plain": [
       "(array([2.0400e+03, 1.3772e+04, 1.0591e+04, 8.0660e+03, 4.6110e+03,\n",
       "        3.1440e+03, 2.1220e+03, 1.3100e+03, 7.8400e+02, 4.3100e+02,\n",
       "        3.6400e+02, 2.5800e+02, 3.3400e+02, 9.8000e+01, 7.4000e+01,\n",
       "        9.3000e+01, 8.5000e+01, 1.0500e+02, 6.8000e+01, 3.4000e+01,\n",
       "        6.1000e+01, 2.6000e+01, 3.5000e+01, 2.2000e+01, 3.2000e+01,\n",
       "        6.1000e+01, 7.0000e+00, 1.6000e+01, 3.0000e+00, 4.0000e+00,\n",
       "        1.5000e+01, 6.0000e+00, 8.0000e+00, 3.0000e+00, 2.0000e+00,\n",
       "        2.0000e+00, 2.0000e+00, 3.0000e+01, 1.0000e+00, 2.0000e+00,\n",
       "        4.0000e+00, 0.0000e+00, 5.0000e+00, 5.0000e+00, 3.0000e+00,\n",
       "        2.0000e+00, 0.0000e+00, 3.0000e+00, 0.0000e+00, 4.0000e+00]),\n",
       " array([   0.  ,   39.98,   79.96,  119.94,  159.92,  199.9 ,  239.88,\n",
       "         279.86,  319.84,  359.82,  399.8 ,  439.78,  479.76,  519.74,\n",
       "         559.72,  599.7 ,  639.68,  679.66,  719.64,  759.62,  799.6 ,\n",
       "         839.58,  879.56,  919.54,  959.52,  999.5 , 1039.48, 1079.46,\n",
       "        1119.44, 1159.42, 1199.4 , 1239.38, 1279.36, 1319.34, 1359.32,\n",
       "        1399.3 , 1439.28, 1479.26, 1519.24, 1559.22, 1599.2 , 1639.18,\n",
       "        1679.16, 1719.14, 1759.12, 1799.1 , 1839.08, 1879.06, 1919.04,\n",
       "        1959.02, 1999.  ]),\n",
       " <BarContainer object of 50 artists>)"
      ]
     },
     "execution_count": 25,
     "metadata": {},
     "output_type": "execute_result"
    },
    {
     "data": {
      "image/png": "[encoded data removed]",
      "text/plain": [
       "<Figure size 640x480 with 1 Axes>"
      ]
     },
     "metadata": {},
     "output_type": "display_data"
    }
   ],
   "source": [
    "plt.hist(data.price, bins=50)"
   ]
  },
  {
   "cell_type": "code",
   "execution_count": 19,
   "metadata": {
    "execution": {
     "iopub.execute_input": "2021-10-24T18:47:19.706615Z",
     "iopub.status.busy": "2021-10-24T18:47:19.705892Z",
     "iopub.status.idle": "2021-10-24T18:47:19.712187Z",
     "shell.execute_reply": "2021-10-24T18:47:19.711472Z",
     "shell.execute_reply.started": "2021-10-23T07:23:28.236939Z"
    },
    "papermill": {
     "duration": 0.072541,
     "end_time": "2021-10-24T18:47:19.712311",
     "exception": false,
     "start_time": "2021-10-24T18:47:19.639770",
     "status": "completed"
    },
    "tags": []
   },
   "outputs": [
    {
     "data": {
      "text/plain": [
       "129"
      ]
     },
     "execution_count": 19,
     "metadata": {},
     "output_type": "execute_result"
    }
   ],
   "source": [
    "len(data[data.price > 1000])"
   ]
  },
  {
   "cell_type": "markdown",
   "metadata": {
    "papermill": {
     "duration": 0.062823,
     "end_time": "2021-10-24T18:47:19.839224",
     "exception": false,
     "start_time": "2021-10-24T18:47:19.776401",
     "status": "completed"
    },
    "tags": []
   },
   "source": [
    "So more than 1000 is outliers and I gonna delete them"
   ]
  },
  {
   "cell_type": "code",
   "execution_count": 20,
   "metadata": {
    "execution": {
     "iopub.execute_input": "2021-10-24T18:47:19.979975Z",
     "iopub.status.busy": "2021-10-24T18:47:19.978946Z",
     "iopub.status.idle": "2021-10-24T18:47:19.982011Z",
     "shell.execute_reply": "2021-10-24T18:47:19.981521Z",
     "shell.execute_reply.started": "2021-10-23T07:23:28.248607Z"
    },
    "papermill": {
     "duration": 0.079538,
     "end_time": "2021-10-24T18:47:19.982136",
     "exception": false,
     "start_time": "2021-10-24T18:47:19.902598",
     "status": "completed"
    },
    "tags": []
   },
   "outputs": [],
   "source": [
    "data = data[data.price <= 1000]"
   ]
  },
  {
   "cell_type": "code",
   "execution_count": 21,
   "metadata": {
    "execution": {
     "iopub.execute_input": "2021-10-24T18:47:20.155088Z",
     "iopub.status.busy": "2021-10-24T18:47:20.154404Z",
     "iopub.status.idle": "2021-10-24T18:47:20.378678Z",
     "shell.execute_reply": "2021-10-24T18:47:20.377987Z",
     "shell.execute_reply.started": "2021-10-23T07:23:28.27232Z"
    },
    "papermill": {
     "duration": 0.291035,
     "end_time": "2021-10-24T18:47:20.378814",
     "exception": false,
     "start_time": "2021-10-24T18:47:20.087779",
     "status": "completed"
    },
    "tags": []
   },
   "outputs": [
    {
     "data": {
      "text/plain": [
       "(array([5.400e+01, 1.986e+03, 6.555e+03, 7.217e+03, 6.049e+03, 4.542e+03,\n",
       "        4.105e+03, 3.961e+03, 2.437e+03, 2.174e+03, 1.945e+03, 1.199e+03,\n",
       "        1.541e+03, 5.810e+02, 5.970e+02, 7.130e+02, 2.590e+02, 5.250e+02,\n",
       "        1.830e+02, 2.480e+02, 2.690e+02, 9.500e+01, 1.970e+02, 6.100e+01,\n",
       "        1.300e+02, 2.040e+02, 3.200e+01, 6.600e+01, 2.200e+01, 5.200e+01,\n",
       "        8.600e+01, 7.000e+00, 6.800e+01, 1.700e+01, 4.500e+01, 6.000e+01,\n",
       "        1.200e+01, 5.600e+01, 3.000e+00, 3.100e+01, 5.600e+01, 5.000e+00,\n",
       "        2.300e+01, 3.000e+00, 1.400e+01, 2.100e+01, 3.000e+00, 1.900e+01,\n",
       "        5.000e+00, 8.600e+01]),\n",
       " array([   0.,   20.,   40.,   60.,   80.,  100.,  120.,  140.,  160.,\n",
       "         180.,  200.,  220.,  240.,  260.,  280.,  300.,  320.,  340.,\n",
       "         360.,  380.,  400.,  420.,  440.,  460.,  480.,  500.,  520.,\n",
       "         540.,  560.,  580.,  600.,  620.,  640.,  660.,  680.,  700.,\n",
       "         720.,  740.,  760.,  780.,  800.,  820.,  840.,  860.,  880.,\n",
       "         900.,  920.,  940.,  960.,  980., 1000.]),\n",
       " <a list of 50 Patch objects>)"
      ]
     },
     "execution_count": 21,
     "metadata": {},
     "output_type": "execute_result"
    },
    {
     "data": {
      "image/png": "[encoded data removed]",
      "text/plain": [
       "<Figure size 432x288 with 1 Axes>"
      ]
     },
     "metadata": {
      "needs_background": "light"
     },
     "output_type": "display_data"
    }
   ],
   "source": [
    "plt.hist(data.price, bins=50)"
   ]
  },
  {
   "cell_type": "markdown",
   "metadata": {
    "papermill": {
     "duration": 0.06416,
     "end_time": "2021-10-24T18:47:20.507205",
     "exception": false,
     "start_time": "2021-10-24T18:47:20.443045",
     "status": "completed"
    },
    "tags": []
   },
   "source": [
    "Now we can see we have compact data in price. So go to sort another column to findout the outliers if it has."
   ]
  },
  {
   "cell_type": "code",
   "execution_count": 22,
   "metadata": {
    "execution": {
     "iopub.execute_input": "2021-10-24T18:47:20.641122Z",
     "iopub.status.busy": "2021-10-24T18:47:20.640427Z",
     "iopub.status.idle": "2021-10-24T18:47:20.677090Z",
     "shell.execute_reply": "2021-10-24T18:47:20.677574Z",
     "shell.execute_reply.started": "2021-10-23T07:23:28.5303Z"
    },
    "papermill": {
     "duration": 0.106232,
     "end_time": "2021-10-24T18:47:20.677720",
     "exception": false,
     "start_time": "2021-10-24T18:47:20.571488",
     "status": "completed"
    },
    "tags": []
   },
   "outputs": [
    {
     "data": {
      "text/html": [
       "<div>\n",
       "<style scoped>\n",
       "    .dataframe tbody tr th:only-of-type {\n",
       "        vertical-align: middle;\n",
       "    }\n",
       "\n",
       "    .dataframe tbody tr th {\n",
       "        vertical-align: top;\n",
       "    }\n",
       "\n",
       "    .dataframe thead th {\n",
       "        text-align: right;\n",
       "    }\n",
       "</style>\n",
       "<table border=\"1\" class=\"dataframe\">\n",
       "  <thead>\n",
       "    <tr style=\"text-align: right;\">\n",
       "      <th></th>\n",
       "      <th>id</th>\n",
       "      <th>name</th>\n",
       "      <th>host_id</th>\n",
       "      <th>host_name</th>\n",
       "      <th>neighbourhood_group</th>\n",
       "      <th>neighbourhood</th>\n",
       "      <th>latitude</th>\n",
       "      <th>longitude</th>\n",
       "      <th>room_type</th>\n",
       "      <th>price</th>\n",
       "      <th>minimum_nights</th>\n",
       "      <th>number_of_reviews</th>\n",
       "      <th>last_review</th>\n",
       "      <th>reviews_per_month</th>\n",
       "      <th>calculated_host_listings_count</th>\n",
       "      <th>availability_365</th>\n",
       "    </tr>\n",
       "  </thead>\n",
       "  <tbody>\n",
       "    <tr>\n",
       "      <th>0</th>\n",
       "      <td>2539</td>\n",
       "      <td>Clean &amp; quiet apt home by the park</td>\n",
       "      <td>2787</td>\n",
       "      <td>John</td>\n",
       "      <td>Brooklyn</td>\n",
       "      <td>Kensington</td>\n",
       "      <td>40.64749</td>\n",
       "      <td>-73.97237</td>\n",
       "      <td>Private room</td>\n",
       "      <td>149</td>\n",
       "      <td>1</td>\n",
       "      <td>9</td>\n",
       "      <td>2018-10-19</td>\n",
       "      <td>0.21</td>\n",
       "      <td>6</td>\n",
       "      <td>365</td>\n",
       "    </tr>\n",
       "    <tr>\n",
       "      <th>11752</th>\n",
       "      <td>9137941</td>\n",
       "      <td>1 BR UES Apartment</td>\n",
       "      <td>4223044</td>\n",
       "      <td>Alexandra</td>\n",
       "      <td>Manhattan</td>\n",
       "      <td>Upper East Side</td>\n",
       "      <td>40.77012</td>\n",
       "      <td>-73.95777</td>\n",
       "      <td>Entire home/apt</td>\n",
       "      <td>200</td>\n",
       "      <td>1</td>\n",
       "      <td>0</td>\n",
       "      <td>0</td>\n",
       "      <td>0.00</td>\n",
       "      <td>1</td>\n",
       "      <td>0</td>\n",
       "    </tr>\n",
       "    <tr>\n",
       "      <th>32281</th>\n",
       "      <td>25257443</td>\n",
       "      <td>Cozy Parkside Studio in the ❤️ of the East Vil...</td>\n",
       "      <td>190823422</td>\n",
       "      <td>Kimberley</td>\n",
       "      <td>Manhattan</td>\n",
       "      <td>East Village</td>\n",
       "      <td>40.72469</td>\n",
       "      <td>-73.97892</td>\n",
       "      <td>Entire home/apt</td>\n",
       "      <td>165</td>\n",
       "      <td>1</td>\n",
       "      <td>67</td>\n",
       "      <td>2019-07-01</td>\n",
       "      <td>5.51</td>\n",
       "      <td>1</td>\n",
       "      <td>38</td>\n",
       "    </tr>\n",
       "    <tr>\n",
       "      <th>11755</th>\n",
       "      <td>9140055</td>\n",
       "      <td>Room and Breakfast  -  Room 1</td>\n",
       "      <td>35322092</td>\n",
       "      <td>Rhemy</td>\n",
       "      <td>Brooklyn</td>\n",
       "      <td>Bedford-Stuyvesant</td>\n",
       "      <td>40.68523</td>\n",
       "      <td>-73.92926</td>\n",
       "      <td>Private room</td>\n",
       "      <td>49</td>\n",
       "      <td>1</td>\n",
       "      <td>136</td>\n",
       "      <td>2019-07-07</td>\n",
       "      <td>3.05</td>\n",
       "      <td>3</td>\n",
       "      <td>200</td>\n",
       "    </tr>\n",
       "    <tr>\n",
       "      <th>11757</th>\n",
       "      <td>9145070</td>\n",
       "      <td>Great Deal! Steps to Central Park</td>\n",
       "      <td>3025128</td>\n",
       "      <td>David</td>\n",
       "      <td>Manhattan</td>\n",
       "      <td>Upper West Side</td>\n",
       "      <td>40.77942</td>\n",
       "      <td>-73.97627</td>\n",
       "      <td>Entire home/apt</td>\n",
       "      <td>180</td>\n",
       "      <td>1</td>\n",
       "      <td>43</td>\n",
       "      <td>2016-08-27</td>\n",
       "      <td>0.98</td>\n",
       "      <td>1</td>\n",
       "      <td>0</td>\n",
       "    </tr>\n",
       "    <tr>\n",
       "      <th>...</th>\n",
       "      <td>...</td>\n",
       "      <td>...</td>\n",
       "      <td>...</td>\n",
       "      <td>...</td>\n",
       "      <td>...</td>\n",
       "      <td>...</td>\n",
       "      <td>...</td>\n",
       "      <td>...</td>\n",
       "      <td>...</td>\n",
       "      <td>...</td>\n",
       "      <td>...</td>\n",
       "      <td>...</td>\n",
       "      <td>...</td>\n",
       "      <td>...</td>\n",
       "      <td>...</td>\n",
       "      <td>...</td>\n",
       "    </tr>\n",
       "    <tr>\n",
       "      <th>47620</th>\n",
       "      <td>35834935</td>\n",
       "      <td>Williamsburg Apartment</td>\n",
       "      <td>82674375</td>\n",
       "      <td>Meg</td>\n",
       "      <td>Brooklyn</td>\n",
       "      <td>Williamsburg</td>\n",
       "      <td>40.70898</td>\n",
       "      <td>-73.94885</td>\n",
       "      <td>Entire home/apt</td>\n",
       "      <td>140</td>\n",
       "      <td>500</td>\n",
       "      <td>0</td>\n",
       "      <td>0</td>\n",
       "      <td>0.00</td>\n",
       "      <td>1</td>\n",
       "      <td>331</td>\n",
       "    </tr>\n",
       "    <tr>\n",
       "      <th>13404</th>\n",
       "      <td>10053943</td>\n",
       "      <td>Historic Designer 2 Bed. Apartment</td>\n",
       "      <td>2697686</td>\n",
       "      <td>Glenn H.</td>\n",
       "      <td>Manhattan</td>\n",
       "      <td>Harlem</td>\n",
       "      <td>40.82915</td>\n",
       "      <td>-73.94034</td>\n",
       "      <td>Entire home/apt</td>\n",
       "      <td>99</td>\n",
       "      <td>999</td>\n",
       "      <td>2</td>\n",
       "      <td>2018-01-04</td>\n",
       "      <td>0.07</td>\n",
       "      <td>1</td>\n",
       "      <td>42</td>\n",
       "    </tr>\n",
       "    <tr>\n",
       "      <th>26341</th>\n",
       "      <td>20990053</td>\n",
       "      <td>Beautiful place in Brooklyn! #2</td>\n",
       "      <td>151084261</td>\n",
       "      <td>Angie</td>\n",
       "      <td>Brooklyn</td>\n",
       "      <td>Williamsburg</td>\n",
       "      <td>40.71772</td>\n",
       "      <td>-73.95059</td>\n",
       "      <td>Private room</td>\n",
       "      <td>79</td>\n",
       "      <td>999</td>\n",
       "      <td>24</td>\n",
       "      <td>2018-06-28</td>\n",
       "      <td>1.12</td>\n",
       "      <td>6</td>\n",
       "      <td>249</td>\n",
       "    </tr>\n",
       "    <tr>\n",
       "      <th>38664</th>\n",
       "      <td>30378211</td>\n",
       "      <td>Shared Studio (females only)</td>\n",
       "      <td>200401254</td>\n",
       "      <td>Meg</td>\n",
       "      <td>Manhattan</td>\n",
       "      <td>Greenwich Village</td>\n",
       "      <td>40.73094</td>\n",
       "      <td>-73.99900</td>\n",
       "      <td>Shared room</td>\n",
       "      <td>110</td>\n",
       "      <td>999</td>\n",
       "      <td>0</td>\n",
       "      <td>0</td>\n",
       "      <td>0.00</td>\n",
       "      <td>1</td>\n",
       "      <td>365</td>\n",
       "    </tr>\n",
       "    <tr>\n",
       "      <th>5767</th>\n",
       "      <td>4204302</td>\n",
       "      <td>Prime W. Village location 1 bdrm</td>\n",
       "      <td>17550546</td>\n",
       "      <td>Genevieve</td>\n",
       "      <td>Manhattan</td>\n",
       "      <td>Greenwich Village</td>\n",
       "      <td>40.73293</td>\n",
       "      <td>-73.99782</td>\n",
       "      <td>Entire home/apt</td>\n",
       "      <td>180</td>\n",
       "      <td>1250</td>\n",
       "      <td>2</td>\n",
       "      <td>2014-11-09</td>\n",
       "      <td>0.03</td>\n",
       "      <td>1</td>\n",
       "      <td>365</td>\n",
       "    </tr>\n",
       "  </tbody>\n",
       "</table>\n",
       "<p>48619 rows × 16 columns</p>\n",
       "</div>"
      ],
      "text/plain": [
       "             id                                               name    host_id  \\\n",
       "0          2539                 Clean & quiet apt home by the park       2787   \n",
       "11752   9137941                                 1 BR UES Apartment    4223044   \n",
       "32281  25257443  Cozy Parkside Studio in the ❤️ of the East Vil...  190823422   \n",
       "11755   9140055                      Room and Breakfast  -  Room 1   35322092   \n",
       "11757   9145070                  Great Deal! Steps to Central Park    3025128   \n",
       "...         ...                                                ...        ...   \n",
       "47620  35834935                             Williamsburg Apartment   82674375   \n",
       "13404  10053943                 Historic Designer 2 Bed. Apartment    2697686   \n",
       "26341  20990053                    Beautiful place in Brooklyn! #2  151084261   \n",
       "38664  30378211                       Shared Studio (females only)  200401254   \n",
       "5767    4204302                   Prime W. Village location 1 bdrm   17550546   \n",
       "\n",
       "       host_name neighbourhood_group       neighbourhood  latitude  longitude  \\\n",
       "0           John            Brooklyn          Kensington  40.64749  -73.97237   \n",
       "11752  Alexandra           Manhattan     Upper East Side  40.77012  -73.95777   \n",
       "32281  Kimberley           Manhattan        East Village  40.72469  -73.97892   \n",
       "11755      Rhemy            Brooklyn  Bedford-Stuyvesant  40.68523  -73.92926   \n",
       "11757      David           Manhattan     Upper West Side  40.77942  -73.97627   \n",
       "...          ...                 ...                 ...       ...        ...   \n",
       "47620        Meg            Brooklyn        Williamsburg  40.70898  -73.94885   \n",
       "13404   Glenn H.           Manhattan              Harlem  40.82915  -73.94034   \n",
       "26341      Angie            Brooklyn        Williamsburg  40.71772  -73.95059   \n",
       "38664        Meg           Manhattan   Greenwich Village  40.73094  -73.99900   \n",
       "5767   Genevieve           Manhattan   Greenwich Village  40.73293  -73.99782   \n",
       "\n",
       "             room_type  price  minimum_nights  number_of_reviews last_review  \\\n",
       "0         Private room    149               1                  9  2018-10-19   \n",
       "11752  Entire home/apt    200               1                  0           0   \n",
       "32281  Entire home/apt    165               1                 67  2019-07-01   \n",
       "11755     Private room     49               1                136  2019-07-07   \n",
       "11757  Entire home/apt    180               1                 43  2016-08-27   \n",
       "...                ...    ...             ...                ...         ...   \n",
       "47620  Entire home/apt    140             500                  0           0   \n",
       "13404  Entire home/apt     99             999                  2  2018-01-04   \n",
       "26341     Private room     79             999                 24  2018-06-28   \n",
       "38664      Shared room    110             999                  0           0   \n",
       "5767   Entire home/apt    180            1250                  2  2014-11-09   \n",
       "\n",
       "       reviews_per_month  calculated_host_listings_count  availability_365  \n",
       "0                   0.21                               6               365  \n",
       "11752               0.00                               1                 0  \n",
       "32281               5.51                               1                38  \n",
       "11755               3.05                               3               200  \n",
       "11757               0.98                               1                 0  \n",
       "...                  ...                             ...               ...  \n",
       "47620               0.00                               1               331  \n",
       "13404               0.07                               1                42  \n",
       "26341               1.12                               6               249  \n",
       "38664               0.00                               1               365  \n",
       "5767                0.03                               1               365  \n",
       "\n",
       "[48619 rows x 16 columns]"
      ]
     },
     "execution_count": 22,
     "metadata": {},
     "output_type": "execute_result"
    }
   ],
   "source": [
    "data.sort_values(by=['minimum_nights'])"
   ]
  },
  {
   "cell_type": "markdown",
   "metadata": {
    "papermill": {
     "duration": 0.065385,
     "end_time": "2021-10-24T18:47:20.808205",
     "exception": false,
     "start_time": "2021-10-24T18:47:20.742820",
     "status": "completed"
    },
    "tags": []
   },
   "source": [
    "Maybe we have outliers. Let's check it."
   ]
  },
  {
   "cell_type": "code",
   "execution_count": 23,
   "metadata": {
    "execution": {
     "iopub.execute_input": "2021-10-24T18:47:20.948716Z",
     "iopub.status.busy": "2021-10-24T18:47:20.947573Z",
     "iopub.status.idle": "2021-10-24T18:47:21.166473Z",
     "shell.execute_reply": "2021-10-24T18:47:21.165818Z",
     "shell.execute_reply.started": "2021-10-23T07:23:28.581018Z"
    },
    "papermill": {
     "duration": 0.293512,
     "end_time": "2021-10-24T18:47:21.166649",
     "exception": false,
     "start_time": "2021-10-24T18:47:20.873137",
     "status": "completed"
    },
    "tags": []
   },
   "outputs": [
    {
     "data": {
      "text/plain": [
       "(array([4.3592e+04, 4.5960e+03, 1.3400e+02, 1.3300e+02, 3.3000e+01,\n",
       "        9.0000e+00, 4.0000e+00, 5.3000e+01, 4.0000e+00, 4.0000e+00,\n",
       "        4.0000e+00, 7.0000e+00, 0.0000e+00, 0.0000e+00, 3.5000e+01,\n",
       "        1.0000e+00, 0.0000e+00, 0.0000e+00, 0.0000e+00, 6.0000e+00,\n",
       "        0.0000e+00, 0.0000e+00, 0.0000e+00, 0.0000e+00, 0.0000e+00,\n",
       "        0.0000e+00, 0.0000e+00, 0.0000e+00, 0.0000e+00, 0.0000e+00,\n",
       "        0.0000e+00, 0.0000e+00, 0.0000e+00, 0.0000e+00, 0.0000e+00,\n",
       "        0.0000e+00, 0.0000e+00, 0.0000e+00, 0.0000e+00, 3.0000e+00,\n",
       "        0.0000e+00, 0.0000e+00, 0.0000e+00, 0.0000e+00, 0.0000e+00,\n",
       "        0.0000e+00, 0.0000e+00, 0.0000e+00, 0.0000e+00, 1.0000e+00]),\n",
       " array([1.00000e+00, 2.59800e+01, 5.09600e+01, 7.59400e+01, 1.00920e+02,\n",
       "        1.25900e+02, 1.50880e+02, 1.75860e+02, 2.00840e+02, 2.25820e+02,\n",
       "        2.50800e+02, 2.75780e+02, 3.00760e+02, 3.25740e+02, 3.50720e+02,\n",
       "        3.75700e+02, 4.00680e+02, 4.25660e+02, 4.50640e+02, 4.75620e+02,\n",
       "        5.00600e+02, 5.25580e+02, 5.50560e+02, 5.75540e+02, 6.00520e+02,\n",
       "        6.25500e+02, 6.50480e+02, 6.75460e+02, 7.00440e+02, 7.25420e+02,\n",
       "        7.50400e+02, 7.75380e+02, 8.00360e+02, 8.25340e+02, 8.50320e+02,\n",
       "        8.75300e+02, 9.00280e+02, 9.25260e+02, 9.50240e+02, 9.75220e+02,\n",
       "        1.00020e+03, 1.02518e+03, 1.05016e+03, 1.07514e+03, 1.10012e+03,\n",
       "        1.12510e+03, 1.15008e+03, 1.17506e+03, 1.20004e+03, 1.22502e+03,\n",
       "        1.25000e+03]),\n",
       " <a list of 50 Patch objects>)"
      ]
     },
     "execution_count": 23,
     "metadata": {},
     "output_type": "execute_result"
    },
    {
     "data": {
      "image/png": "[encoded data removed]",
      "text/plain": [
       "<Figure size 432x288 with 1 Axes>"
      ]
     },
     "metadata": {
      "needs_background": "light"
     },
     "output_type": "display_data"
    }
   ],
   "source": [
    "plt.hist(data.minimum_nights, bins=50)"
   ]
  },
  {
   "cell_type": "code",
   "execution_count": 24,
   "metadata": {
    "execution": {
     "iopub.execute_input": "2021-10-24T18:47:21.305760Z",
     "iopub.status.busy": "2021-10-24T18:47:21.304823Z",
     "iopub.status.idle": "2021-10-24T18:47:21.309434Z",
     "shell.execute_reply": "2021-10-24T18:47:21.308801Z",
     "shell.execute_reply.started": "2021-10-23T07:23:28.838149Z"
    },
    "papermill": {
     "duration": 0.076564,
     "end_time": "2021-10-24T18:47:21.309567",
     "exception": false,
     "start_time": "2021-10-24T18:47:21.233003",
     "status": "completed"
    },
    "tags": []
   },
   "outputs": [
    {
     "data": {
      "text/plain": [
       "65"
      ]
     },
     "execution_count": 24,
     "metadata": {},
     "output_type": "execute_result"
    }
   ],
   "source": [
    "len(data[data.minimum_nights > 200])"
   ]
  },
  {
   "cell_type": "markdown",
   "metadata": {
    "papermill": {
     "duration": 0.0647,
     "end_time": "2021-10-24T18:47:21.439432",
     "exception": false,
     "start_time": "2021-10-24T18:47:21.374732",
     "status": "completed"
    },
    "tags": []
   },
   "source": [
    "Obviously more than 200 nigths is outliers."
   ]
  },
  {
   "cell_type": "code",
   "execution_count": 25,
   "metadata": {
    "execution": {
     "iopub.execute_input": "2021-10-24T18:47:21.576134Z",
     "iopub.status.busy": "2021-10-24T18:47:21.574967Z",
     "iopub.status.idle": "2021-10-24T18:47:21.586564Z",
     "shell.execute_reply": "2021-10-24T18:47:21.587053Z",
     "shell.execute_reply.started": "2021-10-23T07:23:28.848895Z"
    },
    "papermill": {
     "duration": 0.082195,
     "end_time": "2021-10-24T18:47:21.587223",
     "exception": false,
     "start_time": "2021-10-24T18:47:21.505028",
     "status": "completed"
    },
    "tags": []
   },
   "outputs": [],
   "source": [
    "data = data[data.minimum_nights < 200]"
   ]
  },
  {
   "cell_type": "code",
   "execution_count": 26,
   "metadata": {
    "execution": {
     "iopub.execute_input": "2021-10-24T18:47:21.721262Z",
     "iopub.status.busy": "2021-10-24T18:47:21.720261Z",
     "iopub.status.idle": "2021-10-24T18:47:21.957918Z",
     "shell.execute_reply": "2021-10-24T18:47:21.958429Z",
     "shell.execute_reply.started": "2021-10-23T07:23:28.872219Z"
    },
    "papermill": {
     "duration": 0.306169,
     "end_time": "2021-10-24T18:47:21.958586",
     "exception": false,
     "start_time": "2021-10-24T18:47:21.652417",
     "status": "completed"
    },
    "tags": []
   },
   "outputs": [
    {
     "data": {
      "text/plain": [
       "(array([3.5533e+04, 5.9480e+03, 6.8300e+02, 9.1100e+02, 2.7200e+02,\n",
       "        1.6300e+02, 3.1800e+02, 4.2780e+03, 1.8000e+01, 1.3000e+01,\n",
       "        4.0000e+00, 3.4000e+01, 1.3000e+01, 8.0000e+00, 1.0900e+02,\n",
       "        3.0000e+00, 1.0000e+00, 8.0000e+00, 5.0000e+00, 0.0000e+00,\n",
       "        8.0000e+00, 2.0000e+00, 1.0600e+02, 2.0000e+00, 2.0000e+00,\n",
       "        1.3000e+01, 2.0000e+00, 3.0000e+00, 2.0000e+00, 0.0000e+00,\n",
       "        2.6000e+01, 0.0000e+00, 0.0000e+00, 3.0000e+00, 0.0000e+00,\n",
       "        0.0000e+00, 0.0000e+00, 6.0000e+00, 1.0000e+00, 0.0000e+00,\n",
       "        2.0000e+00, 0.0000e+00, 0.0000e+00, 0.0000e+00, 1.0000e+00,\n",
       "        4.4000e+01, 4.0000e+00, 0.0000e+00, 0.0000e+00, 1.0000e+00]),\n",
       " array([  1.  ,   4.94,   8.88,  12.82,  16.76,  20.7 ,  24.64,  28.58,\n",
       "         32.52,  36.46,  40.4 ,  44.34,  48.28,  52.22,  56.16,  60.1 ,\n",
       "         64.04,  67.98,  71.92,  75.86,  79.8 ,  83.74,  87.68,  91.62,\n",
       "         95.56,  99.5 , 103.44, 107.38, 111.32, 115.26, 119.2 , 123.14,\n",
       "        127.08, 131.02, 134.96, 138.9 , 142.84, 146.78, 150.72, 154.66,\n",
       "        158.6 , 162.54, 166.48, 170.42, 174.36, 178.3 , 182.24, 186.18,\n",
       "        190.12, 194.06, 198.  ]),\n",
       " <a list of 50 Patch objects>)"
      ]
     },
     "execution_count": 26,
     "metadata": {},
     "output_type": "execute_result"
    },
    {
     "data": {
      "image/png": "[encoded data removed]",
      "text/plain": [
       "<Figure size 432x288 with 1 Axes>"
      ]
     },
     "metadata": {
      "needs_background": "light"
     },
     "output_type": "display_data"
    }
   ],
   "source": [
    "plt.hist(data.minimum_nights, bins=50)"
   ]
  },
  {
   "cell_type": "code",
   "execution_count": 27,
   "metadata": {
    "execution": {
     "iopub.execute_input": "2021-10-24T18:47:22.099864Z",
     "iopub.status.busy": "2021-10-24T18:47:22.099187Z",
     "iopub.status.idle": "2021-10-24T18:47:22.104234Z",
     "shell.execute_reply": "2021-10-24T18:47:22.104783Z",
     "shell.execute_reply.started": "2021-10-23T07:23:29.149415Z"
    },
    "papermill": {
     "duration": 0.078866,
     "end_time": "2021-10-24T18:47:22.104933",
     "exception": false,
     "start_time": "2021-10-24T18:47:22.026067",
     "status": "completed"
    },
    "tags": []
   },
   "outputs": [
    {
     "data": {
      "text/plain": [
       "95"
      ]
     },
     "execution_count": 27,
     "metadata": {},
     "output_type": "execute_result"
    }
   ],
   "source": [
    "len(data[data.minimum_nights > 100])"
   ]
  },
  {
   "cell_type": "markdown",
   "metadata": {
    "papermill": {
     "duration": 0.067114,
     "end_time": "2021-10-24T18:47:22.239447",
     "exception": false,
     "start_time": "2021-10-24T18:47:22.172333",
     "status": "completed"
    },
    "tags": []
   },
   "source": [
    "We save more than 100 nights because it's not outliers anymore. check other column. "
   ]
  },
  {
   "cell_type": "code",
   "execution_count": 28,
   "metadata": {
    "execution": {
     "iopub.execute_input": "2021-10-24T18:47:22.378429Z",
     "iopub.status.busy": "2021-10-24T18:47:22.376098Z",
     "iopub.status.idle": "2021-10-24T18:47:22.417547Z",
     "shell.execute_reply": "2021-10-24T18:47:22.418048Z",
     "shell.execute_reply.started": "2021-10-23T07:23:29.159585Z"
    },
    "papermill": {
     "duration": 0.111718,
     "end_time": "2021-10-24T18:47:22.418215",
     "exception": false,
     "start_time": "2021-10-24T18:47:22.306497",
     "status": "completed"
    },
    "tags": []
   },
   "outputs": [
    {
     "data": {
      "text/html": [
       "<div>\n",
       "<style scoped>\n",
       "    .dataframe tbody tr th:only-of-type {\n",
       "        vertical-align: middle;\n",
       "    }\n",
       "\n",
       "    .dataframe tbody tr th {\n",
       "        vertical-align: top;\n",
       "    }\n",
       "\n",
       "    .dataframe thead th {\n",
       "        text-align: right;\n",
       "    }\n",
       "</style>\n",
       "<table border=\"1\" class=\"dataframe\">\n",
       "  <thead>\n",
       "    <tr style=\"text-align: right;\">\n",
       "      <th></th>\n",
       "      <th>id</th>\n",
       "      <th>name</th>\n",
       "      <th>host_id</th>\n",
       "      <th>host_name</th>\n",
       "      <th>neighbourhood_group</th>\n",
       "      <th>neighbourhood</th>\n",
       "      <th>latitude</th>\n",
       "      <th>longitude</th>\n",
       "      <th>room_type</th>\n",
       "      <th>price</th>\n",
       "      <th>minimum_nights</th>\n",
       "      <th>number_of_reviews</th>\n",
       "      <th>last_review</th>\n",
       "      <th>reviews_per_month</th>\n",
       "      <th>calculated_host_listings_count</th>\n",
       "      <th>availability_365</th>\n",
       "    </tr>\n",
       "  </thead>\n",
       "  <tbody>\n",
       "    <tr>\n",
       "      <th>48894</th>\n",
       "      <td>36487245</td>\n",
       "      <td>Trendy duplex in the very heart of Hell's Kitchen</td>\n",
       "      <td>68119814</td>\n",
       "      <td>Christophe</td>\n",
       "      <td>Manhattan</td>\n",
       "      <td>Hell's Kitchen</td>\n",
       "      <td>40.76404</td>\n",
       "      <td>-73.98933</td>\n",
       "      <td>Private room</td>\n",
       "      <td>90</td>\n",
       "      <td>7</td>\n",
       "      <td>0</td>\n",
       "      <td>0</td>\n",
       "      <td>0.00</td>\n",
       "      <td>1</td>\n",
       "      <td>23</td>\n",
       "    </tr>\n",
       "    <tr>\n",
       "      <th>40761</th>\n",
       "      <td>31650146</td>\n",
       "      <td>Gorgeous Spacious 1BR in Prime Lower East Side</td>\n",
       "      <td>1306854</td>\n",
       "      <td>Ani</td>\n",
       "      <td>Manhattan</td>\n",
       "      <td>Lower East Side</td>\n",
       "      <td>40.71991</td>\n",
       "      <td>-73.98505</td>\n",
       "      <td>Entire home/apt</td>\n",
       "      <td>110</td>\n",
       "      <td>30</td>\n",
       "      <td>0</td>\n",
       "      <td>0</td>\n",
       "      <td>0.00</td>\n",
       "      <td>1</td>\n",
       "      <td>172</td>\n",
       "    </tr>\n",
       "    <tr>\n",
       "      <th>40760</th>\n",
       "      <td>31649210</td>\n",
       "      <td>one bedroom</td>\n",
       "      <td>111586798</td>\n",
       "      <td>Percival</td>\n",
       "      <td>Bronx</td>\n",
       "      <td>Soundview</td>\n",
       "      <td>40.82121</td>\n",
       "      <td>-73.87764</td>\n",
       "      <td>Private room</td>\n",
       "      <td>65</td>\n",
       "      <td>7</td>\n",
       "      <td>0</td>\n",
       "      <td>0</td>\n",
       "      <td>0.00</td>\n",
       "      <td>1</td>\n",
       "      <td>90</td>\n",
       "    </tr>\n",
       "    <tr>\n",
       "      <th>40758</th>\n",
       "      <td>31647962</td>\n",
       "      <td>Spacious and stylish Harlem apartment</td>\n",
       "      <td>237280886</td>\n",
       "      <td>Nicola</td>\n",
       "      <td>Manhattan</td>\n",
       "      <td>Harlem</td>\n",
       "      <td>40.82636</td>\n",
       "      <td>-73.94985</td>\n",
       "      <td>Entire home/apt</td>\n",
       "      <td>95</td>\n",
       "      <td>2</td>\n",
       "      <td>0</td>\n",
       "      <td>0</td>\n",
       "      <td>0.00</td>\n",
       "      <td>1</td>\n",
       "      <td>0</td>\n",
       "    </tr>\n",
       "    <tr>\n",
       "      <th>13619</th>\n",
       "      <td>10192898</td>\n",
       "      <td>Heart of West Village, over NYE!</td>\n",
       "      <td>7108710</td>\n",
       "      <td>Katie</td>\n",
       "      <td>Manhattan</td>\n",
       "      <td>West Village</td>\n",
       "      <td>40.73440</td>\n",
       "      <td>-74.00262</td>\n",
       "      <td>Private room</td>\n",
       "      <td>105</td>\n",
       "      <td>1</td>\n",
       "      <td>0</td>\n",
       "      <td>0</td>\n",
       "      <td>0.00</td>\n",
       "      <td>1</td>\n",
       "      <td>0</td>\n",
       "    </tr>\n",
       "    <tr>\n",
       "      <th>...</th>\n",
       "      <td>...</td>\n",
       "      <td>...</td>\n",
       "      <td>...</td>\n",
       "      <td>...</td>\n",
       "      <td>...</td>\n",
       "      <td>...</td>\n",
       "      <td>...</td>\n",
       "      <td>...</td>\n",
       "      <td>...</td>\n",
       "      <td>...</td>\n",
       "      <td>...</td>\n",
       "      <td>...</td>\n",
       "      <td>...</td>\n",
       "      <td>...</td>\n",
       "      <td>...</td>\n",
       "      <td>...</td>\n",
       "    </tr>\n",
       "    <tr>\n",
       "      <th>13495</th>\n",
       "      <td>10101135</td>\n",
       "      <td>Room Near JFK Twin Beds</td>\n",
       "      <td>47621202</td>\n",
       "      <td>Dona</td>\n",
       "      <td>Queens</td>\n",
       "      <td>Jamaica</td>\n",
       "      <td>40.66939</td>\n",
       "      <td>-73.76975</td>\n",
       "      <td>Private room</td>\n",
       "      <td>47</td>\n",
       "      <td>1</td>\n",
       "      <td>576</td>\n",
       "      <td>2019-06-27</td>\n",
       "      <td>13.40</td>\n",
       "      <td>2</td>\n",
       "      <td>173</td>\n",
       "    </tr>\n",
       "    <tr>\n",
       "      <th>2015</th>\n",
       "      <td>891117</td>\n",
       "      <td>Private Bedroom in Manhattan</td>\n",
       "      <td>4734398</td>\n",
       "      <td>Jj</td>\n",
       "      <td>Manhattan</td>\n",
       "      <td>Harlem</td>\n",
       "      <td>40.82264</td>\n",
       "      <td>-73.94041</td>\n",
       "      <td>Private room</td>\n",
       "      <td>49</td>\n",
       "      <td>1</td>\n",
       "      <td>594</td>\n",
       "      <td>2019-06-15</td>\n",
       "      <td>7.57</td>\n",
       "      <td>3</td>\n",
       "      <td>339</td>\n",
       "    </tr>\n",
       "    <tr>\n",
       "      <th>2030</th>\n",
       "      <td>903947</td>\n",
       "      <td>Beautiful Bedroom in Manhattan</td>\n",
       "      <td>4734398</td>\n",
       "      <td>Jj</td>\n",
       "      <td>Manhattan</td>\n",
       "      <td>Harlem</td>\n",
       "      <td>40.82124</td>\n",
       "      <td>-73.93838</td>\n",
       "      <td>Private room</td>\n",
       "      <td>49</td>\n",
       "      <td>1</td>\n",
       "      <td>597</td>\n",
       "      <td>2019-06-23</td>\n",
       "      <td>7.72</td>\n",
       "      <td>3</td>\n",
       "      <td>342</td>\n",
       "    </tr>\n",
       "    <tr>\n",
       "      <th>2031</th>\n",
       "      <td>903972</td>\n",
       "      <td>Great Bedroom in Manhattan</td>\n",
       "      <td>4734398</td>\n",
       "      <td>Jj</td>\n",
       "      <td>Manhattan</td>\n",
       "      <td>Harlem</td>\n",
       "      <td>40.82085</td>\n",
       "      <td>-73.94025</td>\n",
       "      <td>Private room</td>\n",
       "      <td>49</td>\n",
       "      <td>1</td>\n",
       "      <td>607</td>\n",
       "      <td>2019-06-21</td>\n",
       "      <td>7.75</td>\n",
       "      <td>3</td>\n",
       "      <td>293</td>\n",
       "    </tr>\n",
       "    <tr>\n",
       "      <th>11759</th>\n",
       "      <td>9145202</td>\n",
       "      <td>Room near JFK Queen Bed</td>\n",
       "      <td>47621202</td>\n",
       "      <td>Dona</td>\n",
       "      <td>Queens</td>\n",
       "      <td>Jamaica</td>\n",
       "      <td>40.66730</td>\n",
       "      <td>-73.76831</td>\n",
       "      <td>Private room</td>\n",
       "      <td>47</td>\n",
       "      <td>1</td>\n",
       "      <td>629</td>\n",
       "      <td>2019-07-05</td>\n",
       "      <td>14.58</td>\n",
       "      <td>2</td>\n",
       "      <td>333</td>\n",
       "    </tr>\n",
       "  </tbody>\n",
       "</table>\n",
       "<p>48550 rows × 16 columns</p>\n",
       "</div>"
      ],
      "text/plain": [
       "             id                                               name    host_id  \\\n",
       "48894  36487245  Trendy duplex in the very heart of Hell's Kitchen   68119814   \n",
       "40761  31650146     Gorgeous Spacious 1BR in Prime Lower East Side    1306854   \n",
       "40760  31649210                                        one bedroom  111586798   \n",
       "40758  31647962              Spacious and stylish Harlem apartment  237280886   \n",
       "13619  10192898                   Heart of West Village, over NYE!    7108710   \n",
       "...         ...                                                ...        ...   \n",
       "13495  10101135                            Room Near JFK Twin Beds   47621202   \n",
       "2015     891117                       Private Bedroom in Manhattan    4734398   \n",
       "2030     903947                     Beautiful Bedroom in Manhattan    4734398   \n",
       "2031     903972                         Great Bedroom in Manhattan    4734398   \n",
       "11759   9145202                            Room near JFK Queen Bed   47621202   \n",
       "\n",
       "        host_name neighbourhood_group    neighbourhood  latitude  longitude  \\\n",
       "48894  Christophe           Manhattan   Hell's Kitchen  40.76404  -73.98933   \n",
       "40761         Ani           Manhattan  Lower East Side  40.71991  -73.98505   \n",
       "40760    Percival               Bronx        Soundview  40.82121  -73.87764   \n",
       "40758      Nicola           Manhattan           Harlem  40.82636  -73.94985   \n",
       "13619       Katie           Manhattan     West Village  40.73440  -74.00262   \n",
       "...           ...                 ...              ...       ...        ...   \n",
       "13495        Dona              Queens          Jamaica  40.66939  -73.76975   \n",
       "2015           Jj           Manhattan           Harlem  40.82264  -73.94041   \n",
       "2030           Jj           Manhattan           Harlem  40.82124  -73.93838   \n",
       "2031           Jj           Manhattan           Harlem  40.82085  -73.94025   \n",
       "11759        Dona              Queens          Jamaica  40.66730  -73.76831   \n",
       "\n",
       "             room_type  price  minimum_nights  number_of_reviews last_review  \\\n",
       "48894     Private room     90               7                  0           0   \n",
       "40761  Entire home/apt    110              30                  0           0   \n",
       "40760     Private room     65               7                  0           0   \n",
       "40758  Entire home/apt     95               2                  0           0   \n",
       "13619     Private room    105               1                  0           0   \n",
       "...                ...    ...             ...                ...         ...   \n",
       "13495     Private room     47               1                576  2019-06-27   \n",
       "2015      Private room     49               1                594  2019-06-15   \n",
       "2030      Private room     49               1                597  2019-06-23   \n",
       "2031      Private room     49               1                607  2019-06-21   \n",
       "11759     Private room     47               1                629  2019-07-05   \n",
       "\n",
       "       reviews_per_month  calculated_host_listings_count  availability_365  \n",
       "48894               0.00                               1                23  \n",
       "40761               0.00                               1               172  \n",
       "40760               0.00                               1                90  \n",
       "40758               0.00                               1                 0  \n",
       "13619               0.00                               1                 0  \n",
       "...                  ...                             ...               ...  \n",
       "13495              13.40                               2               173  \n",
       "2015                7.57                               3               339  \n",
       "2030                7.72                               3               342  \n",
       "2031                7.75                               3               293  \n",
       "11759              14.58                               2               333  \n",
       "\n",
       "[48550 rows x 16 columns]"
      ]
     },
     "execution_count": 28,
     "metadata": {},
     "output_type": "execute_result"
    }
   ],
   "source": [
    "data.sort_values(by=['number_of_reviews'])"
   ]
  },
  {
   "cell_type": "code",
   "execution_count": 29,
   "metadata": {
    "execution": {
     "iopub.execute_input": "2021-10-24T18:47:22.558485Z",
     "iopub.status.busy": "2021-10-24T18:47:22.557463Z",
     "iopub.status.idle": "2021-10-24T18:47:22.788338Z",
     "shell.execute_reply": "2021-10-24T18:47:22.787751Z",
     "shell.execute_reply.started": "2021-10-23T07:23:29.217037Z"
    },
    "papermill": {
     "duration": 0.302482,
     "end_time": "2021-10-24T18:47:22.788472",
     "exception": false,
     "start_time": "2021-10-24T18:47:22.485990",
     "status": "completed"
    },
    "tags": []
   },
   "outputs": [
    {
     "data": {
      "text/plain": [
       "(array([3.1499e+04, 5.4690e+03, 2.7120e+03, 1.9280e+03, 1.3600e+03,\n",
       "        1.1180e+03, 8.4900e+02, 6.2700e+02, 5.3000e+02, 4.3600e+02,\n",
       "        3.9500e+02, 2.8600e+02, 2.3800e+02, 1.9100e+02, 1.5400e+02,\n",
       "        1.3400e+02, 1.3300e+02, 9.5000e+01, 8.5000e+01, 5.2000e+01,\n",
       "        4.4000e+01, 3.7000e+01, 2.7000e+01, 2.0000e+01, 1.3000e+01,\n",
       "        2.6000e+01, 1.3000e+01, 1.0000e+01, 1.1000e+01, 7.0000e+00,\n",
       "        6.0000e+00, 8.0000e+00, 8.0000e+00, 4.0000e+00, 5.0000e+00,\n",
       "        4.0000e+00, 3.0000e+00, 3.0000e+00, 2.0000e+00, 0.0000e+00,\n",
       "        1.0000e+00, 0.0000e+00, 1.0000e+00, 1.0000e+00, 0.0000e+00,\n",
       "        1.0000e+00, 0.0000e+00, 2.0000e+00, 1.0000e+00, 1.0000e+00]),\n",
       " array([  0.  ,  12.58,  25.16,  37.74,  50.32,  62.9 ,  75.48,  88.06,\n",
       "        100.64, 113.22, 125.8 , 138.38, 150.96, 163.54, 176.12, 188.7 ,\n",
       "        201.28, 213.86, 226.44, 239.02, 251.6 , 264.18, 276.76, 289.34,\n",
       "        301.92, 314.5 , 327.08, 339.66, 352.24, 364.82, 377.4 , 389.98,\n",
       "        402.56, 415.14, 427.72, 440.3 , 452.88, 465.46, 478.04, 490.62,\n",
       "        503.2 , 515.78, 528.36, 540.94, 553.52, 566.1 , 578.68, 591.26,\n",
       "        603.84, 616.42, 629.  ]),\n",
       " <a list of 50 Patch objects>)"
      ]
     },
     "execution_count": 29,
     "metadata": {},
     "output_type": "execute_result"
    },
    {
     "data": {
      "image/png": "[encoded data removed]",
      "text/plain": [
       "<Figure size 432x288 with 1 Axes>"
      ]
     },
     "metadata": {
      "needs_background": "light"
     },
     "output_type": "display_data"
    }
   ],
   "source": [
    "plt.hist(data.number_of_reviews, bins=50)"
   ]
  },
  {
   "cell_type": "code",
   "execution_count": 30,
   "metadata": {
    "execution": {
     "iopub.execute_input": "2021-10-24T18:47:22.933142Z",
     "iopub.status.busy": "2021-10-24T18:47:22.932110Z",
     "iopub.status.idle": "2021-10-24T18:47:22.940084Z",
     "shell.execute_reply": "2021-10-24T18:47:22.940728Z",
     "shell.execute_reply.started": "2021-10-23T07:23:29.473112Z"
    },
    "papermill": {
     "duration": 0.081748,
     "end_time": "2021-10-24T18:47:22.941313",
     "exception": false,
     "start_time": "2021-10-24T18:47:22.859565",
     "status": "completed"
    },
    "tags": []
   },
   "outputs": [
    {
     "data": {
      "text/plain": [
       "131"
      ]
     },
     "execution_count": 30,
     "metadata": {},
     "output_type": "execute_result"
    }
   ],
   "source": [
    "len(data[data.number_of_reviews > 300])"
   ]
  },
  {
   "cell_type": "code",
   "execution_count": 31,
   "metadata": {
    "execution": {
     "iopub.execute_input": "2021-10-24T18:47:23.084577Z",
     "iopub.status.busy": "2021-10-24T18:47:23.083581Z",
     "iopub.status.idle": "2021-10-24T18:47:23.091262Z",
     "shell.execute_reply": "2021-10-24T18:47:23.090631Z",
     "shell.execute_reply.started": "2021-10-23T07:23:29.486316Z"
    },
    "papermill": {
     "duration": 0.080161,
     "end_time": "2021-10-24T18:47:23.091377",
     "exception": false,
     "start_time": "2021-10-24T18:47:23.011216",
     "status": "completed"
    },
    "tags": []
   },
   "outputs": [
    {
     "data": {
      "text/plain": [
       "39"
      ]
     },
     "execution_count": 31,
     "metadata": {},
     "output_type": "execute_result"
    }
   ],
   "source": [
    "len(data[data.number_of_reviews > 400])"
   ]
  },
  {
   "cell_type": "markdown",
   "metadata": {
    "papermill": {
     "duration": 0.070902,
     "end_time": "2021-10-24T18:47:23.233505",
     "exception": false,
     "start_time": "2021-10-24T18:47:23.162603",
     "status": "completed"
    },
    "tags": []
   },
   "source": [
    "more than 400 were outliers."
   ]
  },
  {
   "cell_type": "code",
   "execution_count": 32,
   "metadata": {
    "execution": {
     "iopub.execute_input": "2021-10-24T18:47:23.379007Z",
     "iopub.status.busy": "2021-10-24T18:47:23.378406Z",
     "iopub.status.idle": "2021-10-24T18:47:23.389901Z",
     "shell.execute_reply": "2021-10-24T18:47:23.390521Z",
     "shell.execute_reply.started": "2021-10-23T07:23:29.50474Z"
    },
    "papermill": {
     "duration": 0.086682,
     "end_time": "2021-10-24T18:47:23.390659",
     "exception": false,
     "start_time": "2021-10-24T18:47:23.303977",
     "status": "completed"
    },
    "tags": []
   },
   "outputs": [],
   "source": [
    "data = data[data.number_of_reviews <= 400]"
   ]
  },
  {
   "cell_type": "markdown",
   "metadata": {
    "papermill": {
     "duration": 0.069516,
     "end_time": "2021-10-24T18:47:23.530854",
     "exception": false,
     "start_time": "2021-10-24T18:47:23.461338",
     "status": "completed"
    },
    "tags": []
   },
   "source": [
    "We ignore reviews_per_month because many of them put by myself. "
   ]
  },
  {
   "cell_type": "code",
   "execution_count": 33,
   "metadata": {
    "execution": {
     "iopub.execute_input": "2021-10-24T18:47:23.674968Z",
     "iopub.status.busy": "2021-10-24T18:47:23.674342Z",
     "iopub.status.idle": "2021-10-24T18:47:23.709663Z",
     "shell.execute_reply": "2021-10-24T18:47:23.710167Z",
     "shell.execute_reply.started": "2021-10-23T07:23:29.526162Z"
    },
    "papermill": {
     "duration": 0.109893,
     "end_time": "2021-10-24T18:47:23.710317",
     "exception": false,
     "start_time": "2021-10-24T18:47:23.600424",
     "status": "completed"
    },
    "tags": []
   },
   "outputs": [
    {
     "data": {
      "text/html": [
       "<div>\n",
       "<style scoped>\n",
       "    .dataframe tbody tr th:only-of-type {\n",
       "        vertical-align: middle;\n",
       "    }\n",
       "\n",
       "    .dataframe tbody tr th {\n",
       "        vertical-align: top;\n",
       "    }\n",
       "\n",
       "    .dataframe thead th {\n",
       "        text-align: right;\n",
       "    }\n",
       "</style>\n",
       "<table border=\"1\" class=\"dataframe\">\n",
       "  <thead>\n",
       "    <tr style=\"text-align: right;\">\n",
       "      <th></th>\n",
       "      <th>id</th>\n",
       "      <th>name</th>\n",
       "      <th>host_id</th>\n",
       "      <th>host_name</th>\n",
       "      <th>neighbourhood_group</th>\n",
       "      <th>neighbourhood</th>\n",
       "      <th>latitude</th>\n",
       "      <th>longitude</th>\n",
       "      <th>room_type</th>\n",
       "      <th>price</th>\n",
       "      <th>minimum_nights</th>\n",
       "      <th>number_of_reviews</th>\n",
       "      <th>last_review</th>\n",
       "      <th>reviews_per_month</th>\n",
       "      <th>calculated_host_listings_count</th>\n",
       "      <th>availability_365</th>\n",
       "    </tr>\n",
       "  </thead>\n",
       "  <tbody>\n",
       "    <tr>\n",
       "      <th>24487</th>\n",
       "      <td>19701453</td>\n",
       "      <td>GardenViewApt 10min to Bushwick ArtScene,Food,...</td>\n",
       "      <td>5413500</td>\n",
       "      <td>Rebecca</td>\n",
       "      <td>Queens</td>\n",
       "      <td>Ridgewood</td>\n",
       "      <td>40.70499</td>\n",
       "      <td>-73.91304</td>\n",
       "      <td>Entire home/apt</td>\n",
       "      <td>95</td>\n",
       "      <td>3</td>\n",
       "      <td>0</td>\n",
       "      <td>0</td>\n",
       "      <td>0.00</td>\n",
       "      <td>1</td>\n",
       "      <td>0</td>\n",
       "    </tr>\n",
       "    <tr>\n",
       "      <th>28008</th>\n",
       "      <td>21885860</td>\n",
       "      <td>HUGE Bedroom in Brooklyn Off Lorimer J/M/Z &amp; L</td>\n",
       "      <td>3105557</td>\n",
       "      <td>Joshua</td>\n",
       "      <td>Brooklyn</td>\n",
       "      <td>Williamsburg</td>\n",
       "      <td>40.70383</td>\n",
       "      <td>-73.94431</td>\n",
       "      <td>Private room</td>\n",
       "      <td>43</td>\n",
       "      <td>2</td>\n",
       "      <td>6</td>\n",
       "      <td>2018-01-02</td>\n",
       "      <td>0.31</td>\n",
       "      <td>1</td>\n",
       "      <td>0</td>\n",
       "    </tr>\n",
       "    <tr>\n",
       "      <th>28009</th>\n",
       "      <td>21885914</td>\n",
       "      <td>Gorgeous 1 BR in heart of Prospect Heights!</td>\n",
       "      <td>7683267</td>\n",
       "      <td>Nicholas</td>\n",
       "      <td>Brooklyn</td>\n",
       "      <td>Prospect Heights</td>\n",
       "      <td>40.67933</td>\n",
       "      <td>-73.96912</td>\n",
       "      <td>Entire home/apt</td>\n",
       "      <td>100</td>\n",
       "      <td>1</td>\n",
       "      <td>61</td>\n",
       "      <td>2019-06-29</td>\n",
       "      <td>3.23</td>\n",
       "      <td>1</td>\n",
       "      <td>0</td>\n",
       "    </tr>\n",
       "    <tr>\n",
       "      <th>28011</th>\n",
       "      <td>21890848</td>\n",
       "      <td>Beautiful Healthy Home in Ditmas Park</td>\n",
       "      <td>21003445</td>\n",
       "      <td>Vanessa</td>\n",
       "      <td>Brooklyn</td>\n",
       "      <td>Flatbush</td>\n",
       "      <td>40.63531</td>\n",
       "      <td>-73.96546</td>\n",
       "      <td>Private room</td>\n",
       "      <td>55</td>\n",
       "      <td>2</td>\n",
       "      <td>3</td>\n",
       "      <td>2018-04-30</td>\n",
       "      <td>0.16</td>\n",
       "      <td>1</td>\n",
       "      <td>65</td>\n",
       "    </tr>\n",
       "    <tr>\n",
       "      <th>28012</th>\n",
       "      <td>21891406</td>\n",
       "      <td>Bright studio size room in the East Village</td>\n",
       "      <td>42954481</td>\n",
       "      <td>Cindy</td>\n",
       "      <td>Manhattan</td>\n",
       "      <td>East Village</td>\n",
       "      <td>40.72801</td>\n",
       "      <td>-73.98736</td>\n",
       "      <td>Private room</td>\n",
       "      <td>95</td>\n",
       "      <td>1</td>\n",
       "      <td>3</td>\n",
       "      <td>2018-10-29</td>\n",
       "      <td>0.16</td>\n",
       "      <td>1</td>\n",
       "      <td>0</td>\n",
       "    </tr>\n",
       "    <tr>\n",
       "      <th>...</th>\n",
       "      <td>...</td>\n",
       "      <td>...</td>\n",
       "      <td>...</td>\n",
       "      <td>...</td>\n",
       "      <td>...</td>\n",
       "      <td>...</td>\n",
       "      <td>...</td>\n",
       "      <td>...</td>\n",
       "      <td>...</td>\n",
       "      <td>...</td>\n",
       "      <td>...</td>\n",
       "      <td>...</td>\n",
       "      <td>...</td>\n",
       "      <td>...</td>\n",
       "      <td>...</td>\n",
       "      <td>...</td>\n",
       "    </tr>\n",
       "    <tr>\n",
       "      <th>41440</th>\n",
       "      <td>32239034</td>\n",
       "      <td>Sonder | Stock Exchange | Quaint Studio + Lounge</td>\n",
       "      <td>219517861</td>\n",
       "      <td>Sonder (NYC)</td>\n",
       "      <td>Manhattan</td>\n",
       "      <td>Financial District</td>\n",
       "      <td>40.70651</td>\n",
       "      <td>-74.01252</td>\n",
       "      <td>Entire home/apt</td>\n",
       "      <td>203</td>\n",
       "      <td>2</td>\n",
       "      <td>9</td>\n",
       "      <td>2019-06-20</td>\n",
       "      <td>2.16</td>\n",
       "      <td>327</td>\n",
       "      <td>336</td>\n",
       "    </tr>\n",
       "    <tr>\n",
       "      <th>41439</th>\n",
       "      <td>32239033</td>\n",
       "      <td>Sonder | Stock Exchange | Smart 1BR + Kitchen</td>\n",
       "      <td>219517861</td>\n",
       "      <td>Sonder (NYC)</td>\n",
       "      <td>Manhattan</td>\n",
       "      <td>Financial District</td>\n",
       "      <td>40.70583</td>\n",
       "      <td>-74.01089</td>\n",
       "      <td>Entire home/apt</td>\n",
       "      <td>221</td>\n",
       "      <td>2</td>\n",
       "      <td>4</td>\n",
       "      <td>2019-06-24</td>\n",
       "      <td>1.97</td>\n",
       "      <td>327</td>\n",
       "      <td>333</td>\n",
       "    </tr>\n",
       "    <tr>\n",
       "      <th>41437</th>\n",
       "      <td>32238821</td>\n",
       "      <td>Sonder | Stock Exchange | Unique 1BR + Laundry</td>\n",
       "      <td>219517861</td>\n",
       "      <td>Sonder (NYC)</td>\n",
       "      <td>Manhattan</td>\n",
       "      <td>Financial District</td>\n",
       "      <td>40.70731</td>\n",
       "      <td>-74.01021</td>\n",
       "      <td>Entire home/apt</td>\n",
       "      <td>242</td>\n",
       "      <td>2</td>\n",
       "      <td>15</td>\n",
       "      <td>2019-06-16</td>\n",
       "      <td>3.75</td>\n",
       "      <td>327</td>\n",
       "      <td>261</td>\n",
       "    </tr>\n",
       "    <tr>\n",
       "      <th>41435</th>\n",
       "      <td>32238730</td>\n",
       "      <td>Sonder | Stock Exchange | Original 3BR + Lounge</td>\n",
       "      <td>219517861</td>\n",
       "      <td>Sonder (NYC)</td>\n",
       "      <td>Manhattan</td>\n",
       "      <td>Financial District</td>\n",
       "      <td>40.70785</td>\n",
       "      <td>-74.01239</td>\n",
       "      <td>Entire home/apt</td>\n",
       "      <td>505</td>\n",
       "      <td>2</td>\n",
       "      <td>7</td>\n",
       "      <td>2019-06-14</td>\n",
       "      <td>1.79</td>\n",
       "      <td>327</td>\n",
       "      <td>275</td>\n",
       "    </tr>\n",
       "    <tr>\n",
       "      <th>44430</th>\n",
       "      <td>34222262</td>\n",
       "      <td>Sonder | The Biltmore | Modern 1BR + Rooftop</td>\n",
       "      <td>219517861</td>\n",
       "      <td>Sonder (NYC)</td>\n",
       "      <td>Manhattan</td>\n",
       "      <td>Theater District</td>\n",
       "      <td>40.76089</td>\n",
       "      <td>-73.98620</td>\n",
       "      <td>Entire home/apt</td>\n",
       "      <td>215</td>\n",
       "      <td>29</td>\n",
       "      <td>0</td>\n",
       "      <td>0</td>\n",
       "      <td>0.00</td>\n",
       "      <td>327</td>\n",
       "      <td>342</td>\n",
       "    </tr>\n",
       "  </tbody>\n",
       "</table>\n",
       "<p>48511 rows × 16 columns</p>\n",
       "</div>"
      ],
      "text/plain": [
       "             id                                               name    host_id  \\\n",
       "24487  19701453  GardenViewApt 10min to Bushwick ArtScene,Food,...    5413500   \n",
       "28008  21885860     HUGE Bedroom in Brooklyn Off Lorimer J/M/Z & L    3105557   \n",
       "28009  21885914        Gorgeous 1 BR in heart of Prospect Heights!    7683267   \n",
       "28011  21890848              Beautiful Healthy Home in Ditmas Park   21003445   \n",
       "28012  21891406        Bright studio size room in the East Village   42954481   \n",
       "...         ...                                                ...        ...   \n",
       "41440  32239034   Sonder | Stock Exchange | Quaint Studio + Lounge  219517861   \n",
       "41439  32239033      Sonder | Stock Exchange | Smart 1BR + Kitchen  219517861   \n",
       "41437  32238821     Sonder | Stock Exchange | Unique 1BR + Laundry  219517861   \n",
       "41435  32238730    Sonder | Stock Exchange | Original 3BR + Lounge  219517861   \n",
       "44430  34222262       Sonder | The Biltmore | Modern 1BR + Rooftop  219517861   \n",
       "\n",
       "          host_name neighbourhood_group       neighbourhood  latitude  \\\n",
       "24487       Rebecca              Queens           Ridgewood  40.70499   \n",
       "28008        Joshua            Brooklyn        Williamsburg  40.70383   \n",
       "28009      Nicholas            Brooklyn    Prospect Heights  40.67933   \n",
       "28011       Vanessa            Brooklyn            Flatbush  40.63531   \n",
       "28012         Cindy           Manhattan        East Village  40.72801   \n",
       "...             ...                 ...                 ...       ...   \n",
       "41440  Sonder (NYC)           Manhattan  Financial District  40.70651   \n",
       "41439  Sonder (NYC)           Manhattan  Financial District  40.70583   \n",
       "41437  Sonder (NYC)           Manhattan  Financial District  40.70731   \n",
       "41435  Sonder (NYC)           Manhattan  Financial District  40.70785   \n",
       "44430  Sonder (NYC)           Manhattan    Theater District  40.76089   \n",
       "\n",
       "       longitude        room_type  price  minimum_nights  number_of_reviews  \\\n",
       "24487  -73.91304  Entire home/apt     95               3                  0   \n",
       "28008  -73.94431     Private room     43               2                  6   \n",
       "28009  -73.96912  Entire home/apt    100               1                 61   \n",
       "28011  -73.96546     Private room     55               2                  3   \n",
       "28012  -73.98736     Private room     95               1                  3   \n",
       "...          ...              ...    ...             ...                ...   \n",
       "41440  -74.01252  Entire home/apt    203               2                  9   \n",
       "41439  -74.01089  Entire home/apt    221               2                  4   \n",
       "41437  -74.01021  Entire home/apt    242               2                 15   \n",
       "41435  -74.01239  Entire home/apt    505               2                  7   \n",
       "44430  -73.98620  Entire home/apt    215              29                  0   \n",
       "\n",
       "      last_review  reviews_per_month  calculated_host_listings_count  \\\n",
       "24487           0               0.00                               1   \n",
       "28008  2018-01-02               0.31                               1   \n",
       "28009  2019-06-29               3.23                               1   \n",
       "28011  2018-04-30               0.16                               1   \n",
       "28012  2018-10-29               0.16                               1   \n",
       "...           ...                ...                             ...   \n",
       "41440  2019-06-20               2.16                             327   \n",
       "41439  2019-06-24               1.97                             327   \n",
       "41437  2019-06-16               3.75                             327   \n",
       "41435  2019-06-14               1.79                             327   \n",
       "44430           0               0.00                             327   \n",
       "\n",
       "       availability_365  \n",
       "24487                 0  \n",
       "28008                 0  \n",
       "28009                 0  \n",
       "28011                65  \n",
       "28012                 0  \n",
       "...                 ...  \n",
       "41440               336  \n",
       "41439               333  \n",
       "41437               261  \n",
       "41435               275  \n",
       "44430               342  \n",
       "\n",
       "[48511 rows x 16 columns]"
      ]
     },
     "execution_count": 33,
     "metadata": {},
     "output_type": "execute_result"
    }
   ],
   "source": [
    "data.sort_values(by=['calculated_host_listings_count'])"
   ]
  },
  {
   "cell_type": "code",
   "execution_count": 34,
   "metadata": {
    "execution": {
     "iopub.execute_input": "2021-10-24T18:47:23.857562Z",
     "iopub.status.busy": "2021-10-24T18:47:23.856933Z",
     "iopub.status.idle": "2021-10-24T18:47:24.080282Z",
     "shell.execute_reply": "2021-10-24T18:47:24.079771Z",
     "shell.execute_reply.started": "2021-10-23T07:23:29.575054Z"
    },
    "papermill": {
     "duration": 0.298982,
     "end_time": "2021-10-24T18:47:24.080399",
     "exception": false,
     "start_time": "2021-10-24T18:47:23.781417",
     "status": "completed"
    },
    "tags": []
   },
   "outputs": [
    {
     "data": {
      "text/plain": [
       "(array([4.4709e+04, 1.3280e+03, 2.7100e+02, 1.9300e+02, 3.0800e+02,\n",
       "        1.4400e+02, 4.3000e+01, 2.9900e+02, 0.0000e+00, 6.5000e+01,\n",
       "        0.0000e+00, 0.0000e+00, 0.0000e+00, 1.7800e+02, 1.9200e+02,\n",
       "        1.0300e+02, 0.0000e+00, 0.0000e+00, 1.1900e+02, 0.0000e+00,\n",
       "        0.0000e+00, 0.0000e+00, 0.0000e+00, 0.0000e+00, 0.0000e+00,\n",
       "        0.0000e+00, 0.0000e+00, 0.0000e+00, 0.0000e+00, 0.0000e+00,\n",
       "        0.0000e+00, 0.0000e+00, 0.0000e+00, 0.0000e+00, 0.0000e+00,\n",
       "        2.3200e+02, 0.0000e+00, 0.0000e+00, 0.0000e+00, 0.0000e+00,\n",
       "        0.0000e+00, 0.0000e+00, 0.0000e+00, 0.0000e+00, 0.0000e+00,\n",
       "        0.0000e+00, 0.0000e+00, 0.0000e+00, 0.0000e+00, 3.2700e+02]),\n",
       " array([  1.  ,   7.52,  14.04,  20.56,  27.08,  33.6 ,  40.12,  46.64,\n",
       "         53.16,  59.68,  66.2 ,  72.72,  79.24,  85.76,  92.28,  98.8 ,\n",
       "        105.32, 111.84, 118.36, 124.88, 131.4 , 137.92, 144.44, 150.96,\n",
       "        157.48, 164.  , 170.52, 177.04, 183.56, 190.08, 196.6 , 203.12,\n",
       "        209.64, 216.16, 222.68, 229.2 , 235.72, 242.24, 248.76, 255.28,\n",
       "        261.8 , 268.32, 274.84, 281.36, 287.88, 294.4 , 300.92, 307.44,\n",
       "        313.96, 320.48, 327.  ]),\n",
       " <a list of 50 Patch objects>)"
      ]
     },
     "execution_count": 34,
     "metadata": {},
     "output_type": "execute_result"
    },
    {
     "data": {
      "image/png": "[encoded data removed]",
      "text/plain": [
       "<Figure size 432x288 with 1 Axes>"
      ]
     },
     "metadata": {
      "needs_background": "light"
     },
     "output_type": "display_data"
    }
   ],
   "source": [
    "plt.hist(data.calculated_host_listings_count, bins=50)"
   ]
  },
  {
   "cell_type": "markdown",
   "metadata": {
    "papermill": {
     "duration": 0.072939,
     "end_time": "2021-10-24T18:47:24.225466",
     "exception": false,
     "start_time": "2021-10-24T18:47:24.152527",
     "status": "completed"
    },
    "tags": []
   },
   "source": [
    "In this case we don't have any outliers because even in more than 300 we have some datas that were shown in this plot."
   ]
  },
  {
   "cell_type": "code",
   "execution_count": 35,
   "metadata": {
    "execution": {
     "iopub.execute_input": "2021-10-24T18:47:24.374882Z",
     "iopub.status.busy": "2021-10-24T18:47:24.374251Z",
     "iopub.status.idle": "2021-10-24T18:47:24.416390Z",
     "shell.execute_reply": "2021-10-24T18:47:24.416860Z",
     "shell.execute_reply.started": "2021-10-23T07:23:29.858297Z"
    },
    "papermill": {
     "duration": 0.119437,
     "end_time": "2021-10-24T18:47:24.417015",
     "exception": false,
     "start_time": "2021-10-24T18:47:24.297578",
     "status": "completed"
    },
    "tags": []
   },
   "outputs": [
    {
     "data": {
      "text/html": [
       "<div>\n",
       "<style scoped>\n",
       "    .dataframe tbody tr th:only-of-type {\n",
       "        vertical-align: middle;\n",
       "    }\n",
       "\n",
       "    .dataframe tbody tr th {\n",
       "        vertical-align: top;\n",
       "    }\n",
       "\n",
       "    .dataframe thead th {\n",
       "        text-align: right;\n",
       "    }\n",
       "</style>\n",
       "<table border=\"1\" class=\"dataframe\">\n",
       "  <thead>\n",
       "    <tr style=\"text-align: right;\">\n",
       "      <th></th>\n",
       "      <th>id</th>\n",
       "      <th>name</th>\n",
       "      <th>host_id</th>\n",
       "      <th>host_name</th>\n",
       "      <th>neighbourhood_group</th>\n",
       "      <th>neighbourhood</th>\n",
       "      <th>latitude</th>\n",
       "      <th>longitude</th>\n",
       "      <th>room_type</th>\n",
       "      <th>price</th>\n",
       "      <th>minimum_nights</th>\n",
       "      <th>number_of_reviews</th>\n",
       "      <th>last_review</th>\n",
       "      <th>reviews_per_month</th>\n",
       "      <th>calculated_host_listings_count</th>\n",
       "      <th>availability_365</th>\n",
       "    </tr>\n",
       "  </thead>\n",
       "  <tbody>\n",
       "    <tr>\n",
       "      <th>24487</th>\n",
       "      <td>19701453</td>\n",
       "      <td>GardenViewApt 10min to Bushwick ArtScene,Food,...</td>\n",
       "      <td>5413500</td>\n",
       "      <td>Rebecca</td>\n",
       "      <td>Queens</td>\n",
       "      <td>Ridgewood</td>\n",
       "      <td>40.70499</td>\n",
       "      <td>-73.91304</td>\n",
       "      <td>Entire home/apt</td>\n",
       "      <td>95</td>\n",
       "      <td>3</td>\n",
       "      <td>0</td>\n",
       "      <td>0</td>\n",
       "      <td>0.00</td>\n",
       "      <td>1</td>\n",
       "      <td>0</td>\n",
       "    </tr>\n",
       "    <tr>\n",
       "      <th>28799</th>\n",
       "      <td>22238046</td>\n",
       "      <td>Bronx 167th Grand ConCourse</td>\n",
       "      <td>162457374</td>\n",
       "      <td>Daniel</td>\n",
       "      <td>Bronx</td>\n",
       "      <td>Concourse Village</td>\n",
       "      <td>40.83314</td>\n",
       "      <td>-73.91708</td>\n",
       "      <td>Private room</td>\n",
       "      <td>38</td>\n",
       "      <td>2</td>\n",
       "      <td>0</td>\n",
       "      <td>0</td>\n",
       "      <td>0.00</td>\n",
       "      <td>1</td>\n",
       "      <td>0</td>\n",
       "    </tr>\n",
       "    <tr>\n",
       "      <th>14162</th>\n",
       "      <td>10887852</td>\n",
       "      <td>Cozy Hell's Kitchen Apt</td>\n",
       "      <td>39754804</td>\n",
       "      <td>Karen</td>\n",
       "      <td>Manhattan</td>\n",
       "      <td>Hell's Kitchen</td>\n",
       "      <td>40.76438</td>\n",
       "      <td>-73.99482</td>\n",
       "      <td>Entire home/apt</td>\n",
       "      <td>125</td>\n",
       "      <td>1</td>\n",
       "      <td>64</td>\n",
       "      <td>2019-06-22</td>\n",
       "      <td>1.88</td>\n",
       "      <td>1</td>\n",
       "      <td>0</td>\n",
       "    </tr>\n",
       "    <tr>\n",
       "      <th>14161</th>\n",
       "      <td>10887262</td>\n",
       "      <td>Kid's friendly two levels apartment with a yard</td>\n",
       "      <td>4343152</td>\n",
       "      <td>Anna</td>\n",
       "      <td>Manhattan</td>\n",
       "      <td>Harlem</td>\n",
       "      <td>40.81223</td>\n",
       "      <td>-73.94313</td>\n",
       "      <td>Entire home/apt</td>\n",
       "      <td>199</td>\n",
       "      <td>4</td>\n",
       "      <td>2</td>\n",
       "      <td>2016-10-11</td>\n",
       "      <td>0.05</td>\n",
       "      <td>1</td>\n",
       "      <td>0</td>\n",
       "    </tr>\n",
       "    <tr>\n",
       "      <th>28800</th>\n",
       "      <td>22241250</td>\n",
       "      <td>Newly renovated 1br in the heart of NY</td>\n",
       "      <td>4148879</td>\n",
       "      <td>Carlos</td>\n",
       "      <td>Manhattan</td>\n",
       "      <td>Flatiron District</td>\n",
       "      <td>40.74212</td>\n",
       "      <td>-73.99042</td>\n",
       "      <td>Entire home/apt</td>\n",
       "      <td>249</td>\n",
       "      <td>4</td>\n",
       "      <td>3</td>\n",
       "      <td>2019-05-22</td>\n",
       "      <td>0.16</td>\n",
       "      <td>1</td>\n",
       "      <td>0</td>\n",
       "    </tr>\n",
       "    <tr>\n",
       "      <th>...</th>\n",
       "      <td>...</td>\n",
       "      <td>...</td>\n",
       "      <td>...</td>\n",
       "      <td>...</td>\n",
       "      <td>...</td>\n",
       "      <td>...</td>\n",
       "      <td>...</td>\n",
       "      <td>...</td>\n",
       "      <td>...</td>\n",
       "      <td>...</td>\n",
       "      <td>...</td>\n",
       "      <td>...</td>\n",
       "      <td>...</td>\n",
       "      <td>...</td>\n",
       "      <td>...</td>\n",
       "      <td>...</td>\n",
       "    </tr>\n",
       "    <tr>\n",
       "      <th>37380</th>\n",
       "      <td>29674137</td>\n",
       "      <td>SOUTH RIVER VIEWS/DOORMAN-E 52nd ST</td>\n",
       "      <td>2856748</td>\n",
       "      <td>Ruchi</td>\n",
       "      <td>Manhattan</td>\n",
       "      <td>Midtown</td>\n",
       "      <td>40.75565</td>\n",
       "      <td>-73.96340</td>\n",
       "      <td>Entire home/apt</td>\n",
       "      <td>330</td>\n",
       "      <td>30</td>\n",
       "      <td>0</td>\n",
       "      <td>0</td>\n",
       "      <td>0.00</td>\n",
       "      <td>49</td>\n",
       "      <td>365</td>\n",
       "    </tr>\n",
       "    <tr>\n",
       "      <th>4892</th>\n",
       "      <td>3499016</td>\n",
       "      <td>House 1 Bed $100/ night per person</td>\n",
       "      <td>17618198</td>\n",
       "      <td>Edvaldo</td>\n",
       "      <td>Queens</td>\n",
       "      <td>Ditmars Steinway</td>\n",
       "      <td>40.77902</td>\n",
       "      <td>-73.90768</td>\n",
       "      <td>Private room</td>\n",
       "      <td>100</td>\n",
       "      <td>2</td>\n",
       "      <td>2</td>\n",
       "      <td>2014-09-22</td>\n",
       "      <td>0.03</td>\n",
       "      <td>1</td>\n",
       "      <td>365</td>\n",
       "    </tr>\n",
       "    <tr>\n",
       "      <th>37389</th>\n",
       "      <td>29676417</td>\n",
       "      <td>New York Moments (Ladies Only)</td>\n",
       "      <td>223248121</td>\n",
       "      <td>Julia</td>\n",
       "      <td>Manhattan</td>\n",
       "      <td>Kips Bay</td>\n",
       "      <td>40.74319</td>\n",
       "      <td>-73.98074</td>\n",
       "      <td>Shared room</td>\n",
       "      <td>39</td>\n",
       "      <td>2</td>\n",
       "      <td>1</td>\n",
       "      <td>2019-01-01</td>\n",
       "      <td>0.16</td>\n",
       "      <td>1</td>\n",
       "      <td>365</td>\n",
       "    </tr>\n",
       "    <tr>\n",
       "      <th>4874</th>\n",
       "      <td>3479019</td>\n",
       "      <td>Lovely and quiet Brownstone!!!!</td>\n",
       "      <td>17299359</td>\n",
       "      <td>Lionel</td>\n",
       "      <td>Brooklyn</td>\n",
       "      <td>Bedford-Stuyvesant</td>\n",
       "      <td>40.68448</td>\n",
       "      <td>-73.95854</td>\n",
       "      <td>Entire home/apt</td>\n",
       "      <td>175</td>\n",
       "      <td>3</td>\n",
       "      <td>4</td>\n",
       "      <td>2014-11-02</td>\n",
       "      <td>0.07</td>\n",
       "      <td>2</td>\n",
       "      <td>365</td>\n",
       "    </tr>\n",
       "    <tr>\n",
       "      <th>0</th>\n",
       "      <td>2539</td>\n",
       "      <td>Clean &amp; quiet apt home by the park</td>\n",
       "      <td>2787</td>\n",
       "      <td>John</td>\n",
       "      <td>Brooklyn</td>\n",
       "      <td>Kensington</td>\n",
       "      <td>40.64749</td>\n",
       "      <td>-73.97237</td>\n",
       "      <td>Private room</td>\n",
       "      <td>149</td>\n",
       "      <td>1</td>\n",
       "      <td>9</td>\n",
       "      <td>2018-10-19</td>\n",
       "      <td>0.21</td>\n",
       "      <td>6</td>\n",
       "      <td>365</td>\n",
       "    </tr>\n",
       "  </tbody>\n",
       "</table>\n",
       "<p>48511 rows × 16 columns</p>\n",
       "</div>"
      ],
      "text/plain": [
       "             id                                               name    host_id  \\\n",
       "24487  19701453  GardenViewApt 10min to Bushwick ArtScene,Food,...    5413500   \n",
       "28799  22238046                        Bronx 167th Grand ConCourse  162457374   \n",
       "14162  10887852                            Cozy Hell's Kitchen Apt   39754804   \n",
       "14161  10887262    Kid's friendly two levels apartment with a yard    4343152   \n",
       "28800  22241250             Newly renovated 1br in the heart of NY    4148879   \n",
       "...         ...                                                ...        ...   \n",
       "37380  29674137                SOUTH RIVER VIEWS/DOORMAN-E 52nd ST    2856748   \n",
       "4892    3499016                 House 1 Bed $100/ night per person   17618198   \n",
       "37389  29676417                     New York Moments (Ladies Only)  223248121   \n",
       "4874    3479019                    Lovely and quiet Brownstone!!!!   17299359   \n",
       "0          2539                 Clean & quiet apt home by the park       2787   \n",
       "\n",
       "      host_name neighbourhood_group       neighbourhood  latitude  longitude  \\\n",
       "24487   Rebecca              Queens           Ridgewood  40.70499  -73.91304   \n",
       "28799    Daniel               Bronx   Concourse Village  40.83314  -73.91708   \n",
       "14162     Karen           Manhattan      Hell's Kitchen  40.76438  -73.99482   \n",
       "14161      Anna           Manhattan              Harlem  40.81223  -73.94313   \n",
       "28800    Carlos           Manhattan   Flatiron District  40.74212  -73.99042   \n",
       "...         ...                 ...                 ...       ...        ...   \n",
       "37380     Ruchi           Manhattan             Midtown  40.75565  -73.96340   \n",
       "4892    Edvaldo              Queens    Ditmars Steinway  40.77902  -73.90768   \n",
       "37389     Julia           Manhattan            Kips Bay  40.74319  -73.98074   \n",
       "4874     Lionel            Brooklyn  Bedford-Stuyvesant  40.68448  -73.95854   \n",
       "0          John            Brooklyn          Kensington  40.64749  -73.97237   \n",
       "\n",
       "             room_type  price  minimum_nights  number_of_reviews last_review  \\\n",
       "24487  Entire home/apt     95               3                  0           0   \n",
       "28799     Private room     38               2                  0           0   \n",
       "14162  Entire home/apt    125               1                 64  2019-06-22   \n",
       "14161  Entire home/apt    199               4                  2  2016-10-11   \n",
       "28800  Entire home/apt    249               4                  3  2019-05-22   \n",
       "...                ...    ...             ...                ...         ...   \n",
       "37380  Entire home/apt    330              30                  0           0   \n",
       "4892      Private room    100               2                  2  2014-09-22   \n",
       "37389      Shared room     39               2                  1  2019-01-01   \n",
       "4874   Entire home/apt    175               3                  4  2014-11-02   \n",
       "0         Private room    149               1                  9  2018-10-19   \n",
       "\n",
       "       reviews_per_month  calculated_host_listings_count  availability_365  \n",
       "24487               0.00                               1                 0  \n",
       "28799               0.00                               1                 0  \n",
       "14162               1.88                               1                 0  \n",
       "14161               0.05                               1                 0  \n",
       "28800               0.16                               1                 0  \n",
       "...                  ...                             ...               ...  \n",
       "37380               0.00                              49               365  \n",
       "4892                0.03                               1               365  \n",
       "37389               0.16                               1               365  \n",
       "4874                0.07                               2               365  \n",
       "0                   0.21                               6               365  \n",
       "\n",
       "[48511 rows x 16 columns]"
      ]
     },
     "execution_count": 35,
     "metadata": {},
     "output_type": "execute_result"
    }
   ],
   "source": [
    "data.sort_values(by=['availability_365'])"
   ]
  },
  {
   "cell_type": "code",
   "execution_count": 36,
   "metadata": {
    "execution": {
     "iopub.execute_input": "2021-10-24T18:47:24.566545Z",
     "iopub.status.busy": "2021-10-24T18:47:24.565583Z",
     "iopub.status.idle": "2021-10-24T18:47:24.803742Z",
     "shell.execute_reply": "2021-10-24T18:47:24.803098Z",
     "shell.execute_reply.started": "2021-10-23T07:23:29.914984Z"
    },
    "papermill": {
     "duration": 0.313903,
     "end_time": "2021-10-24T18:47:24.803851",
     "exception": false,
     "start_time": "2021-10-24T18:47:24.489948",
     "status": "completed"
    },
    "tags": []
   },
   "outputs": [
    {
     "data": {
      "text/plain": [
       "(array([19445.,  1269.,   959.,   906.,   894.,   714.,   696.,   615.,\n",
       "          612.,   657.,   685.,   804.,  1018.,   430.,   282.,   285.,\n",
       "          331.,   438.,   328.,   317.,   386.,   565.,   400.,   528.,\n",
       "          822.,   552.,   303.,   257.,   268.,   290.,   386.,   288.,\n",
       "          327.,   432.,   475.,   352.,   490.,   350.,   549.,   329.,\n",
       "          447.,   413.,   703.,   584.,   629.,   776.,  1041.,   625.,\n",
       "          637.,  2622.]),\n",
       " array([  0. ,   7.3,  14.6,  21.9,  29.2,  36.5,  43.8,  51.1,  58.4,\n",
       "         65.7,  73. ,  80.3,  87.6,  94.9, 102.2, 109.5, 116.8, 124.1,\n",
       "        131.4, 138.7, 146. , 153.3, 160.6, 167.9, 175.2, 182.5, 189.8,\n",
       "        197.1, 204.4, 211.7, 219. , 226.3, 233.6, 240.9, 248.2, 255.5,\n",
       "        262.8, 270.1, 277.4, 284.7, 292. , 299.3, 306.6, 313.9, 321.2,\n",
       "        328.5, 335.8, 343.1, 350.4, 357.7, 365. ]),\n",
       " <a list of 50 Patch objects>)"
      ]
     },
     "execution_count": 36,
     "metadata": {},
     "output_type": "execute_result"
    },
    {
     "data": {
      "image/png": "[encoded data removed]",
      "text/plain": [
       "<Figure size 432x288 with 1 Axes>"
      ]
     },
     "metadata": {
      "needs_background": "light"
     },
     "output_type": "display_data"
    }
   ],
   "source": [
    "plt.hist(data.availability_365, bins=50)"
   ]
  },
  {
   "cell_type": "markdown",
   "metadata": {
    "papermill": {
     "duration": 0.075418,
     "end_time": "2021-10-24T18:47:24.954876",
     "exception": false,
     "start_time": "2021-10-24T18:47:24.879458",
     "status": "completed"
    },
    "tags": []
   },
   "source": [
    "This is completely compact data and it's very good feature to predict datas."
   ]
  },
  {
   "cell_type": "code",
   "execution_count": 37,
   "metadata": {
    "execution": {
     "iopub.execute_input": "2021-10-24T18:47:25.107386Z",
     "iopub.status.busy": "2021-10-24T18:47:25.106423Z",
     "iopub.status.idle": "2021-10-24T18:47:25.111896Z",
     "shell.execute_reply": "2021-10-24T18:47:25.112456Z",
     "shell.execute_reply.started": "2021-10-23T07:23:30.210553Z"
    },
    "papermill": {
     "duration": 0.082712,
     "end_time": "2021-10-24T18:47:25.112585",
     "exception": false,
     "start_time": "2021-10-24T18:47:25.029873",
     "status": "completed"
    },
    "tags": []
   },
   "outputs": [
    {
     "data": {
      "text/plain": [
       "48511"
      ]
     },
     "execution_count": 37,
     "metadata": {},
     "output_type": "execute_result"
    }
   ],
   "source": [
    "len(data)"
   ]
  },
  {
   "cell_type": "markdown",
   "metadata": {
    "papermill": {
     "duration": 0.073369,
     "end_time": "2021-10-24T18:47:25.259014",
     "exception": false,
     "start_time": "2021-10-24T18:47:25.185645",
     "status": "completed"
    },
    "tags": []
   },
   "source": [
    "**So now I have 48511 compact data that I can ask question and answer by these datas.**"
   ]
  },
  {
   "cell_type": "markdown",
   "metadata": {
    "papermill": {
     "duration": 0.072857,
     "end_time": "2021-10-24T18:47:25.405339",
     "exception": false,
     "start_time": "2021-10-24T18:47:25.332482",
     "status": "completed"
    },
    "tags": []
   },
   "source": [
    "1. Which neighborhood has the most hosts?"
   ]
  },
  {
   "cell_type": "code",
   "execution_count": 38,
   "metadata": {
    "execution": {
     "iopub.execute_input": "2021-10-24T18:47:25.554146Z",
     "iopub.status.busy": "2021-10-24T18:47:25.553224Z",
     "iopub.status.idle": "2021-10-24T18:47:25.573965Z",
     "shell.execute_reply": "2021-10-24T18:47:25.574730Z",
     "shell.execute_reply.started": "2021-10-23T07:23:30.220555Z"
    },
    "papermill": {
     "duration": 0.096366,
     "end_time": "2021-10-24T18:47:25.574917",
     "exception": false,
     "start_time": "2021-10-24T18:47:25.478551",
     "status": "completed"
    },
    "tags": []
   },
   "outputs": [
    {
     "name": "stdout",
     "output_type": "stream",
     "text": [
      "neighbourhood\n",
      "Williamsburg          3904\n",
      "Bedford-Stuyvesant    3700\n",
      "Harlem                2642\n",
      "Bushwick              2457\n",
      "Hell's Kitchen        1944\n",
      "                      ... \n",
      "Willowbrook              1\n",
      "Richmondtown             1\n",
      "New Dorp                 1\n",
      "Woodrow                  1\n",
      "Fort Wadsworth           1\n",
      "Name: neighbourhood, Length: 221, dtype: int64\n"
     ]
    }
   ],
   "source": [
    "a=data.groupby(by=['neighbourhood']).neighbourhood.count()\n",
    "a = a.sort_values(ascending=False)\n",
    "print(a)"
   ]
  },
  {
   "cell_type": "markdown",
   "metadata": {
    "papermill": {
     "duration": 0.073795,
     "end_time": "2021-10-24T18:47:25.723523",
     "exception": false,
     "start_time": "2021-10-24T18:47:25.649728",
     "status": "completed"
    },
    "tags": []
   },
   "source": [
    "2. Which neighborhood has the most expensive?"
   ]
  },
  {
   "cell_type": "code",
   "execution_count": 39,
   "metadata": {
    "execution": {
     "iopub.execute_input": "2021-10-24T18:47:25.880509Z",
     "iopub.status.busy": "2021-10-24T18:47:25.878094Z",
     "iopub.status.idle": "2021-10-24T18:47:25.891576Z",
     "shell.execute_reply": "2021-10-24T18:47:25.892210Z",
     "shell.execute_reply.started": "2021-10-23T07:23:30.249502Z"
    },
    "papermill": {
     "duration": 0.094501,
     "end_time": "2021-10-24T18:47:25.892352",
     "exception": false,
     "start_time": "2021-10-24T18:47:25.797851",
     "status": "completed"
    },
    "tags": []
   },
   "outputs": [
    {
     "name": "stdout",
     "output_type": "stream",
     "text": [
      "neighbourhood\n",
      "Fort Wadsworth       800.000000\n",
      "Woodrow              700.000000\n",
      "Tribeca              328.902439\n",
      "NoHo                 276.246753\n",
      "Flatiron District    275.052632\n",
      "                        ...    \n",
      "New Dorp              57.000000\n",
      "Soundview             53.466667\n",
      "Tremont               51.545455\n",
      "Hunts Point           50.500000\n",
      "Bull's Head           47.333333\n",
      "Name: price, Length: 221, dtype: float64\n"
     ]
    }
   ],
   "source": [
    "a=data.groupby(by=['neighbourhood']).price.mean()\n",
    "a = a.sort_values(ascending=False)\n",
    "print(a)"
   ]
  },
  {
   "cell_type": "markdown",
   "metadata": {
    "papermill": {
     "duration": 0.07383,
     "end_time": "2021-10-24T18:47:26.040351",
     "exception": false,
     "start_time": "2021-10-24T18:47:25.966521",
     "status": "completed"
    },
    "tags": []
   },
   "source": [
    "3. Which room_type Airbnb has?"
   ]
  },
  {
   "cell_type": "code",
   "execution_count": 40,
   "metadata": {
    "execution": {
     "iopub.execute_input": "2021-10-24T18:47:26.195380Z",
     "iopub.status.busy": "2021-10-24T18:47:26.194442Z",
     "iopub.status.idle": "2021-10-24T18:47:26.212597Z",
     "shell.execute_reply": "2021-10-24T18:47:26.213087Z",
     "shell.execute_reply.started": "2021-10-23T07:23:30.274355Z"
    },
    "papermill": {
     "duration": 0.096855,
     "end_time": "2021-10-24T18:47:26.213243",
     "exception": false,
     "start_time": "2021-10-24T18:47:26.116388",
     "status": "completed"
    },
    "tags": []
   },
   "outputs": [
    {
     "name": "stdout",
     "output_type": "stream",
     "text": [
      "room_type\n",
      "Entire home/apt    25146\n",
      "Private room       22210\n",
      "Shared room         1155\n",
      "Name: room_type, dtype: int64\n"
     ]
    }
   ],
   "source": [
    "a=data.groupby(by=['room_type']).room_type.count()\n",
    "a = a.sort_values(ascending=False)\n",
    "print(a)"
   ]
  },
  {
   "cell_type": "markdown",
   "metadata": {
    "papermill": {
     "duration": 0.07421,
     "end_time": "2021-10-24T18:47:26.362498",
     "exception": false,
     "start_time": "2021-10-24T18:47:26.288288",
     "status": "completed"
    },
    "tags": []
   },
   "source": [
    "4. Which room_type have more reviews?"
   ]
  },
  {
   "cell_type": "code",
   "execution_count": 41,
   "metadata": {
    "execution": {
     "iopub.execute_input": "2021-10-24T18:47:26.517042Z",
     "iopub.status.busy": "2021-10-24T18:47:26.516009Z",
     "iopub.status.idle": "2021-10-24T18:47:26.530542Z",
     "shell.execute_reply": "2021-10-24T18:47:26.531028Z",
     "shell.execute_reply.started": "2021-10-23T07:23:30.302572Z"
    },
    "papermill": {
     "duration": 0.094132,
     "end_time": "2021-10-24T18:47:26.531186",
     "exception": false,
     "start_time": "2021-10-24T18:47:26.437054",
     "status": "completed"
    },
    "tags": []
   },
   "outputs": [
    {
     "name": "stdout",
     "output_type": "stream",
     "text": [
      "room_type\n",
      "Entire home/apt    573610\n",
      "Private room       524009\n",
      "Shared room         18796\n",
      "Name: number_of_reviews, dtype: int64\n"
     ]
    }
   ],
   "source": [
    "a=data.groupby(by=['room_type']).number_of_reviews.sum()\n",
    "a = a.sort_values(ascending=False)\n",
    "print(a)"
   ]
  },
  {
   "cell_type": "markdown",
   "metadata": {
    "papermill": {
     "duration": 0.075766,
     "end_time": "2021-10-24T18:47:26.681284",
     "exception": false,
     "start_time": "2021-10-24T18:47:26.605518",
     "status": "completed"
    },
    "tags": []
   },
   "source": [
    "5. Which hosts has more cabin?"
   ]
  },
  {
   "cell_type": "code",
   "execution_count": 42,
   "metadata": {
    "execution": {
     "iopub.execute_input": "2021-10-24T18:47:26.834833Z",
     "iopub.status.busy": "2021-10-24T18:47:26.833804Z",
     "iopub.status.idle": "2021-10-24T18:47:26.873417Z",
     "shell.execute_reply": "2021-10-24T18:47:26.872670Z",
     "shell.execute_reply.started": "2021-10-23T07:23:30.325363Z"
    },
    "papermill": {
     "duration": 0.117592,
     "end_time": "2021-10-24T18:47:26.873579",
     "exception": false,
     "start_time": "2021-10-24T18:47:26.755987",
     "status": "completed"
    },
    "tags": []
   },
   "outputs": [
    {
     "name": "stdout",
     "output_type": "stream",
     "text": [
      "host_name\n",
      "Michael           413\n",
      "David             397\n",
      "Sonder (NYC)      327\n",
      "John              292\n",
      "Alex              278\n",
      "                 ... \n",
      "Mariia              1\n",
      "Marilee & Gene      1\n",
      "Marilena            1\n",
      "Marilynn            1\n",
      "'Cil                1\n",
      "Name: host_name, Length: 11394, dtype: int64\n"
     ]
    }
   ],
   "source": [
    "a=data.groupby(by=['host_name']).host_name.count()\n",
    "a = a.sort_values(ascending=False)\n",
    "print(a)"
   ]
  },
  {
   "cell_type": "markdown",
   "metadata": {
    "papermill": {
     "duration": 0.074981,
     "end_time": "2021-10-24T18:47:27.024517",
     "exception": false,
     "start_time": "2021-10-24T18:47:26.949536",
     "status": "completed"
    },
    "tags": []
   },
   "source": [
    "6. Which host has the cheapest cabins?"
   ]
  },
  {
   "cell_type": "code",
   "execution_count": 43,
   "metadata": {
    "execution": {
     "iopub.execute_input": "2021-10-24T18:47:27.183251Z",
     "iopub.status.busy": "2021-10-24T18:47:27.182311Z",
     "iopub.status.idle": "2021-10-24T18:47:27.216971Z",
     "shell.execute_reply": "2021-10-24T18:47:27.216471Z",
     "shell.execute_reply.started": "2021-10-23T07:23:30.368503Z"
    },
    "papermill": {
     "duration": 0.113115,
     "end_time": "2021-10-24T18:47:27.217083",
     "exception": false,
     "start_time": "2021-10-24T18:47:27.103968",
     "status": "completed"
    },
    "tags": []
   },
   "outputs": [
    {
     "name": "stdout",
     "output_type": "stream",
     "text": [
      "host_name\n",
      "Aymeric                 0.0\n",
      "Qiuchi                  0.0\n",
      "Vishanti & Jeremy      10.0\n",
      "Salim                  10.0\n",
      "Miquel                 16.0\n",
      "                      ...  \n",
      "Gina & Alex          1000.0\n",
      "Townsend             1000.0\n",
      "David & Javier       1000.0\n",
      "Ashly                1000.0\n",
      "Odette               1000.0\n",
      "Name: price, Length: 11394, dtype: float64\n"
     ]
    }
   ],
   "source": [
    "a=data.groupby(by=['host_name']).price.mean()\n",
    "a = a.sort_values(ascending=True)\n",
    "print(a)"
   ]
  },
  {
   "cell_type": "markdown",
   "metadata": {
    "papermill": {
     "duration": 0.074563,
     "end_time": "2021-10-24T18:47:27.367787",
     "exception": false,
     "start_time": "2021-10-24T18:47:27.293224",
     "status": "completed"
    },
    "tags": []
   },
   "source": [
    "7. Which neighbourhood_group is the biggest one?"
   ]
  },
  {
   "cell_type": "code",
   "execution_count": 1,
   "metadata": {
    "execution": {
     "iopub.execute_input": "2021-10-24T18:47:27.525681Z",
     "iopub.status.busy": "2021-10-24T18:47:27.524780Z",
     "iopub.status.idle": "2021-10-24T18:47:27.542504Z",
     "shell.execute_reply": "2021-10-24T18:47:27.543016Z",
     "shell.execute_reply.started": "2021-10-23T07:23:30.409667Z"
    },
    "papermill": {
     "duration": 0.096325,
     "end_time": "2021-10-24T18:47:27.543156",
     "exception": false,
     "start_time": "2021-10-24T18:47:27.446831",
     "status": "completed"
    },
    "tags": []
   },
   "outputs": [
    {
     "ename": "NameError",
     "evalue": "name 'data' is not defined",
     "output_type": "error",
     "traceback": [
      "\u001b[31m---------------------------------------------------------------------------\u001b[39m",
      "\u001b[31mNameError\u001b[39m                                 Traceback (most recent call last)",
      "\u001b[36mCell\u001b[39m\u001b[36m \u001b[39m\u001b[32mIn[1]\u001b[39m\u001b[32m, line 1\u001b[39m\n\u001b[32m----> \u001b[39m\u001b[32m1\u001b[39m a=\u001b[43mdata\u001b[49m.groupby(by=[\u001b[33m'\u001b[39m\u001b[33mneighbourhood_group\u001b[39m\u001b[33m'\u001b[39m]).neighbourhood_group.count()\n\u001b[32m      2\u001b[39m a = a.sort_values(ascending=\u001b[38;5;28;01mFalse\u001b[39;00m)\n\u001b[32m      3\u001b[39m \u001b[38;5;28mprint\u001b[39m(a)\n",
      "\u001b[31mNameError\u001b[39m: name 'data' is not defined"
     ]
    }
   ],
   "source": [
    "a=data.groupby(by=['neighbourhood_group']).neighbourhood_group.count()\n",
    "a = a.sort_values(ascending=False)\n",
    "print(a)"
   ]
  },
  {
   "cell_type": "markdown",
   "metadata": {
    "papermill": {
     "duration": 0.075006,
     "end_time": "2021-10-24T18:47:27.692713",
     "exception": false,
     "start_time": "2021-10-24T18:47:27.617707",
     "status": "completed"
    },
    "tags": []
   },
   "source": [
    "8. Which neighbourhood_group is the most expensive?"
   ]
  },
  {
   "cell_type": "code",
   "execution_count": 45,
   "metadata": {
    "execution": {
     "iopub.execute_input": "2021-10-24T18:47:27.851099Z",
     "iopub.status.busy": "2021-10-24T18:47:27.849551Z",
     "iopub.status.idle": "2021-10-24T18:47:27.860911Z",
     "shell.execute_reply": "2021-10-24T18:47:27.861410Z",
     "shell.execute_reply.started": "2021-10-23T07:23:30.43448Z"
    },
    "papermill": {
     "duration": 0.093318,
     "end_time": "2021-10-24T18:47:27.861561",
     "exception": false,
     "start_time": "2021-10-24T18:47:27.768243",
     "status": "completed"
    },
    "tags": []
   },
   "outputs": [
    {
     "name": "stdout",
     "output_type": "stream",
     "text": [
      "neighbourhood_group\n",
      "Manhattan        179.042486\n",
      "Brooklyn         117.784204\n",
      "Staten Island     98.581081\n",
      "Queens            95.141208\n",
      "Bronx             85.284269\n",
      "Name: price, dtype: float64\n"
     ]
    }
   ],
   "source": [
    "a=data.groupby(by=['neighbourhood_group']).price.mean()\n",
    "a = a.sort_values(ascending=False)\n",
    "print(a)"
   ]
  },
  {
   "cell_type": "markdown",
   "metadata": {
    "papermill": {
     "duration": 0.077146,
     "end_time": "2021-10-24T18:47:28.016233",
     "exception": false,
     "start_time": "2021-10-24T18:47:27.939087",
     "status": "completed"
    },
    "tags": []
   },
   "source": [
    "9. Which neighbourhood_group has the most possibility to available in year?"
   ]
  },
  {
   "cell_type": "code",
   "execution_count": 46,
   "metadata": {
    "execution": {
     "iopub.execute_input": "2021-10-24T18:47:28.175042Z",
     "iopub.status.busy": "2021-10-24T18:47:28.173975Z",
     "iopub.status.idle": "2021-10-24T18:47:28.187877Z",
     "shell.execute_reply": "2021-10-24T18:47:28.188486Z",
     "shell.execute_reply.started": "2021-10-23T07:23:30.453605Z"
    },
    "papermill": {
     "duration": 0.095203,
     "end_time": "2021-10-24T18:47:28.188652",
     "exception": false,
     "start_time": "2021-10-24T18:47:28.093449",
     "status": "completed"
    },
    "tags": []
   },
   "outputs": [
    {
     "name": "stdout",
     "output_type": "stream",
     "text": [
      "neighbourhood_group\n",
      "Manhattan        2381892\n",
      "Brooklyn         1998204\n",
      "Queens            810714\n",
      "Bronx             179910\n",
      "Staten Island      73771\n",
      "Name: availability_365, dtype: int64\n"
     ]
    }
   ],
   "source": [
    "a=data.groupby(by=['neighbourhood_group']).availability_365.sum()\n",
    "a = a.sort_values(ascending=False)\n",
    "print(a)"
   ]
  },
  {
   "cell_type": "markdown",
   "metadata": {
    "papermill": {
     "duration": 0.077009,
     "end_time": "2021-10-24T18:47:28.342530",
     "exception": false,
     "start_time": "2021-10-24T18:47:28.265521",
     "status": "completed"
    },
    "tags": []
   },
   "source": [
    "10. Which neighbourhood has the most possibility to available in year?"
   ]
  },
  {
   "cell_type": "code",
   "execution_count": 47,
   "metadata": {
    "execution": {
     "iopub.execute_input": "2021-10-24T18:47:28.499813Z",
     "iopub.status.busy": "2021-10-24T18:47:28.498784Z",
     "iopub.status.idle": "2021-10-24T18:47:28.514361Z",
     "shell.execute_reply": "2021-10-24T18:47:28.515070Z",
     "shell.execute_reply.started": "2021-10-23T07:24:49.89539Z"
    },
    "papermill": {
     "duration": 0.096867,
     "end_time": "2021-10-24T18:47:28.515283",
     "exception": false,
     "start_time": "2021-10-24T18:47:28.418416",
     "status": "completed"
    },
    "tags": []
   },
   "outputs": [
    {
     "name": "stdout",
     "output_type": "stream",
     "text": [
      "neighbourhood\n",
      "Bedford-Stuyvesant            430899\n",
      "Williamsburg                  290582\n",
      "Harlem                        279836\n",
      "Hell's Kitchen                269681\n",
      "Midtown                       237567\n",
      "                               ...  \n",
      "Sea Gate                         199\n",
      "Rossville                         59\n",
      "New Dorp                           0\n",
      "Bay Terrace, Staten Island         0\n",
      "Woodrow                            0\n",
      "Name: availability_365, Length: 221, dtype: int64\n"
     ]
    }
   ],
   "source": [
    "a=data.groupby(by=['neighbourhood']).availability_365.sum()\n",
    "a = a.sort_values(ascending=False)\n",
    "print(a)"
   ]
  },
  {
   "cell_type": "markdown",
   "metadata": {
    "papermill": {
     "duration": 0.077216,
     "end_time": "2021-10-24T18:47:28.669830",
     "exception": false,
     "start_time": "2021-10-24T18:47:28.592614",
     "status": "completed"
    },
    "tags": []
   },
   "source": [
    "11. Which neigbourhood_group has the best hosts to stay for a few nights?"
   ]
  },
  {
   "cell_type": "code",
   "execution_count": 48,
   "metadata": {
    "execution": {
     "iopub.execute_input": "2021-10-24T18:47:28.831380Z",
     "iopub.status.busy": "2021-10-24T18:47:28.830740Z",
     "iopub.status.idle": "2021-10-24T18:47:28.840923Z",
     "shell.execute_reply": "2021-10-24T18:47:28.841902Z",
     "shell.execute_reply.started": "2021-10-23T07:27:40.242157Z"
    },
    "papermill": {
     "duration": 0.094947,
     "end_time": "2021-10-24T18:47:28.842149",
     "exception": false,
     "start_time": "2021-10-24T18:47:28.747202",
     "status": "completed"
    },
    "tags": []
   },
   "outputs": [
    {
     "name": "stdout",
     "output_type": "stream",
     "text": [
      "neighbourhood_group\n",
      "Staten Island    3.843243\n",
      "Bronx            4.235511\n",
      "Queens           4.846714\n",
      "Brooklyn         5.576906\n",
      "Manhattan        7.798730\n",
      "Name: minimum_nights, dtype: float64\n"
     ]
    }
   ],
   "source": [
    "a=data.groupby(by=['neighbourhood_group']).minimum_nights.mean()\n",
    "a = a.sort_values(ascending=True)\n",
    "print(a)"
   ]
  },
  {
   "cell_type": "markdown",
   "metadata": {
    "papermill": {
     "duration": 0.078675,
     "end_time": "2021-10-24T18:47:29.000127",
     "exception": false,
     "start_time": "2021-10-24T18:47:28.921452",
     "status": "completed"
    },
    "tags": []
   },
   "source": [
    "11. Which neigbourhood has the best hosts to stay for a few nights?"
   ]
  },
  {
   "cell_type": "code",
   "execution_count": 49,
   "metadata": {
    "execution": {
     "iopub.execute_input": "2021-10-24T18:47:29.189215Z",
     "iopub.status.busy": "2021-10-24T18:47:29.188558Z",
     "iopub.status.idle": "2021-10-24T18:47:29.208679Z",
     "shell.execute_reply": "2021-10-24T18:47:29.209351Z",
     "shell.execute_reply.started": "2021-10-23T07:27:51.741741Z"
    },
    "papermill": {
     "duration": 0.112587,
     "end_time": "2021-10-24T18:47:29.209516",
     "exception": false,
     "start_time": "2021-10-24T18:47:29.096929",
     "status": "completed"
    },
    "tags": []
   },
   "outputs": [
    {
     "name": "stdout",
     "output_type": "stream",
     "text": [
      "neighbourhood\n",
      "New Dorp                       1.000000\n",
      "Breezy Point                   1.000000\n",
      "Oakwood                        1.200000\n",
      "East Morrisania                1.400000\n",
      "Woodlawn                       1.454545\n",
      "                                ...    \n",
      "Mount Hope                    15.950000\n",
      "Bay Terrace, Staten Island    16.500000\n",
      "Battery Park City             16.731343\n",
      "Olinville                     23.500000\n",
      "Spuyten Duyvil                48.250000\n",
      "Name: minimum_nights, Length: 221, dtype: float64\n"
     ]
    }
   ],
   "source": [
    "a=data.groupby(by=['neighbourhood']).minimum_nights.mean()\n",
    "a = a.sort_values(ascending=True)\n",
    "print(a)"
   ]
  },
  {
   "cell_type": "markdown",
   "metadata": {
    "papermill": {
     "duration": 0.100304,
     "end_time": "2021-10-24T18:47:29.399994",
     "exception": false,
     "start_time": "2021-10-24T18:47:29.299690",
     "status": "completed"
    },
    "tags": []
   },
   "source": [
    "12. Which host_name is the most popular hosts between customers?"
   ]
  },
  {
   "cell_type": "code",
   "execution_count": 50,
   "metadata": {
    "execution": {
     "iopub.execute_input": "2021-10-24T18:47:29.564774Z",
     "iopub.status.busy": "2021-10-24T18:47:29.563791Z",
     "iopub.status.idle": "2021-10-24T18:47:29.595139Z",
     "shell.execute_reply": "2021-10-24T18:47:29.594410Z",
     "shell.execute_reply.started": "2021-10-23T07:35:45.376629Z"
    },
    "papermill": {
     "duration": 0.115914,
     "end_time": "2021-10-24T18:47:29.595303",
     "exception": false,
     "start_time": "2021-10-24T18:47:29.479389",
     "status": "completed"
    },
    "tags": []
   },
   "outputs": [
    {
     "name": "stdout",
     "output_type": "stream",
     "text": [
      "host_name\n",
      "Sonder (NYC)      327.000000\n",
      "Blueground        232.000000\n",
      "Kazuya            103.000000\n",
      "Kara              102.390071\n",
      "Jeremy & Laura     96.000000\n",
      "                     ...    \n",
      "Meygan              1.000000\n",
      "Meya                1.000000\n",
      "Mey                 1.000000\n",
      "Mette               1.000000\n",
      "'Cil                1.000000\n",
      "Name: calculated_host_listings_count, Length: 11394, dtype: float64\n"
     ]
    }
   ],
   "source": [
    "a=data.groupby(by=['host_name']).calculated_host_listings_count.mean()\n",
    "a = a.sort_values(ascending=False)\n",
    "print(a)"
   ]
  },
  {
   "cell_type": "markdown",
   "metadata": {
    "papermill": {
     "duration": 0.077962,
     "end_time": "2021-10-24T18:47:29.752091",
     "exception": false,
     "start_time": "2021-10-24T18:47:29.674129",
     "status": "completed"
    },
    "tags": []
   },
   "source": [
    "I used first few lines of https://www.kaggle.com/dineshkumaranbalagan/nyc-airbnb-deep-data-geospatial-analysis to have a better written code."
   ]
  }
 ],
 "metadata": {
  "kernelspec": {
   "display_name": "Python 3",
   "language": "python",
   "name": "python3"
  },
  "language_info": {
   "codemirror_mode": {
    "name": "ipython",
    "version": 3
   },
   "file_extension": ".py",
   "mimetype": "text/x-python",
   "name": "python",
   "nbconvert_exporter": "python",
   "pygments_lexer": "ipython3",
   "version": "3.13.0"
  },
  "papermill": {
   "duration": 19.628209,
   "end_time": "2021-10-24T18:47:29.938566",
   "environment_variables": {},
   "exception": null,
   "input_path": "__notebook__.ipynb",
   "output_path": "__notebook__.ipynb",
   "parameters": {},
   "start_time": "2021-10-24T18:47:10.310357",
   "version": "2.1.0"
  }
 },
 "nbformat": 4,
 "nbformat_minor": 4
}
